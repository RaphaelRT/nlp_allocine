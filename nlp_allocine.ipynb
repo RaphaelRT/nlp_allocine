{
 "cells": [
  {
   "cell_type": "code",
   "execution_count": 229,
   "metadata": {
    "cell_id": "00001-15f986f0-fc31-41b9-ae79-fc7d816e57f0",
    "deepnote_cell_type": "code",
    "deepnote_to_be_reexecuted": false,
    "execution_millis": 12649,
    "execution_start": 1620224692117,
    "source_hash": "d33a2842",
    "tags": []
   },
   "outputs": [
    {
     "name": "stderr",
     "output_type": "stream",
     "text": [
      "[nltk_data] Downloading package punkt to /root/nltk_data...\n",
      "[nltk_data]   Package punkt is already up-to-date!\n",
      "[nltk_data] Downloading package wordnet to /root/nltk_data...\n",
      "[nltk_data]   Package wordnet is already up-to-date!\n",
      "[nltk_data] Downloading package stopwords to /root/nltk_data...\n",
      "[nltk_data]   Package stopwords is already up-to-date!\n",
      "\u001b[38;5;2m✔ Download and installation successful\u001b[0m\n",
      "You can now load the package via spacy.load('fr_core_news_md')\n"
     ]
    }
   ],
   "source": [
    "#import all\n",
    "import pandas as pd \n",
    "import matplotlib.pyplot as plt\n",
    "import numpy as np\n",
    "\n",
    "import nltk\n",
    "from nltk.corpus import stopwords\n",
    "from nltk.stem import SnowballStemmer\n",
    "from nltk import word_tokenize\n",
    "nltk.download(['punkt','wordnet','stopwords'])\n",
    "import re\n",
    "\n",
    "from wordcloud import WordCloud\n",
    "import spacy.cli\n",
    "spacy.cli.download(\"fr_core_news_md\")\n",
    "nlp = spacy.load('fr_core_news_md')\n",
    "\n",
    "from sklearn.model_selection import train_test_split\n",
    "from keras.models import Sequential\n",
    "import tensorflow_docs as tfdocs\n",
    "\n",
    "from tensorflow.keras import layers\n",
    "from sklearn.preprocessing import MinMaxScaler    \n",
    "from sklearn.metrics import confusion_matrix\n",
    "\n",
    "\n",
    "import tensorflow_docs.modeling\n",
    "from keras.layers import Dense\n",
    "\n",
    "import tensorflow as tf\n",
    "tf.__version__\n",
    "from tensorflow import keras\n",
    "from tensorflow.keras import layers\n",
    "import numpy as np\n",
    "\n",
    "from sklearn import preprocessing\n",
    "\n",
    "import tensorflow_docs.plots\n",
    "\n",
    "from datetime import datetime\n",
    "\n",
    "from scipy import stats\n",
    "from sklearn.linear_model import LinearRegression, LogisticRegression"
   ]
  },
  {
   "cell_type": "code",
   "execution_count": 192,
   "metadata": {
    "cell_id": "00002-bd3a98b1-80de-40d1-9ba4-456ebe5f9256",
    "deepnote_cell_type": "code",
    "deepnote_to_be_reexecuted": false,
    "execution_millis": 41,
    "execution_start": 1620224103761,
    "source_hash": "c86411b8",
    "tags": []
   },
   "outputs": [
    {
     "name": "stdout",
     "output_type": "stream",
     "text": [
      "Note                                                             5,0\n",
      "Description        Le matin, quand il fait bon et beau, normal qu...\n",
      "Date                                      Publiée le 18 juillet 2014\n",
      "nombre_good_bad    39\\n        \\n\\n    \\n\\n    \\n    \\n          ...\n",
      "nombre_follow                                    Suivre son activité\n",
      "key                                                                2\n",
      "Name: 2, dtype: object\n"
     ]
    },
    {
     "data": {
      "application/vnd.deepnote.dataframe.v2+json": {
       "column_count": 6,
       "columns": [
        {
         "dtype": "object",
         "name": "Note",
         "stats": {
          "categories": [
           {
            "count": 4,
            "name": "5,0"
           },
           {
            "count": 1,
            "name": "4,5"
           }
          ],
          "nan_count": 0,
          "unique_count": 2
         }
        },
        {
         "dtype": "object",
         "name": "Description",
         "stats": {
          "categories": [
           {
            "count": 1,
            "name": "Forrest Gump de Robert Zemeckis (réalisateur de la trilogie \"Retour vers le futur\") signe ici son meilleur film. Puissant, touchant, émouvant, aucun adjectif ne pourrait décrire ce film qui à marqué de nombreux cinéphiles à travers le monde. Dans ce film, le réalisateur fourmille d'idées pour rendre la vie de cet homme palpitant et unique. On s'imprègne des joies et des peines de ce dernier. Bref on suit ces émotions. Et c'est peut-être la que le film fait la différence. On se reconnaît à travers lui, car chacun au plus profond de nous-mêmes, nous sommes passés par ses étapes qui caractérisent nos vies. L'amour, la mort d'un proche. \n    spoiler: \n    La mort de Jenny m'a bouleversé, je chialais comme une grosse merde\n\n\nTantôt on rit, tantôt on pleure avec Forrest. \n\nDe plus le film se distingue des autres car il fait passer pleins de différents messages. L'idée de voir à travers les yeux d\"un simplet l'histoire de l'Amérique du XX ème siècle était brillante. Le fait de voir qu'il est à l'origine de nombreuses choses comme \n    spoiler: \n    la création de la marque \"Apple\" ou encore qu'il est à l'origine du smiley\n\n,  est en soit un message, car, les préjugés dont il fait l'objet tout au long du film ne l'empêche aucunement de se construire la vie dont il rêvait. C'est un message d'espoir. \n\nLes acteurs (Surtout Tom Hanks) sont géniaux et jouent leurs rôles à la perfection. La réalisation est très belle, à quelque chose de vraiment poétique et s'accorde bien avec les musiques. Zemeckis à vraiment eu bon sur toute la ligne et à mérité qu'on lui décerne l'oscar du meilleur réalisateur (Bravo aussi à Tom Hanks pour son oscar du meilleur acteur ...\n\nCe film est un chef d’œuvre et restera, pour moi, l'un des plus grands films jamais réalisés à ce jour. Un hymne à la vie. Un vraie tour de force pour un réalisateur en panne d'inspiration, et dans lequel plus personne ne croyait. D'ailleurs, je remercie au passage mes parents qui m'ont forcé à regarder ce film quand j'avais quinze ans. Trois ans que je l'ai découvert et je ne m'en lasse pas. A voir ! \n\nLa vie c'est comme une boîte de chocolats, on ne sait jamais sur quoi on va tomber."
           },
           {
            "count": 1,
            "name": "Une immense rèussite du cinèma hollywoodien! Robert Zemeckis implique son hèros imaginaire du nom de Forrest Gump dans tous les grands èvènements sur trente ans d'histoire amèricaine de 1950 à 1980 et l'intègre même dans des documents d'archives dètournès et ètonnants en lui faisant rencontrer des cèlèbritès anciennes! Avec les dèbuts d'Elvis Presley, la guerre du Vietnam et même la contre-culture du Peace And Love! Tom Hanks est à tout jamais Forrest Gump, magnifique et inoubliable prestation qui lui vaudra un second Oscar du meilleur acteur! Hèros de guerre, joueur prodigieux de ping-pong, milliardaire grâce au commerce de la crevette, inspirant le King ou Lennon pour son \"Imagine\", se retrouvant même dans le scandale du Watergate...on peut dire que son personnage en a vu du pays! C'est aussi une ode au bonheur prodigieuse et une fresque historique comme les aime les amèricains marquèe par une bande sonore extraordinaire (\"Sweet Home Alabama\" de Lynrd Skynard, \"Mrs. Robinson\" de Simon & Garfunkel, \"Everybody's talkin\" de Harry Nilsson...) , sans oublier pour autant l'excellente partition d'Alan Silvestri! Paysages à couper le souffle, F/ X novateurs, interprètation remarquable jusqu'aux seconds rôles, \"Forrest Gump\" est un joli moment de cinèma..."
           },
           {
            "count": 3,
            "name": "3 others"
           }
          ],
          "nan_count": 0,
          "unique_count": 5
         }
        },
        {
         "dtype": "object",
         "name": "Date",
         "stats": {
          "categories": [
           {
            "count": 1,
            "name": "Publiée le 8 avril 2013"
           },
           {
            "count": 1,
            "name": "Publiée le 25 juillet 2019"
           },
           {
            "count": 3,
            "name": "3 others"
           }
          ],
          "nan_count": 0,
          "unique_count": 5
         }
        },
        {
         "dtype": "object",
         "name": "nombre_good_bad",
         "stats": {
          "categories": [
           {
            "count": 1,
            "name": "155\n        \n\n    \n\n    \n    \n                    \n                            \n\n        \n                                                                    \n        \n        \n        \n                    \n                    \n        \n        \n            10"
           },
           {
            "count": 1,
            "name": "42\n        \n\n    \n\n    \n    \n                    \n                            \n\n        \n                                                                    \n        \n        \n        \n                    \n                    \n        \n        \n            3"
           },
           {
            "count": 3,
            "name": "3 others"
           }
          ],
          "nan_count": 0,
          "unique_count": 5
         }
        },
        {
         "dtype": "object",
         "name": "nombre_follow",
         "stats": {
          "categories": [
           {
            "count": 5,
            "name": "Suivre son activité"
           }
          ],
          "nan_count": 0,
          "unique_count": 1
         }
        },
        {
         "dtype": "int64",
         "name": "key",
         "stats": {
          "histogram": [
           {
            "bin_end": 0.4,
            "bin_start": 0,
            "count": 1
           },
           {
            "bin_end": 0.8,
            "bin_start": 0.4,
            "count": 0
           },
           {
            "bin_end": 1.2000000000000002,
            "bin_start": 0.8,
            "count": 1
           },
           {
            "bin_end": 1.6,
            "bin_start": 1.2000000000000002,
            "count": 0
           },
           {
            "bin_end": 2,
            "bin_start": 1.6,
            "count": 0
           },
           {
            "bin_end": 2.4000000000000004,
            "bin_start": 2,
            "count": 1
           },
           {
            "bin_end": 2.8000000000000003,
            "bin_start": 2.4000000000000004,
            "count": 0
           },
           {
            "bin_end": 3.2,
            "bin_start": 2.8000000000000003,
            "count": 1
           },
           {
            "bin_end": 3.6,
            "bin_start": 3.2,
            "count": 0
           },
           {
            "bin_end": 4,
            "bin_start": 3.6,
            "count": 1
           }
          ],
          "max": "4",
          "min": "0",
          "nan_count": 0,
          "unique_count": 5
         }
        },
        {
         "dtype": "int64",
         "name": "_deepnote_index_column"
        }
       ],
       "row_count": 5,
       "rows_bottom": null,
       "rows_top": [
        {
         "Date": "Publiée le 8 avril 2013",
         "Description": "Forrest Gump de Robert Zemeckis (réalisateur de la trilogie \"Retour vers le futur\") signe ici son meilleur film. Puissant, touchant, émouvant, aucun adjectif ne pourrait décrire ce film qui à marqué de nombreux cinéphiles à travers le monde. Dans ce film, le réalisateur fourmille d'idées pour rendre la vie de cet homme palpitant et unique. On s'imprègne des joies et des peines de ce dernier. Bref on suit ces émotions. Et c'est peut-être la que le film fait la différence. On se reconnaît à travers lui, car chacun au plus profond de nous-mêmes, nous sommes passés par ses étapes qui caractérisent nos vies. L'amour, la mort d'un proche. \n    spoiler: \n    La mort de Jenny m'a bouleversé, je chialais comme une grosse merde\n\n\nTantôt on rit, tantôt on pleure avec Forrest. \n\nDe plus le film se distingue des autres car il fait passer pleins de différents messages. L'idée de voir à travers les yeux d\"un simplet l'histoire de l'Amérique du XX ème siècle était brillante. Le fait de voir qu'il est à l'origine de nombreuses choses comme \n    spoiler: \n    la création de la marque \"Apple\" ou encore qu'il est à l'origine du smiley\n\n,  est en soit un message, car, les préjugés dont il fait l'objet tout au long du film ne l'empêche aucunement de se construire la vie dont il rêvait. C'est un message d'espoir. \n\nLes acteurs (Surtout Tom Hanks) sont géniaux et jouent leurs rôles à la perfection. La réalisation est très belle, à quelque chose de vraiment poétique et s'accorde bien avec les musiques. Zemeckis à vraiment eu bon sur toute la ligne et à mérité qu'on lui décerne l'oscar du meilleur réalisateur (Bravo aussi à Tom Hanks pour son oscar du meilleur acteur ...\n\nCe film est un chef d’œuvre et restera, pour moi, l'un des plus grands films jamais réalisés à ce jour. Un hymne à la vie. Un vraie tour de force pour un réalisateur en panne d'inspiration, et dans lequel plus personne ne croyait. D'ailleurs, je remercie au passage mes parents qui m'ont forcé à regarder ce film quand j'avais quinze ans. Trois ans que je l'ai découvert et je ne m'en lasse pas. A voir ! \n\nLa vie c'est comme une boîte de chocolats, on ne sait jamais sur quoi on va tomber.",
         "Note": "5,0",
         "_deepnote_index_column": 0,
         "key": 0,
         "nombre_follow": "Suivre son activité",
         "nombre_good_bad": "155\n        \n\n    \n\n    \n    \n                    \n                            \n\n        \n                                                                    \n        \n        \n        \n                    \n                    \n        \n        \n            10"
        },
        {
         "Date": "Publiée le 25 juillet 2019",
         "Description": "Une immense rèussite du cinèma hollywoodien! Robert Zemeckis implique son hèros imaginaire du nom de Forrest Gump dans tous les grands èvènements sur trente ans d'histoire amèricaine de 1950 à 1980 et l'intègre même dans des documents d'archives dètournès et ètonnants en lui faisant rencontrer des cèlèbritès anciennes! Avec les dèbuts d'Elvis Presley, la guerre du Vietnam et même la contre-culture du Peace And Love! Tom Hanks est à tout jamais Forrest Gump, magnifique et inoubliable prestation qui lui vaudra un second Oscar du meilleur acteur! Hèros de guerre, joueur prodigieux de ping-pong, milliardaire grâce au commerce de la crevette, inspirant le King ou Lennon pour son \"Imagine\", se retrouvant même dans le scandale du Watergate...on peut dire que son personnage en a vu du pays! C'est aussi une ode au bonheur prodigieuse et une fresque historique comme les aime les amèricains marquèe par une bande sonore extraordinaire (\"Sweet Home Alabama\" de Lynrd Skynard, \"Mrs. Robinson\" de Simon & Garfunkel, \"Everybody's talkin\" de Harry Nilsson...) , sans oublier pour autant l'excellente partition d'Alan Silvestri! Paysages à couper le souffle, F/ X novateurs, interprètation remarquable jusqu'aux seconds rôles, \"Forrest Gump\" est un joli moment de cinèma...",
         "Note": "4,5",
         "_deepnote_index_column": 1,
         "key": 1,
         "nombre_follow": "Suivre son activité",
         "nombre_good_bad": "42\n        \n\n    \n\n    \n    \n                    \n                            \n\n        \n                                                                    \n        \n        \n        \n                    \n                    \n        \n        \n            3"
        },
        {
         "Date": "Publiée le 18 juillet 2014",
         "Description": "Le matin, quand il fait bon et beau, normal quoi, j'aime bien me balader à pied. Souvent, je me promène dans le parc de mon quartier. Ça peut paraître con, mais j'aime bien. Et il ne se passe jamais rien, rien de bien excitant ou de passionnant, rien qui ferait de ma vie une odyssée humaine et tragique, unique et inédite, mais bon ça me plait. Et donc, ce matin, peu réveillé, la tête encore dans les draps et le goût du café dans la bouche, j'y suis allé à contre-coeur, chose qui ne m'était plus arrivée depuis déja quelques temps. Tu vois, j'avais pas trop envie de sortir de chez moi. Alors, ce que j'ai fait, c'est que j'ai allumé la radio. Rien de passionnant. Donc, j'ai pris la télécommande, et j'ai mis la télé. Rien non plus, à par une rediffusion ( chose très rare le matin ), celle d'un film que je n'avais encore jamais vu, \"Forrest Gump\" ( oui, je n'avais pas encore eu le plaisir d'assister à ce spectacle de tendresse et d'amour ). Je l'ai regardé quoi, cinq minutes, peut-être dix? J'en avais marre, j'avais mal aux yeux. Et donc, qu'es-ce que j'ai fait, à votre avis? J'ai pris la décision de sortir de chez moi me balader, vous avez vu juste. Vingt minutes après avoir éteints ma télé, parce oui, ça m'arrive de vouloir être précis, je me baladais parmi les arbres et les oiseaux ( qui mangeaient des miettes de pain de manière amusante ), et je me posais sur u banc, parce que j'en avais légèrement marre de marcher. Je ne savais pas ce que j'avais ce matin, mais c'était vraiment pas normal. Les deux écouteurs dans les oreilles, avec du Skrillex à fond, Bangarang en tête, je restais là pour quelques minutes, surement cinq, peut-être plus. Passons au présent, je préfère. Je lève les yeux au ciel, les ferme, crevé ( merci les lendemains de soirée ), et me concentre dans le premier jump de la chanson, le genre d'instants qui vous filent des tics et des tocs par dizaines pour les trois prochaines minutes, paressant aux yeux des passants et autres promeneurs pour un gros mec hyperactif et complètement chtarbé dans sa tête. Une main me touche l'épaule. Je me retourne, enlève un écouteur, celui de droite, ouvre les yeux, passablement énervé par celui qui vient de me perturber dans mon essai de sieste ( oui, je sais, c'est bizarre de sortir pour dormir ), et me ravise. C'est qui ce gars, là?! \"Bonjour, je m'appelle Forrest Gump\". Cette voix... Ce visage... Cette façon de s'exprimer... Sans déconner, c'est une blague? Elle est où la caméra cachée?! Il a un timbre unique, le genre qui vous donne son intelligence en deux secondes top chrono, et vous fait comprendre qui vous avez à vos côtés. Il parle un peu comme un pauvre benêt, un gars qui n'aurait pas eu toutes les chances de son côté à la naissance. \"Et vous, vous vous appelez comment?\" Je fais un blanc, ne lui réponds pas tout de suite, devient vert, un peu comme si l'on me laissait des bleus après un passage à tabac, observe le pigeon gris qui me détaille avec un regard noir, enlève mon deuxième écouteur bleu et lui donne mon nom. \"Vous ne seriez pas...\" Il me coupe, et me répond que oui. Puis, il enchaîne et me dit qu'il est devenu une star depuis que le film est sortit, que maintenant les gens l'écoutent quand il leur parle, qu'ils ne s'en vont plus dès qu'il a commencé à un peu trop s'éterniser dans son histoire, qu'il comprend pleinement ce que sa maman voulait dire quand elle lui répétait \"La vie, c'est comme le chocolat, on ne sait jamais sur quoi on va tomber\", et qu'il regrette sa vie d'avant, avec sa mère et sa copine, Jennifer, avec qui il a eu Forrest Gump, et son meilleur ( unique ) ami, Bubba, pour qui il a fondé une entreprise de pêcheur de crevettes, grâce à laquelle il a fait fortune, aux côtés du sergent Taylor, pauvre gars qui avait perdu ses jambes au vietnam, et que Forrest, en courant, avait sauvé du trépas, lui promettant un avenir meilleur. Mais il regrette surtout son enfance, où personne n'avait encore disparu, où il avait connu de grands hommes, presque tous morts aujourd’hui, Elvis \"le King\" Presley, John Kennedy et je ne sais plus trop qui, qui me laissent unanimement présager que ce pauvre gars est maudit. Presque tous ceux qui le rencontrent meurent, alors que lui connait un destin encore plus radieux et lumineux que n'importe lequel d'entre nous, véritable leçon de vie sur patte. Et là, le mec me bouleverse, m'attriste, me surprend, m'éblouit, me réconforte ( grâce à des moments tous plus beaux les uns que les autres ), innove et me livre une histoire que je n'aurai jamais pu imaginer. Il en a dans la tête, le pauvre gars, victime de la vie et de la guerre, mais tellement heureux après toutes ces épreuves endurées. Et le pauvre gars me redonne le sourire. Son histoire, sa vie, presque l'intrigue de son existence, sont magnifiques et uniques, bouleversantes et tragiques, mais tellement belles et touchantes! C'est le seul gars qui m'a fait pleuré grâce à son histoire! \"Pourquoi vous ne partez pas?\" Me demande-t-il gentiment. Il demandait ça tout le temps au bout d'un moment, quand il arrivait un peu trop loin dans l'histoire, m'a-t-il dit. Et la fin, dramatique et émouvante, gagne en puissance grâce à une dernière image aussi magique que tout le reste. L'histoire de cet homme est fantastique, il y a vu l'évolution de nombre de grands noms de l'histoire de l'homme moderne et de l'Amérique, et je ne peux que me dire que la mienne n'est rien comparée à la sienne. Et si... Le réveil sonne, je me lève, allume la télé, me remet encore du choc d'avoir vu pour la première fois le chef-d'oeuvre \"Forrest Gump\" hier soir, et imagine le reste de ma journée. Pourquoi pas me mater \"Taxi Driver\", ce soir? Il était beau, ce rêve, quand même...",
         "Note": "5,0",
         "_deepnote_index_column": 2,
         "key": 2,
         "nombre_follow": "Suivre son activité",
         "nombre_good_bad": "39\n        \n\n    \n\n    \n    \n                    \n                            \n\n        \n                                                                    \n        \n        \n        \n                    \n                    \n        \n        \n            4"
        },
        {
         "Date": "Publiée le 13 juin 2010",
         "Description": "Un film immense, rempli de poésie et de bons sentiments sans tomber dans le mièvre. Ce film est tout simplement un chef d'oeuvre. Le scénario est fantastique,  nous faisant revivre des éléments marquants de l'histoire des Etats-Unis post-seconde guerre mondiale. Même l'histoire d'amour s'avère riche et est très crédible. Enfin il faut s'attarder sur la performance de Tom Hanks, parfaite en tout point, le petit Forrest ne pourra pas s'empêcher de vous faire fondre en le voyant. Du très grand art!",
         "Note": "5,0",
         "_deepnote_index_column": 3,
         "key": 3,
         "nombre_follow": "Suivre son activité",
         "nombre_good_bad": "46\n        \n\n    \n\n    \n    \n                    \n                            \n\n        \n                                                                    \n        \n        \n        \n                    \n                    \n        \n        \n            5"
        },
        {
         "Date": "Publiée le 18 août 2014",
         "Description": "Un très grand film . Ce film suit la vie sur plusieurs décennie d'un simple d'esprit nommer forrest gumps ( Tom Hanks ) qui va pourtant mener une vie incroyable  \n    spoiler: \n    a la fois héros de la guerre du Vietnam , star de football américain , star de Ping pong , capitaine de crevettier qui fera de lui un milliardaire \n\n. Sans qu'il ne s'en rende compte ses actes vont influencé pas mal d'événements historiques \n    spoiler: \n     ( le watergate) \n\n et de personnages célèbres  (\n    spoiler: \n     Elvis Presley )\n\n ... Tom Hanks est tout simplement époustouflant dans le rôle de forrest gumps ce simple d'esprit qui va mener une vie incroyable . ce rôle  restera sûrement comme son plus grand rôle au cinéma . Il joue a merveille le rôle du simple d'esprit que se soit dans ses gestes , son comportement et dans sa façon de parler . Il est tellement bon qu'on y croit a fond et qu'on a pas l'impression qu'il joue la comédie il est forrest gumps . Il fut récompenser a juste titre de l'oscar du meilleur acteur pour sa performance incroyable . Le reste du casting est également très bon . Un film a la fois drôle et émouvant . L'histoire de ce film est vraiment prenante . On est vraiment captiver de bout en bout devant la vie incroyable et les péripéties de  ce simple d'esprit nommer Forrest gumps . Un personnage pas très malin et pas très intelligent  mais qui va tenter de trouver sa place dans ce monde hostile a son égard et qui le moque sans arrêt . Il  n'ai pas très intelligent mais il va découvrir qu'il a d'autre talent en compensation qui lui permettront de se faire une place dans ce monde et de mener une vie incroyable .forrest gumps voit le monde a sa manière avec une naïveté très touchante .son intelligence limité fait qu'il ne réfléchit pas toujour a ce qu'il dit ni a ce qu'il fait au risque de sortir des énormités ou de faire quelques bourdes en tout genre \n    spoiler: \n    ( montrer ses fesses au président ou sauter de son bateau sans l'arrêter )\n\n et sa va donner des moments assez hilarants . Le personnage de forrest gumps est vraiment attachant . Ses actes pas toujour très réfléchit vont avoir une influence capital sur certains événements historiques et sur certaines personnalités célèbres . Un film qui jongle a merveille entre rire et émotion.  Un film remplit de scènes très drôles ( booba qui cite toute les recettes avec des crevettes ) et de scènes très émouvantes  ( \n    spoiler: \n    la mort de Jenny , forrest qui apprend qu'il a un fils\n\n ) . Le film contient une pléiade de  répliques devenu cultes et passer dans le langage courant ( cour forrest cour , la vie c'est comme une boîte de chocolat on ne sait jamais sur quoi on va tomber ...) . La musique du film est  magnifique et colle parfaitement a l'ambiance du film . La réalisation de Robert zemeckis est incroyable . il revisite  trente ans de l'histoire américaine a travers les yeux de forrest gumps  grâce  une reconstitution minutieuse du a de très bons costumes , décors et de très bons trucages visuels .un film qui connut un succès considérable a travers le monde et qui fut récompenser d'une pluie de récompense dont 6 oscars amplement mériter . Un film cultissime.",
         "Note": "5,0",
         "_deepnote_index_column": 4,
         "key": 4,
         "nombre_follow": "Suivre son activité",
         "nombre_good_bad": "28\n        \n\n    \n\n    \n    \n                    \n                            \n\n        \n                                                                    \n        \n        \n        \n                    \n                    \n        \n        \n            3"
        }
       ]
      },
      "text/html": [
       "<div>\n",
       "<style scoped>\n",
       "    .dataframe tbody tr th:only-of-type {\n",
       "        vertical-align: middle;\n",
       "    }\n",
       "\n",
       "    .dataframe tbody tr th {\n",
       "        vertical-align: top;\n",
       "    }\n",
       "\n",
       "    .dataframe thead th {\n",
       "        text-align: right;\n",
       "    }\n",
       "</style>\n",
       "<table border=\"1\" class=\"dataframe\">\n",
       "  <thead>\n",
       "    <tr style=\"text-align: right;\">\n",
       "      <th></th>\n",
       "      <th>Note</th>\n",
       "      <th>Description</th>\n",
       "      <th>Date</th>\n",
       "      <th>nombre_good_bad</th>\n",
       "      <th>nombre_follow</th>\n",
       "      <th>key</th>\n",
       "    </tr>\n",
       "  </thead>\n",
       "  <tbody>\n",
       "    <tr>\n",
       "      <th>0</th>\n",
       "      <td>5,0</td>\n",
       "      <td>Forrest Gump de Robert Zemeckis (réalisateur d...</td>\n",
       "      <td>Publiée le 8 avril 2013</td>\n",
       "      <td>155\\n        \\n\\n    \\n\\n    \\n    \\n         ...</td>\n",
       "      <td>Suivre son activité</td>\n",
       "      <td>0</td>\n",
       "    </tr>\n",
       "    <tr>\n",
       "      <th>1</th>\n",
       "      <td>4,5</td>\n",
       "      <td>Une immense rèussite du cinèma hollywoodien! R...</td>\n",
       "      <td>Publiée le 25 juillet 2019</td>\n",
       "      <td>42\\n        \\n\\n    \\n\\n    \\n    \\n          ...</td>\n",
       "      <td>Suivre son activité</td>\n",
       "      <td>1</td>\n",
       "    </tr>\n",
       "    <tr>\n",
       "      <th>2</th>\n",
       "      <td>5,0</td>\n",
       "      <td>Le matin, quand il fait bon et beau, normal qu...</td>\n",
       "      <td>Publiée le 18 juillet 2014</td>\n",
       "      <td>39\\n        \\n\\n    \\n\\n    \\n    \\n          ...</td>\n",
       "      <td>Suivre son activité</td>\n",
       "      <td>2</td>\n",
       "    </tr>\n",
       "    <tr>\n",
       "      <th>3</th>\n",
       "      <td>5,0</td>\n",
       "      <td>Un film immense, rempli de poésie et de bons s...</td>\n",
       "      <td>Publiée le 13 juin 2010</td>\n",
       "      <td>46\\n        \\n\\n    \\n\\n    \\n    \\n          ...</td>\n",
       "      <td>Suivre son activité</td>\n",
       "      <td>3</td>\n",
       "    </tr>\n",
       "    <tr>\n",
       "      <th>4</th>\n",
       "      <td>5,0</td>\n",
       "      <td>Un très grand film . Ce film suit la vie sur p...</td>\n",
       "      <td>Publiée le 18 août 2014</td>\n",
       "      <td>28\\n        \\n\\n    \\n\\n    \\n    \\n          ...</td>\n",
       "      <td>Suivre son activité</td>\n",
       "      <td>4</td>\n",
       "    </tr>\n",
       "  </tbody>\n",
       "</table>\n",
       "</div>"
      ],
      "text/plain": [
       "  Note                                        Description  \\\n",
       "0  5,0  Forrest Gump de Robert Zemeckis (réalisateur d...   \n",
       "1  4,5  Une immense rèussite du cinèma hollywoodien! R...   \n",
       "2  5,0  Le matin, quand il fait bon et beau, normal qu...   \n",
       "3  5,0  Un film immense, rempli de poésie et de bons s...   \n",
       "4  5,0  Un très grand film . Ce film suit la vie sur p...   \n",
       "\n",
       "                         Date  \\\n",
       "0     Publiée le 8 avril 2013   \n",
       "1  Publiée le 25 juillet 2019   \n",
       "2  Publiée le 18 juillet 2014   \n",
       "3     Publiée le 13 juin 2010   \n",
       "4     Publiée le 18 août 2014   \n",
       "\n",
       "                                     nombre_good_bad        nombre_follow  key  \n",
       "0  155\\n        \\n\\n    \\n\\n    \\n    \\n         ...  Suivre son activité    0  \n",
       "1  42\\n        \\n\\n    \\n\\n    \\n    \\n          ...  Suivre son activité    1  \n",
       "2  39\\n        \\n\\n    \\n\\n    \\n    \\n          ...  Suivre son activité    2  \n",
       "3  46\\n        \\n\\n    \\n\\n    \\n    \\n          ...  Suivre son activité    3  \n",
       "4  28\\n        \\n\\n    \\n\\n    \\n    \\n          ...  Suivre son activité    4  "
      ]
     },
     "execution_count": 192,
     "metadata": {},
     "output_type": "execute_result"
    }
   ],
   "source": [
    "#import CSV\n",
    "df = pd.read_csv('allocine_forrest_avis.csv')\n",
    "pd.reset_option(\"max_colwidth\")\n",
    "print(df.iloc[2])\n",
    "df.head()"
   ]
  },
  {
   "cell_type": "code",
   "execution_count": 193,
   "metadata": {
    "cell_id": "00003-e04de997-3291-4959-8fc7-5ac663d55667",
    "deepnote_cell_type": "code",
    "deepnote_to_be_reexecuted": false,
    "execution_millis": 64,
    "execution_start": 1620224103902,
    "source_hash": "3630597b",
    "tags": []
   },
   "outputs": [
    {
     "name": "stdout",
     "output_type": "stream",
     "text": [
      "<class 'pandas.core.frame.DataFrame'>\n",
      "Int64Index: 2009 entries, 0 to 2008\n",
      "Data columns (total 6 columns):\n",
      " #   Column           Non-Null Count  Dtype \n",
      "---  ------           --------------  ----- \n",
      " 0   Note             2009 non-null   object\n",
      " 1   Description      2009 non-null   object\n",
      " 2   Date             2009 non-null   object\n",
      " 3   nombre_good_bad  2009 non-null   object\n",
      " 4   nombre_follow    2009 non-null   object\n",
      " 5   key              2009 non-null   int64 \n",
      "dtypes: int64(1), object(5)\n",
      "memory usage: 109.9+ KB\n"
     ]
    }
   ],
   "source": [
    "#DROP duplicate\n",
    "df.drop_duplicates(inplace=True)\n",
    "df.info()"
   ]
  },
  {
   "cell_type": "code",
   "execution_count": 194,
   "metadata": {
    "cell_id": "00004-9a0a7853-0d78-4814-8f1d-e88bc80bd386",
    "deepnote_cell_type": "code",
    "deepnote_to_be_reexecuted": false,
    "execution_millis": 11,
    "execution_start": 1620224104206,
    "source_hash": "f88152d9",
    "tags": []
   },
   "outputs": [
    {
     "data": {
      "application/vnd.deepnote.dataframe.v2+json": {
       "column_count": 1,
       "columns": [
        {
         "dtype": "float64",
         "name": "key",
         "stats": {
          "histogram": [
           {
            "bin_end": 200.9,
            "bin_start": 0,
            "count": 7
           },
           {
            "bin_end": 401.8,
            "bin_start": 200.9,
            "count": 0
           },
           {
            "bin_end": 602.7,
            "bin_start": 401.8,
            "count": 0
           },
           {
            "bin_end": 803.6,
            "bin_start": 602.7,
            "count": 0
           },
           {
            "bin_end": 1004.5,
            "bin_start": 803.6,
            "count": 0
           },
           {
            "bin_end": 1205.4,
            "bin_start": 1004.5,
            "count": 0
           },
           {
            "bin_end": 1406.3,
            "bin_start": 1205.4,
            "count": 0
           },
           {
            "bin_end": 1607.2,
            "bin_start": 1406.3,
            "count": 0
           },
           {
            "bin_end": 1808.1000000000001,
            "bin_start": 1607.2,
            "count": 0
           },
           {
            "bin_end": 2009,
            "bin_start": 1808.1000000000001,
            "count": 1
           }
          ],
          "max": "2009.0",
          "min": "0.0",
          "nan_count": 0,
          "unique_count": 8
         }
        },
        {
         "dtype": "object",
         "name": "_deepnote_index_column"
        }
       ],
       "row_count": 8,
       "rows_bottom": null,
       "rows_top": [
        {
         "_deepnote_index_column": "count",
         "key": 2009
        },
        {
         "_deepnote_index_column": "mean",
         "key": 6.698855151816824
        },
        {
         "_deepnote_index_column": "std",
         "key": 4.1726203566657185
        },
        {
         "_deepnote_index_column": "min",
         "key": 0
        },
        {
         "_deepnote_index_column": "25%",
         "key": 3
        },
        {
         "_deepnote_index_column": "50%",
         "key": 7
        },
        {
         "_deepnote_index_column": "75%",
         "key": 10
        },
        {
         "_deepnote_index_column": "max",
         "key": 14
        }
       ]
      },
      "text/html": [
       "<div>\n",
       "<style scoped>\n",
       "    .dataframe tbody tr th:only-of-type {\n",
       "        vertical-align: middle;\n",
       "    }\n",
       "\n",
       "    .dataframe tbody tr th {\n",
       "        vertical-align: top;\n",
       "    }\n",
       "\n",
       "    .dataframe thead th {\n",
       "        text-align: right;\n",
       "    }\n",
       "</style>\n",
       "<table border=\"1\" class=\"dataframe\">\n",
       "  <thead>\n",
       "    <tr style=\"text-align: right;\">\n",
       "      <th></th>\n",
       "      <th>key</th>\n",
       "    </tr>\n",
       "  </thead>\n",
       "  <tbody>\n",
       "    <tr>\n",
       "      <th>count</th>\n",
       "      <td>2009.000000</td>\n",
       "    </tr>\n",
       "    <tr>\n",
       "      <th>mean</th>\n",
       "      <td>6.698855</td>\n",
       "    </tr>\n",
       "    <tr>\n",
       "      <th>std</th>\n",
       "      <td>4.172620</td>\n",
       "    </tr>\n",
       "    <tr>\n",
       "      <th>min</th>\n",
       "      <td>0.000000</td>\n",
       "    </tr>\n",
       "    <tr>\n",
       "      <th>25%</th>\n",
       "      <td>3.000000</td>\n",
       "    </tr>\n",
       "    <tr>\n",
       "      <th>50%</th>\n",
       "      <td>7.000000</td>\n",
       "    </tr>\n",
       "    <tr>\n",
       "      <th>75%</th>\n",
       "      <td>10.000000</td>\n",
       "    </tr>\n",
       "    <tr>\n",
       "      <th>max</th>\n",
       "      <td>14.000000</td>\n",
       "    </tr>\n",
       "  </tbody>\n",
       "</table>\n",
       "</div>"
      ],
      "text/plain": [
       "               key\n",
       "count  2009.000000\n",
       "mean      6.698855\n",
       "std       4.172620\n",
       "min       0.000000\n",
       "25%       3.000000\n",
       "50%       7.000000\n",
       "75%      10.000000\n",
       "max      14.000000"
      ]
     },
     "execution_count": 194,
     "metadata": {},
     "output_type": "execute_result"
    }
   ],
   "source": [
    "df.describe()"
   ]
  },
  {
   "cell_type": "code",
   "execution_count": 195,
   "metadata": {
    "cell_id": "00005-debb0a28-4194-4a68-a1f7-dda7f692fa94",
    "deepnote_cell_type": "code",
    "deepnote_to_be_reexecuted": false,
    "execution_millis": 1,
    "execution_start": 1620224104269,
    "source_hash": "11299d71",
    "tags": []
   },
   "outputs": [],
   "source": [
    "#Remove space \n",
    "df[\"nombre_good_bad\"] = df[\"nombre_good_bad\"].apply(lambda n: \" \".join(n.split()))\n",
    "df[\"nombre_good\"] = df[\"nombre_good_bad\"].apply(lambda g : int(g.split(\" \")[0]))\n",
    "df[\"nombre_bad\"] = df[\"nombre_good_bad\"].apply(lambda g : int(g.split(\" \")[1]))"
   ]
  },
  {
   "cell_type": "code",
   "execution_count": 196,
   "metadata": {
    "cell_id": "00006-161269ef-209a-4c0c-b01a-6de398a25666",
    "deepnote_cell_type": "code",
    "deepnote_to_be_reexecuted": false,
    "execution_millis": 9,
    "execution_start": 1620224104392,
    "source_hash": "3fa7b548",
    "tags": []
   },
   "outputs": [
    {
     "data": {
      "text/plain": [
       "Suivre son activité    2009\n",
       "Name: nombre_follow, dtype: int64"
      ]
     },
     "execution_count": 196,
     "metadata": {},
     "output_type": "execute_result"
    }
   ],
   "source": [
    "df['nombre_follow'].value_counts()"
   ]
  },
  {
   "cell_type": "code",
   "execution_count": 197,
   "metadata": {
    "cell_id": "00007-d0c685ab-241f-4ec2-a426-f96666066a73",
    "deepnote_cell_type": "code",
    "deepnote_to_be_reexecuted": false,
    "execution_millis": 12,
    "execution_start": 1620224104691,
    "source_hash": "3d56e478",
    "tags": []
   },
   "outputs": [
    {
     "data": {
      "text/plain": [
       "0       Suivre son activité\n",
       "1       Suivre son activité\n",
       "2       Suivre son activité\n",
       "3       Suivre son activité\n",
       "4       Suivre son activité\n",
       "               ...         \n",
       "2004    Suivre son activité\n",
       "2005    Suivre son activité\n",
       "2006    Suivre son activité\n",
       "2007    Suivre son activité\n",
       "2008    Suivre son activité\n",
       "Name: nombre_follow, Length: 2009, dtype: object"
      ]
     },
     "execution_count": 197,
     "metadata": {},
     "output_type": "execute_result"
    }
   ],
   "source": [
    "df.pop(\"nombre_good_bad\")\n",
    "df.pop('nombre_follow')"
   ]
  },
  {
   "cell_type": "code",
   "execution_count": 198,
   "metadata": {
    "cell_id": "00008-e82044a3-0d78-406c-a96d-d8501e0ee21f",
    "deepnote_cell_type": "code",
    "deepnote_to_be_reexecuted": false,
    "execution_millis": 19127,
    "execution_start": 1620224104709,
    "source_hash": "2dde6ccc",
    "tags": []
   },
   "outputs": [
    {
     "data": {
      "application/vnd.deepnote.dataframe.v2+json": {
       "column_count": 6,
       "columns": [
        {
         "dtype": "object",
         "name": "Note",
         "stats": {
          "categories": [
           {
            "count": 4,
            "name": "5,0"
           },
           {
            "count": 1,
            "name": "4,5"
           }
          ],
          "nan_count": 0,
          "unique_count": 2
         }
        },
        {
         "dtype": "object",
         "name": "Description",
         "stats": {
          "categories": [
           {
            "count": 1,
            "name": "Forrest Gump de Robert Zemeckis (réalisateur de la trilogie \"Retour vers le futur\") signe ici son meilleur film. Puissant, touchant, émouvant, aucun adjectif ne pourrait décrire ce film qui à marqué de nombreux cinéphiles à travers le monde. Dans ce film, le réalisateur fourmille d'idées pour rendre la vie de cet homme palpitant et unique. On s'imprègne des joies et des peines de ce dernier. Bref on suit ces émotions. Et c'est peut-être la que le film fait la différence. On se reconnaît à travers lui, car chacun au plus profond de nous-mêmes, nous sommes passés par ses étapes qui caractérisent nos vies. L'amour, la mort d'un proche. \n    spoiler: \n    La mort de Jenny m'a bouleversé, je chialais comme une grosse merde\n\n\nTantôt on rit, tantôt on pleure avec Forrest. \n\nDe plus le film se distingue des autres car il fait passer pleins de différents messages. L'idée de voir à travers les yeux d\"un simplet l'histoire de l'Amérique du XX ème siècle était brillante. Le fait de voir qu'il est à l'origine de nombreuses choses comme \n    spoiler: \n    la création de la marque \"Apple\" ou encore qu'il est à l'origine du smiley\n\n,  est en soit un message, car, les préjugés dont il fait l'objet tout au long du film ne l'empêche aucunement de se construire la vie dont il rêvait. C'est un message d'espoir. \n\nLes acteurs (Surtout Tom Hanks) sont géniaux et jouent leurs rôles à la perfection. La réalisation est très belle, à quelque chose de vraiment poétique et s'accorde bien avec les musiques. Zemeckis à vraiment eu bon sur toute la ligne et à mérité qu'on lui décerne l'oscar du meilleur réalisateur (Bravo aussi à Tom Hanks pour son oscar du meilleur acteur ...\n\nCe film est un chef d’œuvre et restera, pour moi, l'un des plus grands films jamais réalisés à ce jour. Un hymne à la vie. Un vraie tour de force pour un réalisateur en panne d'inspiration, et dans lequel plus personne ne croyait. D'ailleurs, je remercie au passage mes parents qui m'ont forcé à regarder ce film quand j'avais quinze ans. Trois ans que je l'ai découvert et je ne m'en lasse pas. A voir ! \n\nLa vie c'est comme une boîte de chocolats, on ne sait jamais sur quoi on va tomber."
           },
           {
            "count": 1,
            "name": "Une immense rèussite du cinèma hollywoodien! Robert Zemeckis implique son hèros imaginaire du nom de Forrest Gump dans tous les grands èvènements sur trente ans d'histoire amèricaine de 1950 à 1980 et l'intègre même dans des documents d'archives dètournès et ètonnants en lui faisant rencontrer des cèlèbritès anciennes! Avec les dèbuts d'Elvis Presley, la guerre du Vietnam et même la contre-culture du Peace And Love! Tom Hanks est à tout jamais Forrest Gump, magnifique et inoubliable prestation qui lui vaudra un second Oscar du meilleur acteur! Hèros de guerre, joueur prodigieux de ping-pong, milliardaire grâce au commerce de la crevette, inspirant le King ou Lennon pour son \"Imagine\", se retrouvant même dans le scandale du Watergate...on peut dire que son personnage en a vu du pays! C'est aussi une ode au bonheur prodigieuse et une fresque historique comme les aime les amèricains marquèe par une bande sonore extraordinaire (\"Sweet Home Alabama\" de Lynrd Skynard, \"Mrs. Robinson\" de Simon & Garfunkel, \"Everybody's talkin\" de Harry Nilsson...) , sans oublier pour autant l'excellente partition d'Alan Silvestri! Paysages à couper le souffle, F/ X novateurs, interprètation remarquable jusqu'aux seconds rôles, \"Forrest Gump\" est un joli moment de cinèma..."
           },
           {
            "count": 3,
            "name": "3 others"
           }
          ],
          "nan_count": 0,
          "unique_count": 5
         }
        },
        {
         "dtype": "float64",
         "name": "Date",
         "stats": {
          "histogram": [
           {
            "bin_end": 1305149760,
            "bin_start": 1276387200,
            "count": 1
           },
           {
            "bin_end": 1333912320,
            "bin_start": 1305149760,
            "count": 0
           },
           {
            "bin_end": 1362674880,
            "bin_start": 1333912320,
            "count": 0
           },
           {
            "bin_end": 1391437440,
            "bin_start": 1362674880,
            "count": 1
           },
           {
            "bin_end": 1420200000,
            "bin_start": 1391437440,
            "count": 2
           },
           {
            "bin_end": 1448962560,
            "bin_start": 1420200000,
            "count": 0
           },
           {
            "bin_end": 1477725120,
            "bin_start": 1448962560,
            "count": 0
           },
           {
            "bin_end": 1506487680,
            "bin_start": 1477725120,
            "count": 0
           },
           {
            "bin_end": 1535250240,
            "bin_start": 1506487680,
            "count": 0
           },
           {
            "bin_end": 1564012800,
            "bin_start": 1535250240,
            "count": 1
           }
          ],
          "max": "1564012800.0",
          "min": "1276387200.0",
          "nan_count": 0,
          "unique_count": 5
         }
        },
        {
         "dtype": "int64",
         "name": "key",
         "stats": {
          "histogram": [
           {
            "bin_end": 0.4,
            "bin_start": 0,
            "count": 1
           },
           {
            "bin_end": 0.8,
            "bin_start": 0.4,
            "count": 0
           },
           {
            "bin_end": 1.2000000000000002,
            "bin_start": 0.8,
            "count": 1
           },
           {
            "bin_end": 1.6,
            "bin_start": 1.2000000000000002,
            "count": 0
           },
           {
            "bin_end": 2,
            "bin_start": 1.6,
            "count": 0
           },
           {
            "bin_end": 2.4000000000000004,
            "bin_start": 2,
            "count": 1
           },
           {
            "bin_end": 2.8000000000000003,
            "bin_start": 2.4000000000000004,
            "count": 0
           },
           {
            "bin_end": 3.2,
            "bin_start": 2.8000000000000003,
            "count": 1
           },
           {
            "bin_end": 3.6,
            "bin_start": 3.2,
            "count": 0
           },
           {
            "bin_end": 4,
            "bin_start": 3.6,
            "count": 1
           }
          ],
          "max": "4",
          "min": "0",
          "nan_count": 0,
          "unique_count": 5
         }
        },
        {
         "dtype": "int64",
         "name": "nombre_good",
         "stats": {
          "histogram": [
           {
            "bin_end": 40.7,
            "bin_start": 28,
            "count": 2
           },
           {
            "bin_end": 53.4,
            "bin_start": 40.7,
            "count": 2
           },
           {
            "bin_end": 66.1,
            "bin_start": 53.4,
            "count": 0
           },
           {
            "bin_end": 78.8,
            "bin_start": 66.1,
            "count": 0
           },
           {
            "bin_end": 91.5,
            "bin_start": 78.8,
            "count": 0
           },
           {
            "bin_end": 104.19999999999999,
            "bin_start": 91.5,
            "count": 0
           },
           {
            "bin_end": 116.89999999999999,
            "bin_start": 104.19999999999999,
            "count": 0
           },
           {
            "bin_end": 129.6,
            "bin_start": 116.89999999999999,
            "count": 0
           },
           {
            "bin_end": 142.3,
            "bin_start": 129.6,
            "count": 0
           },
           {
            "bin_end": 155,
            "bin_start": 142.3,
            "count": 1
           }
          ],
          "max": "155",
          "min": "28",
          "nan_count": 0,
          "unique_count": 5
         }
        },
        {
         "dtype": "int64",
         "name": "nombre_bad",
         "stats": {
          "histogram": [
           {
            "bin_end": 3.7,
            "bin_start": 3,
            "count": 2
           },
           {
            "bin_end": 4.4,
            "bin_start": 3.7,
            "count": 1
           },
           {
            "bin_end": 5.1,
            "bin_start": 4.4,
            "count": 1
           },
           {
            "bin_end": 5.8,
            "bin_start": 5.1,
            "count": 0
           },
           {
            "bin_end": 6.5,
            "bin_start": 5.8,
            "count": 0
           },
           {
            "bin_end": 7.199999999999999,
            "bin_start": 6.5,
            "count": 0
           },
           {
            "bin_end": 7.8999999999999995,
            "bin_start": 7.199999999999999,
            "count": 0
           },
           {
            "bin_end": 8.6,
            "bin_start": 7.8999999999999995,
            "count": 0
           },
           {
            "bin_end": 9.3,
            "bin_start": 8.6,
            "count": 0
           },
           {
            "bin_end": 10,
            "bin_start": 9.3,
            "count": 1
           }
          ],
          "max": "10",
          "min": "3",
          "nan_count": 0,
          "unique_count": 4
         }
        },
        {
         "dtype": "int64",
         "name": "_deepnote_index_column"
        }
       ],
       "row_count": 5,
       "rows_bottom": null,
       "rows_top": [
        {
         "Date": 1365379200,
         "Description": "Forrest Gump de Robert Zemeckis (réalisateur de la trilogie \"Retour vers le futur\") signe ici son meilleur film. Puissant, touchant, émouvant, aucun adjectif ne pourrait décrire ce film qui à marqué de nombreux cinéphiles à travers le monde. Dans ce film, le réalisateur fourmille d'idées pour rendre la vie de cet homme palpitant et unique. On s'imprègne des joies et des peines de ce dernier. Bref on suit ces émotions. Et c'est peut-être la que le film fait la différence. On se reconnaît à travers lui, car chacun au plus profond de nous-mêmes, nous sommes passés par ses étapes qui caractérisent nos vies. L'amour, la mort d'un proche. \n    spoiler: \n    La mort de Jenny m'a bouleversé, je chialais comme une grosse merde\n\n\nTantôt on rit, tantôt on pleure avec Forrest. \n\nDe plus le film se distingue des autres car il fait passer pleins de différents messages. L'idée de voir à travers les yeux d\"un simplet l'histoire de l'Amérique du XX ème siècle était brillante. Le fait de voir qu'il est à l'origine de nombreuses choses comme \n    spoiler: \n    la création de la marque \"Apple\" ou encore qu'il est à l'origine du smiley\n\n,  est en soit un message, car, les préjugés dont il fait l'objet tout au long du film ne l'empêche aucunement de se construire la vie dont il rêvait. C'est un message d'espoir. \n\nLes acteurs (Surtout Tom Hanks) sont géniaux et jouent leurs rôles à la perfection. La réalisation est très belle, à quelque chose de vraiment poétique et s'accorde bien avec les musiques. Zemeckis à vraiment eu bon sur toute la ligne et à mérité qu'on lui décerne l'oscar du meilleur réalisateur (Bravo aussi à Tom Hanks pour son oscar du meilleur acteur ...\n\nCe film est un chef d’œuvre et restera, pour moi, l'un des plus grands films jamais réalisés à ce jour. Un hymne à la vie. Un vraie tour de force pour un réalisateur en panne d'inspiration, et dans lequel plus personne ne croyait. D'ailleurs, je remercie au passage mes parents qui m'ont forcé à regarder ce film quand j'avais quinze ans. Trois ans que je l'ai découvert et je ne m'en lasse pas. A voir ! \n\nLa vie c'est comme une boîte de chocolats, on ne sait jamais sur quoi on va tomber.",
         "Note": "5,0",
         "_deepnote_index_column": 0,
         "key": 0,
         "nombre_bad": 10,
         "nombre_good": 155
        },
        {
         "Date": 1564012800,
         "Description": "Une immense rèussite du cinèma hollywoodien! Robert Zemeckis implique son hèros imaginaire du nom de Forrest Gump dans tous les grands èvènements sur trente ans d'histoire amèricaine de 1950 à 1980 et l'intègre même dans des documents d'archives dètournès et ètonnants en lui faisant rencontrer des cèlèbritès anciennes! Avec les dèbuts d'Elvis Presley, la guerre du Vietnam et même la contre-culture du Peace And Love! Tom Hanks est à tout jamais Forrest Gump, magnifique et inoubliable prestation qui lui vaudra un second Oscar du meilleur acteur! Hèros de guerre, joueur prodigieux de ping-pong, milliardaire grâce au commerce de la crevette, inspirant le King ou Lennon pour son \"Imagine\", se retrouvant même dans le scandale du Watergate...on peut dire que son personnage en a vu du pays! C'est aussi une ode au bonheur prodigieuse et une fresque historique comme les aime les amèricains marquèe par une bande sonore extraordinaire (\"Sweet Home Alabama\" de Lynrd Skynard, \"Mrs. Robinson\" de Simon & Garfunkel, \"Everybody's talkin\" de Harry Nilsson...) , sans oublier pour autant l'excellente partition d'Alan Silvestri! Paysages à couper le souffle, F/ X novateurs, interprètation remarquable jusqu'aux seconds rôles, \"Forrest Gump\" est un joli moment de cinèma...",
         "Note": "4,5",
         "_deepnote_index_column": 1,
         "key": 1,
         "nombre_bad": 3,
         "nombre_good": 42
        },
        {
         "Date": 1405641600,
         "Description": "Le matin, quand il fait bon et beau, normal quoi, j'aime bien me balader à pied. Souvent, je me promène dans le parc de mon quartier. Ça peut paraître con, mais j'aime bien. Et il ne se passe jamais rien, rien de bien excitant ou de passionnant, rien qui ferait de ma vie une odyssée humaine et tragique, unique et inédite, mais bon ça me plait. Et donc, ce matin, peu réveillé, la tête encore dans les draps et le goût du café dans la bouche, j'y suis allé à contre-coeur, chose qui ne m'était plus arrivée depuis déja quelques temps. Tu vois, j'avais pas trop envie de sortir de chez moi. Alors, ce que j'ai fait, c'est que j'ai allumé la radio. Rien de passionnant. Donc, j'ai pris la télécommande, et j'ai mis la télé. Rien non plus, à par une rediffusion ( chose très rare le matin ), celle d'un film que je n'avais encore jamais vu, \"Forrest Gump\" ( oui, je n'avais pas encore eu le plaisir d'assister à ce spectacle de tendresse et d'amour ). Je l'ai regardé quoi, cinq minutes, peut-être dix? J'en avais marre, j'avais mal aux yeux. Et donc, qu'es-ce que j'ai fait, à votre avis? J'ai pris la décision de sortir de chez moi me balader, vous avez vu juste. Vingt minutes après avoir éteints ma télé, parce oui, ça m'arrive de vouloir être précis, je me baladais parmi les arbres et les oiseaux ( qui mangeaient des miettes de pain de manière amusante ), et je me posais sur u banc, parce que j'en avais légèrement marre de marcher. Je ne savais pas ce que j'avais ce matin, mais c'était vraiment pas normal. Les deux écouteurs dans les oreilles, avec du Skrillex à fond, Bangarang en tête, je restais là pour quelques minutes, surement cinq, peut-être plus. Passons au présent, je préfère. Je lève les yeux au ciel, les ferme, crevé ( merci les lendemains de soirée ), et me concentre dans le premier jump de la chanson, le genre d'instants qui vous filent des tics et des tocs par dizaines pour les trois prochaines minutes, paressant aux yeux des passants et autres promeneurs pour un gros mec hyperactif et complètement chtarbé dans sa tête. Une main me touche l'épaule. Je me retourne, enlève un écouteur, celui de droite, ouvre les yeux, passablement énervé par celui qui vient de me perturber dans mon essai de sieste ( oui, je sais, c'est bizarre de sortir pour dormir ), et me ravise. C'est qui ce gars, là?! \"Bonjour, je m'appelle Forrest Gump\". Cette voix... Ce visage... Cette façon de s'exprimer... Sans déconner, c'est une blague? Elle est où la caméra cachée?! Il a un timbre unique, le genre qui vous donne son intelligence en deux secondes top chrono, et vous fait comprendre qui vous avez à vos côtés. Il parle un peu comme un pauvre benêt, un gars qui n'aurait pas eu toutes les chances de son côté à la naissance. \"Et vous, vous vous appelez comment?\" Je fais un blanc, ne lui réponds pas tout de suite, devient vert, un peu comme si l'on me laissait des bleus après un passage à tabac, observe le pigeon gris qui me détaille avec un regard noir, enlève mon deuxième écouteur bleu et lui donne mon nom. \"Vous ne seriez pas...\" Il me coupe, et me répond que oui. Puis, il enchaîne et me dit qu'il est devenu une star depuis que le film est sortit, que maintenant les gens l'écoutent quand il leur parle, qu'ils ne s'en vont plus dès qu'il a commencé à un peu trop s'éterniser dans son histoire, qu'il comprend pleinement ce que sa maman voulait dire quand elle lui répétait \"La vie, c'est comme le chocolat, on ne sait jamais sur quoi on va tomber\", et qu'il regrette sa vie d'avant, avec sa mère et sa copine, Jennifer, avec qui il a eu Forrest Gump, et son meilleur ( unique ) ami, Bubba, pour qui il a fondé une entreprise de pêcheur de crevettes, grâce à laquelle il a fait fortune, aux côtés du sergent Taylor, pauvre gars qui avait perdu ses jambes au vietnam, et que Forrest, en courant, avait sauvé du trépas, lui promettant un avenir meilleur. Mais il regrette surtout son enfance, où personne n'avait encore disparu, où il avait connu de grands hommes, presque tous morts aujourd’hui, Elvis \"le King\" Presley, John Kennedy et je ne sais plus trop qui, qui me laissent unanimement présager que ce pauvre gars est maudit. Presque tous ceux qui le rencontrent meurent, alors que lui connait un destin encore plus radieux et lumineux que n'importe lequel d'entre nous, véritable leçon de vie sur patte. Et là, le mec me bouleverse, m'attriste, me surprend, m'éblouit, me réconforte ( grâce à des moments tous plus beaux les uns que les autres ), innove et me livre une histoire que je n'aurai jamais pu imaginer. Il en a dans la tête, le pauvre gars, victime de la vie et de la guerre, mais tellement heureux après toutes ces épreuves endurées. Et le pauvre gars me redonne le sourire. Son histoire, sa vie, presque l'intrigue de son existence, sont magnifiques et uniques, bouleversantes et tragiques, mais tellement belles et touchantes! C'est le seul gars qui m'a fait pleuré grâce à son histoire! \"Pourquoi vous ne partez pas?\" Me demande-t-il gentiment. Il demandait ça tout le temps au bout d'un moment, quand il arrivait un peu trop loin dans l'histoire, m'a-t-il dit. Et la fin, dramatique et émouvante, gagne en puissance grâce à une dernière image aussi magique que tout le reste. L'histoire de cet homme est fantastique, il y a vu l'évolution de nombre de grands noms de l'histoire de l'homme moderne et de l'Amérique, et je ne peux que me dire que la mienne n'est rien comparée à la sienne. Et si... Le réveil sonne, je me lève, allume la télé, me remet encore du choc d'avoir vu pour la première fois le chef-d'oeuvre \"Forrest Gump\" hier soir, et imagine le reste de ma journée. Pourquoi pas me mater \"Taxi Driver\", ce soir? Il était beau, ce rêve, quand même...",
         "Note": "5,0",
         "_deepnote_index_column": 2,
         "key": 2,
         "nombre_bad": 4,
         "nombre_good": 39
        },
        {
         "Date": 1276387200,
         "Description": "Un film immense, rempli de poésie et de bons sentiments sans tomber dans le mièvre. Ce film est tout simplement un chef d'oeuvre. Le scénario est fantastique,  nous faisant revivre des éléments marquants de l'histoire des Etats-Unis post-seconde guerre mondiale. Même l'histoire d'amour s'avère riche et est très crédible. Enfin il faut s'attarder sur la performance de Tom Hanks, parfaite en tout point, le petit Forrest ne pourra pas s'empêcher de vous faire fondre en le voyant. Du très grand art!",
         "Note": "5,0",
         "_deepnote_index_column": 3,
         "key": 3,
         "nombre_bad": 5,
         "nombre_good": 46
        },
        {
         "Date": 1408320000,
         "Description": "Un très grand film . Ce film suit la vie sur plusieurs décennie d'un simple d'esprit nommer forrest gumps ( Tom Hanks ) qui va pourtant mener une vie incroyable  \n    spoiler: \n    a la fois héros de la guerre du Vietnam , star de football américain , star de Ping pong , capitaine de crevettier qui fera de lui un milliardaire \n\n. Sans qu'il ne s'en rende compte ses actes vont influencé pas mal d'événements historiques \n    spoiler: \n     ( le watergate) \n\n et de personnages célèbres  (\n    spoiler: \n     Elvis Presley )\n\n ... Tom Hanks est tout simplement époustouflant dans le rôle de forrest gumps ce simple d'esprit qui va mener une vie incroyable . ce rôle  restera sûrement comme son plus grand rôle au cinéma . Il joue a merveille le rôle du simple d'esprit que se soit dans ses gestes , son comportement et dans sa façon de parler . Il est tellement bon qu'on y croit a fond et qu'on a pas l'impression qu'il joue la comédie il est forrest gumps . Il fut récompenser a juste titre de l'oscar du meilleur acteur pour sa performance incroyable . Le reste du casting est également très bon . Un film a la fois drôle et émouvant . L'histoire de ce film est vraiment prenante . On est vraiment captiver de bout en bout devant la vie incroyable et les péripéties de  ce simple d'esprit nommer Forrest gumps . Un personnage pas très malin et pas très intelligent  mais qui va tenter de trouver sa place dans ce monde hostile a son égard et qui le moque sans arrêt . Il  n'ai pas très intelligent mais il va découvrir qu'il a d'autre talent en compensation qui lui permettront de se faire une place dans ce monde et de mener une vie incroyable .forrest gumps voit le monde a sa manière avec une naïveté très touchante .son intelligence limité fait qu'il ne réfléchit pas toujour a ce qu'il dit ni a ce qu'il fait au risque de sortir des énormités ou de faire quelques bourdes en tout genre \n    spoiler: \n    ( montrer ses fesses au président ou sauter de son bateau sans l'arrêter )\n\n et sa va donner des moments assez hilarants . Le personnage de forrest gumps est vraiment attachant . Ses actes pas toujour très réfléchit vont avoir une influence capital sur certains événements historiques et sur certaines personnalités célèbres . Un film qui jongle a merveille entre rire et émotion.  Un film remplit de scènes très drôles ( booba qui cite toute les recettes avec des crevettes ) et de scènes très émouvantes  ( \n    spoiler: \n    la mort de Jenny , forrest qui apprend qu'il a un fils\n\n ) . Le film contient une pléiade de  répliques devenu cultes et passer dans le langage courant ( cour forrest cour , la vie c'est comme une boîte de chocolat on ne sait jamais sur quoi on va tomber ...) . La musique du film est  magnifique et colle parfaitement a l'ambiance du film . La réalisation de Robert zemeckis est incroyable . il revisite  trente ans de l'histoire américaine a travers les yeux de forrest gumps  grâce  une reconstitution minutieuse du a de très bons costumes , décors et de très bons trucages visuels .un film qui connut un succès considérable a travers le monde et qui fut récompenser d'une pluie de récompense dont 6 oscars amplement mériter . Un film cultissime.",
         "Note": "5,0",
         "_deepnote_index_column": 4,
         "key": 4,
         "nombre_bad": 3,
         "nombre_good": 28
        }
       ]
      },
      "text/html": [
       "<div>\n",
       "<style scoped>\n",
       "    .dataframe tbody tr th:only-of-type {\n",
       "        vertical-align: middle;\n",
       "    }\n",
       "\n",
       "    .dataframe tbody tr th {\n",
       "        vertical-align: top;\n",
       "    }\n",
       "\n",
       "    .dataframe thead th {\n",
       "        text-align: right;\n",
       "    }\n",
       "</style>\n",
       "<table border=\"1\" class=\"dataframe\">\n",
       "  <thead>\n",
       "    <tr style=\"text-align: right;\">\n",
       "      <th></th>\n",
       "      <th>Note</th>\n",
       "      <th>Description</th>\n",
       "      <th>Date</th>\n",
       "      <th>key</th>\n",
       "      <th>nombre_good</th>\n",
       "      <th>nombre_bad</th>\n",
       "    </tr>\n",
       "  </thead>\n",
       "  <tbody>\n",
       "    <tr>\n",
       "      <th>0</th>\n",
       "      <td>5,0</td>\n",
       "      <td>Forrest Gump de Robert Zemeckis (réalisateur d...</td>\n",
       "      <td>1.365379e+09</td>\n",
       "      <td>0</td>\n",
       "      <td>155</td>\n",
       "      <td>10</td>\n",
       "    </tr>\n",
       "    <tr>\n",
       "      <th>1</th>\n",
       "      <td>4,5</td>\n",
       "      <td>Une immense rèussite du cinèma hollywoodien! R...</td>\n",
       "      <td>1.564013e+09</td>\n",
       "      <td>1</td>\n",
       "      <td>42</td>\n",
       "      <td>3</td>\n",
       "    </tr>\n",
       "    <tr>\n",
       "      <th>2</th>\n",
       "      <td>5,0</td>\n",
       "      <td>Le matin, quand il fait bon et beau, normal qu...</td>\n",
       "      <td>1.405642e+09</td>\n",
       "      <td>2</td>\n",
       "      <td>39</td>\n",
       "      <td>4</td>\n",
       "    </tr>\n",
       "    <tr>\n",
       "      <th>3</th>\n",
       "      <td>5,0</td>\n",
       "      <td>Un film immense, rempli de poésie et de bons s...</td>\n",
       "      <td>1.276387e+09</td>\n",
       "      <td>3</td>\n",
       "      <td>46</td>\n",
       "      <td>5</td>\n",
       "    </tr>\n",
       "    <tr>\n",
       "      <th>4</th>\n",
       "      <td>5,0</td>\n",
       "      <td>Un très grand film . Ce film suit la vie sur p...</td>\n",
       "      <td>1.408320e+09</td>\n",
       "      <td>4</td>\n",
       "      <td>28</td>\n",
       "      <td>3</td>\n",
       "    </tr>\n",
       "  </tbody>\n",
       "</table>\n",
       "</div>"
      ],
      "text/plain": [
       "  Note                                        Description          Date  key  \\\n",
       "0  5,0  Forrest Gump de Robert Zemeckis (réalisateur d...  1.365379e+09    0   \n",
       "1  4,5  Une immense rèussite du cinèma hollywoodien! R...  1.564013e+09    1   \n",
       "2  5,0  Le matin, quand il fait bon et beau, normal qu...  1.405642e+09    2   \n",
       "3  5,0  Un film immense, rempli de poésie et de bons s...  1.276387e+09    3   \n",
       "4  5,0  Un très grand film . Ce film suit la vie sur p...  1.408320e+09    4   \n",
       "\n",
       "   nombre_good  nombre_bad  \n",
       "0          155          10  \n",
       "1           42           3  \n",
       "2           39           4  \n",
       "3           46           5  \n",
       "4           28           3  "
      ]
     },
     "execution_count": 198,
     "metadata": {},
     "output_type": "execute_result"
    }
   ],
   "source": [
    "#convert time to datetime\n",
    "import dateparser \n",
    "\n",
    "df[\"Date\"] = df[\"Date\"].apply(lambda d : d.replace(\"Publiée le \", \"\"))\n",
    "df[\"Date\"] = df[\"Date\"].apply(lambda d : datetime.timestamp(datetime(\n",
    "    year=dateparser.parse(d).date().year, \n",
    "    month=dateparser.parse(d).date().month,\n",
    "    day=dateparser.parse(d).date().day,\n",
    ")))\n",
    "df.head()"
   ]
  },
  {
   "cell_type": "code",
   "execution_count": 199,
   "metadata": {
    "cell_id": "00009-32f395e9-cb6e-4941-b92b-44ff5c8953d3",
    "deepnote_cell_type": "code",
    "deepnote_to_be_reexecuted": false,
    "execution_millis": 35,
    "execution_start": 1620224123832,
    "source_hash": "c085b6ba",
    "tags": []
   },
   "outputs": [
    {
     "data": {
      "application/vnd.deepnote.dataframe.v2+json": {
       "column_count": 6,
       "columns": [
        {
         "dtype": "object",
         "name": "Note",
         "stats": {
          "categories": [
           {
            "count": 4,
            "name": "5,0"
           },
           {
            "count": 1,
            "name": "4,5"
           }
          ],
          "nan_count": 0,
          "unique_count": 2
         }
        },
        {
         "dtype": "object",
         "name": "Description",
         "stats": {
          "categories": [
           {
            "count": 1,
            "name": "Forrest Gump de Robert Zemeckis (réalisateur de la trilogie \"Retour vers le futur\") signe ici son meilleur film. Puissant, touchant, émouvant, aucun adjectif ne pourrait décrire ce film qui à marqué de nombreux cinéphiles à travers le monde. Dans ce film, le réalisateur fourmille d'idées pour rendre la vie de cet homme palpitant et unique. On s'imprègne des joies et des peines de ce dernier. Bref on suit ces émotions. Et c'est peut-être la que le film fait la différence. On se reconnaît à travers lui, car chacun au plus profond de nous-mêmes, nous sommes passés par ses étapes qui caractérisent nos vies. L'amour, la mort d'un proche. \n    spoiler: \n    La mort de Jenny m'a bouleversé, je chialais comme une grosse merde\n\n\nTantôt on rit, tantôt on pleure avec Forrest. \n\nDe plus le film se distingue des autres car il fait passer pleins de différents messages. L'idée de voir à travers les yeux d\"un simplet l'histoire de l'Amérique du XX ème siècle était brillante. Le fait de voir qu'il est à l'origine de nombreuses choses comme \n    spoiler: \n    la création de la marque \"Apple\" ou encore qu'il est à l'origine du smiley\n\n,  est en soit un message, car, les préjugés dont il fait l'objet tout au long du film ne l'empêche aucunement de se construire la vie dont il rêvait. C'est un message d'espoir. \n\nLes acteurs (Surtout Tom Hanks) sont géniaux et jouent leurs rôles à la perfection. La réalisation est très belle, à quelque chose de vraiment poétique et s'accorde bien avec les musiques. Zemeckis à vraiment eu bon sur toute la ligne et à mérité qu'on lui décerne l'oscar du meilleur réalisateur (Bravo aussi à Tom Hanks pour son oscar du meilleur acteur ...\n\nCe film est un chef d’œuvre et restera, pour moi, l'un des plus grands films jamais réalisés à ce jour. Un hymne à la vie. Un vraie tour de force pour un réalisateur en panne d'inspiration, et dans lequel plus personne ne croyait. D'ailleurs, je remercie au passage mes parents qui m'ont forcé à regarder ce film quand j'avais quinze ans. Trois ans que je l'ai découvert et je ne m'en lasse pas. A voir ! \n\nLa vie c'est comme une boîte de chocolats, on ne sait jamais sur quoi on va tomber."
           },
           {
            "count": 1,
            "name": "Une immense rèussite du cinèma hollywoodien! Robert Zemeckis implique son hèros imaginaire du nom de Forrest Gump dans tous les grands èvènements sur trente ans d'histoire amèricaine de 1950 à 1980 et l'intègre même dans des documents d'archives dètournès et ètonnants en lui faisant rencontrer des cèlèbritès anciennes! Avec les dèbuts d'Elvis Presley, la guerre du Vietnam et même la contre-culture du Peace And Love! Tom Hanks est à tout jamais Forrest Gump, magnifique et inoubliable prestation qui lui vaudra un second Oscar du meilleur acteur! Hèros de guerre, joueur prodigieux de ping-pong, milliardaire grâce au commerce de la crevette, inspirant le King ou Lennon pour son \"Imagine\", se retrouvant même dans le scandale du Watergate...on peut dire que son personnage en a vu du pays! C'est aussi une ode au bonheur prodigieuse et une fresque historique comme les aime les amèricains marquèe par une bande sonore extraordinaire (\"Sweet Home Alabama\" de Lynrd Skynard, \"Mrs. Robinson\" de Simon & Garfunkel, \"Everybody's talkin\" de Harry Nilsson...) , sans oublier pour autant l'excellente partition d'Alan Silvestri! Paysages à couper le souffle, F/ X novateurs, interprètation remarquable jusqu'aux seconds rôles, \"Forrest Gump\" est un joli moment de cinèma..."
           },
           {
            "count": 3,
            "name": "3 others"
           }
          ],
          "nan_count": 0,
          "unique_count": 5
         }
        },
        {
         "dtype": "float64",
         "name": "Date",
         "stats": {
          "histogram": [
           {
            "bin_end": 1305149760,
            "bin_start": 1276387200,
            "count": 1
           },
           {
            "bin_end": 1333912320,
            "bin_start": 1305149760,
            "count": 0
           },
           {
            "bin_end": 1362674880,
            "bin_start": 1333912320,
            "count": 0
           },
           {
            "bin_end": 1391437440,
            "bin_start": 1362674880,
            "count": 1
           },
           {
            "bin_end": 1420200000,
            "bin_start": 1391437440,
            "count": 2
           },
           {
            "bin_end": 1448962560,
            "bin_start": 1420200000,
            "count": 0
           },
           {
            "bin_end": 1477725120,
            "bin_start": 1448962560,
            "count": 0
           },
           {
            "bin_end": 1506487680,
            "bin_start": 1477725120,
            "count": 0
           },
           {
            "bin_end": 1535250240,
            "bin_start": 1506487680,
            "count": 0
           },
           {
            "bin_end": 1564012800,
            "bin_start": 1535250240,
            "count": 1
           }
          ],
          "max": "1564012800.0",
          "min": "1276387200.0",
          "nan_count": 0,
          "unique_count": 5
         }
        },
        {
         "dtype": "int64",
         "name": "key",
         "stats": {
          "histogram": [
           {
            "bin_end": 0.4,
            "bin_start": 0,
            "count": 1
           },
           {
            "bin_end": 0.8,
            "bin_start": 0.4,
            "count": 0
           },
           {
            "bin_end": 1.2000000000000002,
            "bin_start": 0.8,
            "count": 1
           },
           {
            "bin_end": 1.6,
            "bin_start": 1.2000000000000002,
            "count": 0
           },
           {
            "bin_end": 2,
            "bin_start": 1.6,
            "count": 0
           },
           {
            "bin_end": 2.4000000000000004,
            "bin_start": 2,
            "count": 1
           },
           {
            "bin_end": 2.8000000000000003,
            "bin_start": 2.4000000000000004,
            "count": 0
           },
           {
            "bin_end": 3.2,
            "bin_start": 2.8000000000000003,
            "count": 1
           },
           {
            "bin_end": 3.6,
            "bin_start": 3.2,
            "count": 0
           },
           {
            "bin_end": 4,
            "bin_start": 3.6,
            "count": 1
           }
          ],
          "max": "4",
          "min": "0",
          "nan_count": 0,
          "unique_count": 5
         }
        },
        {
         "dtype": "int64",
         "name": "nombre_good",
         "stats": {
          "histogram": [
           {
            "bin_end": 40.7,
            "bin_start": 28,
            "count": 2
           },
           {
            "bin_end": 53.4,
            "bin_start": 40.7,
            "count": 2
           },
           {
            "bin_end": 66.1,
            "bin_start": 53.4,
            "count": 0
           },
           {
            "bin_end": 78.8,
            "bin_start": 66.1,
            "count": 0
           },
           {
            "bin_end": 91.5,
            "bin_start": 78.8,
            "count": 0
           },
           {
            "bin_end": 104.19999999999999,
            "bin_start": 91.5,
            "count": 0
           },
           {
            "bin_end": 116.89999999999999,
            "bin_start": 104.19999999999999,
            "count": 0
           },
           {
            "bin_end": 129.6,
            "bin_start": 116.89999999999999,
            "count": 0
           },
           {
            "bin_end": 142.3,
            "bin_start": 129.6,
            "count": 0
           },
           {
            "bin_end": 155,
            "bin_start": 142.3,
            "count": 1
           }
          ],
          "max": "155",
          "min": "28",
          "nan_count": 0,
          "unique_count": 5
         }
        },
        {
         "dtype": "int64",
         "name": "nombre_bad",
         "stats": {
          "histogram": [
           {
            "bin_end": 3.7,
            "bin_start": 3,
            "count": 2
           },
           {
            "bin_end": 4.4,
            "bin_start": 3.7,
            "count": 1
           },
           {
            "bin_end": 5.1,
            "bin_start": 4.4,
            "count": 1
           },
           {
            "bin_end": 5.8,
            "bin_start": 5.1,
            "count": 0
           },
           {
            "bin_end": 6.5,
            "bin_start": 5.8,
            "count": 0
           },
           {
            "bin_end": 7.199999999999999,
            "bin_start": 6.5,
            "count": 0
           },
           {
            "bin_end": 7.8999999999999995,
            "bin_start": 7.199999999999999,
            "count": 0
           },
           {
            "bin_end": 8.6,
            "bin_start": 7.8999999999999995,
            "count": 0
           },
           {
            "bin_end": 9.3,
            "bin_start": 8.6,
            "count": 0
           },
           {
            "bin_end": 10,
            "bin_start": 9.3,
            "count": 1
           }
          ],
          "max": "10",
          "min": "3",
          "nan_count": 0,
          "unique_count": 4
         }
        },
        {
         "dtype": "int64",
         "name": "_deepnote_index_column"
        }
       ],
       "row_count": 5,
       "rows_bottom": null,
       "rows_top": [
        {
         "Date": 1365379200,
         "Description": "Forrest Gump de Robert Zemeckis (réalisateur de la trilogie \"Retour vers le futur\") signe ici son meilleur film. Puissant, touchant, émouvant, aucun adjectif ne pourrait décrire ce film qui à marqué de nombreux cinéphiles à travers le monde. Dans ce film, le réalisateur fourmille d'idées pour rendre la vie de cet homme palpitant et unique. On s'imprègne des joies et des peines de ce dernier. Bref on suit ces émotions. Et c'est peut-être la que le film fait la différence. On se reconnaît à travers lui, car chacun au plus profond de nous-mêmes, nous sommes passés par ses étapes qui caractérisent nos vies. L'amour, la mort d'un proche. \n    spoiler: \n    La mort de Jenny m'a bouleversé, je chialais comme une grosse merde\n\n\nTantôt on rit, tantôt on pleure avec Forrest. \n\nDe plus le film se distingue des autres car il fait passer pleins de différents messages. L'idée de voir à travers les yeux d\"un simplet l'histoire de l'Amérique du XX ème siècle était brillante. Le fait de voir qu'il est à l'origine de nombreuses choses comme \n    spoiler: \n    la création de la marque \"Apple\" ou encore qu'il est à l'origine du smiley\n\n,  est en soit un message, car, les préjugés dont il fait l'objet tout au long du film ne l'empêche aucunement de se construire la vie dont il rêvait. C'est un message d'espoir. \n\nLes acteurs (Surtout Tom Hanks) sont géniaux et jouent leurs rôles à la perfection. La réalisation est très belle, à quelque chose de vraiment poétique et s'accorde bien avec les musiques. Zemeckis à vraiment eu bon sur toute la ligne et à mérité qu'on lui décerne l'oscar du meilleur réalisateur (Bravo aussi à Tom Hanks pour son oscar du meilleur acteur ...\n\nCe film est un chef d’œuvre et restera, pour moi, l'un des plus grands films jamais réalisés à ce jour. Un hymne à la vie. Un vraie tour de force pour un réalisateur en panne d'inspiration, et dans lequel plus personne ne croyait. D'ailleurs, je remercie au passage mes parents qui m'ont forcé à regarder ce film quand j'avais quinze ans. Trois ans que je l'ai découvert et je ne m'en lasse pas. A voir ! \n\nLa vie c'est comme une boîte de chocolats, on ne sait jamais sur quoi on va tomber.",
         "Note": "5,0",
         "_deepnote_index_column": 0,
         "key": 0,
         "nombre_bad": 10,
         "nombre_good": 155
        },
        {
         "Date": 1564012800,
         "Description": "Une immense rèussite du cinèma hollywoodien! Robert Zemeckis implique son hèros imaginaire du nom de Forrest Gump dans tous les grands èvènements sur trente ans d'histoire amèricaine de 1950 à 1980 et l'intègre même dans des documents d'archives dètournès et ètonnants en lui faisant rencontrer des cèlèbritès anciennes! Avec les dèbuts d'Elvis Presley, la guerre du Vietnam et même la contre-culture du Peace And Love! Tom Hanks est à tout jamais Forrest Gump, magnifique et inoubliable prestation qui lui vaudra un second Oscar du meilleur acteur! Hèros de guerre, joueur prodigieux de ping-pong, milliardaire grâce au commerce de la crevette, inspirant le King ou Lennon pour son \"Imagine\", se retrouvant même dans le scandale du Watergate...on peut dire que son personnage en a vu du pays! C'est aussi une ode au bonheur prodigieuse et une fresque historique comme les aime les amèricains marquèe par une bande sonore extraordinaire (\"Sweet Home Alabama\" de Lynrd Skynard, \"Mrs. Robinson\" de Simon & Garfunkel, \"Everybody's talkin\" de Harry Nilsson...) , sans oublier pour autant l'excellente partition d'Alan Silvestri! Paysages à couper le souffle, F/ X novateurs, interprètation remarquable jusqu'aux seconds rôles, \"Forrest Gump\" est un joli moment de cinèma...",
         "Note": "4,5",
         "_deepnote_index_column": 1,
         "key": 1,
         "nombre_bad": 3,
         "nombre_good": 42
        },
        {
         "Date": 1405641600,
         "Description": "Le matin, quand il fait bon et beau, normal quoi, j'aime bien me balader à pied. Souvent, je me promène dans le parc de mon quartier. Ça peut paraître con, mais j'aime bien. Et il ne se passe jamais rien, rien de bien excitant ou de passionnant, rien qui ferait de ma vie une odyssée humaine et tragique, unique et inédite, mais bon ça me plait. Et donc, ce matin, peu réveillé, la tête encore dans les draps et le goût du café dans la bouche, j'y suis allé à contre-coeur, chose qui ne m'était plus arrivée depuis déja quelques temps. Tu vois, j'avais pas trop envie de sortir de chez moi. Alors, ce que j'ai fait, c'est que j'ai allumé la radio. Rien de passionnant. Donc, j'ai pris la télécommande, et j'ai mis la télé. Rien non plus, à par une rediffusion ( chose très rare le matin ), celle d'un film que je n'avais encore jamais vu, \"Forrest Gump\" ( oui, je n'avais pas encore eu le plaisir d'assister à ce spectacle de tendresse et d'amour ). Je l'ai regardé quoi, cinq minutes, peut-être dix? J'en avais marre, j'avais mal aux yeux. Et donc, qu'es-ce que j'ai fait, à votre avis? J'ai pris la décision de sortir de chez moi me balader, vous avez vu juste. Vingt minutes après avoir éteints ma télé, parce oui, ça m'arrive de vouloir être précis, je me baladais parmi les arbres et les oiseaux ( qui mangeaient des miettes de pain de manière amusante ), et je me posais sur u banc, parce que j'en avais légèrement marre de marcher. Je ne savais pas ce que j'avais ce matin, mais c'était vraiment pas normal. Les deux écouteurs dans les oreilles, avec du Skrillex à fond, Bangarang en tête, je restais là pour quelques minutes, surement cinq, peut-être plus. Passons au présent, je préfère. Je lève les yeux au ciel, les ferme, crevé ( merci les lendemains de soirée ), et me concentre dans le premier jump de la chanson, le genre d'instants qui vous filent des tics et des tocs par dizaines pour les trois prochaines minutes, paressant aux yeux des passants et autres promeneurs pour un gros mec hyperactif et complètement chtarbé dans sa tête. Une main me touche l'épaule. Je me retourne, enlève un écouteur, celui de droite, ouvre les yeux, passablement énervé par celui qui vient de me perturber dans mon essai de sieste ( oui, je sais, c'est bizarre de sortir pour dormir ), et me ravise. C'est qui ce gars, là?! \"Bonjour, je m'appelle Forrest Gump\". Cette voix... Ce visage... Cette façon de s'exprimer... Sans déconner, c'est une blague? Elle est où la caméra cachée?! Il a un timbre unique, le genre qui vous donne son intelligence en deux secondes top chrono, et vous fait comprendre qui vous avez à vos côtés. Il parle un peu comme un pauvre benêt, un gars qui n'aurait pas eu toutes les chances de son côté à la naissance. \"Et vous, vous vous appelez comment?\" Je fais un blanc, ne lui réponds pas tout de suite, devient vert, un peu comme si l'on me laissait des bleus après un passage à tabac, observe le pigeon gris qui me détaille avec un regard noir, enlève mon deuxième écouteur bleu et lui donne mon nom. \"Vous ne seriez pas...\" Il me coupe, et me répond que oui. Puis, il enchaîne et me dit qu'il est devenu une star depuis que le film est sortit, que maintenant les gens l'écoutent quand il leur parle, qu'ils ne s'en vont plus dès qu'il a commencé à un peu trop s'éterniser dans son histoire, qu'il comprend pleinement ce que sa maman voulait dire quand elle lui répétait \"La vie, c'est comme le chocolat, on ne sait jamais sur quoi on va tomber\", et qu'il regrette sa vie d'avant, avec sa mère et sa copine, Jennifer, avec qui il a eu Forrest Gump, et son meilleur ( unique ) ami, Bubba, pour qui il a fondé une entreprise de pêcheur de crevettes, grâce à laquelle il a fait fortune, aux côtés du sergent Taylor, pauvre gars qui avait perdu ses jambes au vietnam, et que Forrest, en courant, avait sauvé du trépas, lui promettant un avenir meilleur. Mais il regrette surtout son enfance, où personne n'avait encore disparu, où il avait connu de grands hommes, presque tous morts aujourd’hui, Elvis \"le King\" Presley, John Kennedy et je ne sais plus trop qui, qui me laissent unanimement présager que ce pauvre gars est maudit. Presque tous ceux qui le rencontrent meurent, alors que lui connait un destin encore plus radieux et lumineux que n'importe lequel d'entre nous, véritable leçon de vie sur patte. Et là, le mec me bouleverse, m'attriste, me surprend, m'éblouit, me réconforte ( grâce à des moments tous plus beaux les uns que les autres ), innove et me livre une histoire que je n'aurai jamais pu imaginer. Il en a dans la tête, le pauvre gars, victime de la vie et de la guerre, mais tellement heureux après toutes ces épreuves endurées. Et le pauvre gars me redonne le sourire. Son histoire, sa vie, presque l'intrigue de son existence, sont magnifiques et uniques, bouleversantes et tragiques, mais tellement belles et touchantes! C'est le seul gars qui m'a fait pleuré grâce à son histoire! \"Pourquoi vous ne partez pas?\" Me demande-t-il gentiment. Il demandait ça tout le temps au bout d'un moment, quand il arrivait un peu trop loin dans l'histoire, m'a-t-il dit. Et la fin, dramatique et émouvante, gagne en puissance grâce à une dernière image aussi magique que tout le reste. L'histoire de cet homme est fantastique, il y a vu l'évolution de nombre de grands noms de l'histoire de l'homme moderne et de l'Amérique, et je ne peux que me dire que la mienne n'est rien comparée à la sienne. Et si... Le réveil sonne, je me lève, allume la télé, me remet encore du choc d'avoir vu pour la première fois le chef-d'oeuvre \"Forrest Gump\" hier soir, et imagine le reste de ma journée. Pourquoi pas me mater \"Taxi Driver\", ce soir? Il était beau, ce rêve, quand même...",
         "Note": "5,0",
         "_deepnote_index_column": 2,
         "key": 2,
         "nombre_bad": 4,
         "nombre_good": 39
        },
        {
         "Date": 1276387200,
         "Description": "Un film immense, rempli de poésie et de bons sentiments sans tomber dans le mièvre. Ce film est tout simplement un chef d'oeuvre. Le scénario est fantastique,  nous faisant revivre des éléments marquants de l'histoire des Etats-Unis post-seconde guerre mondiale. Même l'histoire d'amour s'avère riche et est très crédible. Enfin il faut s'attarder sur la performance de Tom Hanks, parfaite en tout point, le petit Forrest ne pourra pas s'empêcher de vous faire fondre en le voyant. Du très grand art!",
         "Note": "5,0",
         "_deepnote_index_column": 3,
         "key": 3,
         "nombre_bad": 5,
         "nombre_good": 46
        },
        {
         "Date": 1408320000,
         "Description": "Un très grand film . Ce film suit la vie sur plusieurs décennie d'un simple d'esprit nommer forrest gumps ( Tom Hanks ) qui va pourtant mener une vie incroyable  \n    spoiler: \n    a la fois héros de la guerre du Vietnam , star de football américain , star de Ping pong , capitaine de crevettier qui fera de lui un milliardaire \n\n. Sans qu'il ne s'en rende compte ses actes vont influencé pas mal d'événements historiques \n    spoiler: \n     ( le watergate) \n\n et de personnages célèbres  (\n    spoiler: \n     Elvis Presley )\n\n ... Tom Hanks est tout simplement époustouflant dans le rôle de forrest gumps ce simple d'esprit qui va mener une vie incroyable . ce rôle  restera sûrement comme son plus grand rôle au cinéma . Il joue a merveille le rôle du simple d'esprit que se soit dans ses gestes , son comportement et dans sa façon de parler . Il est tellement bon qu'on y croit a fond et qu'on a pas l'impression qu'il joue la comédie il est forrest gumps . Il fut récompenser a juste titre de l'oscar du meilleur acteur pour sa performance incroyable . Le reste du casting est également très bon . Un film a la fois drôle et émouvant . L'histoire de ce film est vraiment prenante . On est vraiment captiver de bout en bout devant la vie incroyable et les péripéties de  ce simple d'esprit nommer Forrest gumps . Un personnage pas très malin et pas très intelligent  mais qui va tenter de trouver sa place dans ce monde hostile a son égard et qui le moque sans arrêt . Il  n'ai pas très intelligent mais il va découvrir qu'il a d'autre talent en compensation qui lui permettront de se faire une place dans ce monde et de mener une vie incroyable .forrest gumps voit le monde a sa manière avec une naïveté très touchante .son intelligence limité fait qu'il ne réfléchit pas toujour a ce qu'il dit ni a ce qu'il fait au risque de sortir des énormités ou de faire quelques bourdes en tout genre \n    spoiler: \n    ( montrer ses fesses au président ou sauter de son bateau sans l'arrêter )\n\n et sa va donner des moments assez hilarants . Le personnage de forrest gumps est vraiment attachant . Ses actes pas toujour très réfléchit vont avoir une influence capital sur certains événements historiques et sur certaines personnalités célèbres . Un film qui jongle a merveille entre rire et émotion.  Un film remplit de scènes très drôles ( booba qui cite toute les recettes avec des crevettes ) et de scènes très émouvantes  ( \n    spoiler: \n    la mort de Jenny , forrest qui apprend qu'il a un fils\n\n ) . Le film contient une pléiade de  répliques devenu cultes et passer dans le langage courant ( cour forrest cour , la vie c'est comme une boîte de chocolat on ne sait jamais sur quoi on va tomber ...) . La musique du film est  magnifique et colle parfaitement a l'ambiance du film . La réalisation de Robert zemeckis est incroyable . il revisite  trente ans de l'histoire américaine a travers les yeux de forrest gumps  grâce  une reconstitution minutieuse du a de très bons costumes , décors et de très bons trucages visuels .un film qui connut un succès considérable a travers le monde et qui fut récompenser d'une pluie de récompense dont 6 oscars amplement mériter . Un film cultissime.",
         "Note": "5,0",
         "_deepnote_index_column": 4,
         "key": 4,
         "nombre_bad": 3,
         "nombre_good": 28
        }
       ]
      },
      "text/html": [
       "<div>\n",
       "<style scoped>\n",
       "    .dataframe tbody tr th:only-of-type {\n",
       "        vertical-align: middle;\n",
       "    }\n",
       "\n",
       "    .dataframe tbody tr th {\n",
       "        vertical-align: top;\n",
       "    }\n",
       "\n",
       "    .dataframe thead th {\n",
       "        text-align: right;\n",
       "    }\n",
       "</style>\n",
       "<table border=\"1\" class=\"dataframe\">\n",
       "  <thead>\n",
       "    <tr style=\"text-align: right;\">\n",
       "      <th></th>\n",
       "      <th>Note</th>\n",
       "      <th>Description</th>\n",
       "      <th>Date</th>\n",
       "      <th>key</th>\n",
       "      <th>nombre_good</th>\n",
       "      <th>nombre_bad</th>\n",
       "    </tr>\n",
       "  </thead>\n",
       "  <tbody>\n",
       "    <tr>\n",
       "      <th>0</th>\n",
       "      <td>5,0</td>\n",
       "      <td>Forrest Gump de Robert Zemeckis (réalisateur d...</td>\n",
       "      <td>1.365379e+09</td>\n",
       "      <td>0</td>\n",
       "      <td>155</td>\n",
       "      <td>10</td>\n",
       "    </tr>\n",
       "    <tr>\n",
       "      <th>1</th>\n",
       "      <td>4,5</td>\n",
       "      <td>Une immense rèussite du cinèma hollywoodien! R...</td>\n",
       "      <td>1.564013e+09</td>\n",
       "      <td>1</td>\n",
       "      <td>42</td>\n",
       "      <td>3</td>\n",
       "    </tr>\n",
       "    <tr>\n",
       "      <th>2</th>\n",
       "      <td>5,0</td>\n",
       "      <td>Le matin, quand il fait bon et beau, normal qu...</td>\n",
       "      <td>1.405642e+09</td>\n",
       "      <td>2</td>\n",
       "      <td>39</td>\n",
       "      <td>4</td>\n",
       "    </tr>\n",
       "    <tr>\n",
       "      <th>3</th>\n",
       "      <td>5,0</td>\n",
       "      <td>Un film immense, rempli de poésie et de bons s...</td>\n",
       "      <td>1.276387e+09</td>\n",
       "      <td>3</td>\n",
       "      <td>46</td>\n",
       "      <td>5</td>\n",
       "    </tr>\n",
       "    <tr>\n",
       "      <th>4</th>\n",
       "      <td>5,0</td>\n",
       "      <td>Un très grand film . Ce film suit la vie sur p...</td>\n",
       "      <td>1.408320e+09</td>\n",
       "      <td>4</td>\n",
       "      <td>28</td>\n",
       "      <td>3</td>\n",
       "    </tr>\n",
       "  </tbody>\n",
       "</table>\n",
       "</div>"
      ],
      "text/plain": [
       "  Note                                        Description          Date  key  \\\n",
       "0  5,0  Forrest Gump de Robert Zemeckis (réalisateur d...  1.365379e+09    0   \n",
       "1  4,5  Une immense rèussite du cinèma hollywoodien! R...  1.564013e+09    1   \n",
       "2  5,0  Le matin, quand il fait bon et beau, normal qu...  1.405642e+09    2   \n",
       "3  5,0  Un film immense, rempli de poésie et de bons s...  1.276387e+09    3   \n",
       "4  5,0  Un très grand film . Ce film suit la vie sur p...  1.408320e+09    4   \n",
       "\n",
       "   nombre_good  nombre_bad  \n",
       "0          155          10  \n",
       "1           42           3  \n",
       "2           39           4  \n",
       "3           46           5  \n",
       "4           28           3  "
      ]
     },
     "execution_count": 199,
     "metadata": {},
     "output_type": "execute_result"
    }
   ],
   "source": [
    "df.head()"
   ]
  },
  {
   "cell_type": "code",
   "execution_count": 1,
   "metadata": {
    "cell_id": "00010-819d9aaf-a736-4695-bf57-c0df2a751c41",
    "deepnote_cell_type": "code",
    "deepnote_to_be_reexecuted": false,
    "execution_millis": 425,
    "execution_start": 1620224996565,
    "source_hash": "1b485e68",
    "tags": []
   },
   "outputs": [
    {
     "ename": "NameError",
     "evalue": "name 'df' is not defined",
     "output_type": "error",
     "traceback": [
      "\u001b[0;31m---------------------------------------------------------------------------\u001b[0m",
      "\u001b[0;31mNameError\u001b[0m                                 Traceback (most recent call last)",
      "\u001b[0;32m<ipython-input-1-cb572bb4a3b1>\u001b[0m in \u001b[0;36m<module>\u001b[0;34m\u001b[0m\n\u001b[0;32m----> 1\u001b[0;31m \u001b[0mdf\u001b[0m\u001b[0;34m[\u001b[0m\u001b[0;34m'Note'\u001b[0m\u001b[0;34m]\u001b[0m\u001b[0;34m.\u001b[0m\u001b[0mhist\u001b[0m\u001b[0;34m(\u001b[0m\u001b[0;34m)\u001b[0m\u001b[0;34m\u001b[0m\u001b[0;34m\u001b[0m\u001b[0m\n\u001b[0m",
      "\u001b[0;31mNameError\u001b[0m: name 'df' is not defined"
     ]
    }
   ],
   "source": [
    "df['Note'].hist()"
   ]
  },
  {
   "cell_type": "code",
   "execution_count": 201,
   "metadata": {
    "cell_id": "00011-083895d3-c7b6-473f-addc-43e09ef772c6",
    "deepnote_cell_type": "code",
    "deepnote_to_be_reexecuted": false,
    "execution_millis": 24,
    "execution_start": 1620224124081,
    "source_hash": "703b44b0",
    "tags": []
   },
   "outputs": [
    {
     "data": {
      "text/plain": [
       "0      1639\n",
       "1       230\n",
       "2        61\n",
       "3        30\n",
       "4        11\n",
       "7         8\n",
       "5         5\n",
       "8         4\n",
       "6         3\n",
       "12        2\n",
       "9         2\n",
       "10        1\n",
       "11        1\n",
       "14        1\n",
       "16        1\n",
       "17        1\n",
       "19        1\n",
       "23        1\n",
       "27        1\n",
       "28        1\n",
       "39        1\n",
       "42        1\n",
       "46        1\n",
       "51        1\n",
       "155       1\n",
       "Name: nombre_good, dtype: int64"
      ]
     },
     "execution_count": 201,
     "metadata": {},
     "output_type": "execute_result"
    }
   ],
   "source": [
    "df[\"nombre_good\"].value_counts()"
   ]
  },
  {
   "cell_type": "code",
   "execution_count": 202,
   "metadata": {
    "cell_id": "00012-91713e14-e1dd-45e1-8d5c-0115c30c0f06",
    "deepnote_cell_type": "code",
    "deepnote_to_be_reexecuted": false,
    "execution_millis": 15,
    "execution_start": 1620224124090,
    "source_hash": "6d8284c0",
    "tags": []
   },
   "outputs": [
    {
     "data": {
      "text/plain": [
       "0      1748\n",
       "1       147\n",
       "2        41\n",
       "3        19\n",
       "4        13\n",
       "5         7\n",
       "6         4\n",
       "11        2\n",
       "20        2\n",
       "15        2\n",
       "10        2\n",
       "9         2\n",
       "8         2\n",
       "58        1\n",
       "86        1\n",
       "85        1\n",
       "126       1\n",
       "78        1\n",
       "71        1\n",
       "67        1\n",
       "61        1\n",
       "18        1\n",
       "48        1\n",
       "47        1\n",
       "36        1\n",
       "29        1\n",
       "26        1\n",
       "13        1\n",
       "12        1\n",
       "7         1\n",
       "135       1\n",
       "Name: nombre_bad, dtype: int64"
      ]
     },
     "execution_count": 202,
     "metadata": {},
     "output_type": "execute_result"
    }
   ],
   "source": [
    "df[\"nombre_bad\"].value_counts()"
   ]
  },
  {
   "cell_type": "code",
   "execution_count": 203,
   "metadata": {
    "cell_id": "00013-0ecd856e-f676-4a94-bf31-fbb4082a8f3e",
    "deepnote_cell_type": "code",
    "deepnote_to_be_reexecuted": false,
    "execution_millis": 21,
    "execution_start": 1620224124101,
    "source_hash": "c44489ca",
    "tags": []
   },
   "outputs": [
    {
     "data": {
      "text/plain": [
       "1.159488e+09    63\n",
       "1.352246e+09     9\n",
       "1.378339e+09     9\n",
       "1.352333e+09     8\n",
       "1.352506e+09     6\n",
       "                ..\n",
       "1.330301e+09     1\n",
       "1.415059e+09     1\n",
       "1.180742e+09     1\n",
       "1.246234e+09     1\n",
       "1.365638e+09     1\n",
       "Name: Date, Length: 1484, dtype: int64"
      ]
     },
     "execution_count": 203,
     "metadata": {},
     "output_type": "execute_result"
    }
   ],
   "source": [
    "df[\"Date\"].value_counts()"
   ]
  },
  {
   "cell_type": "code",
   "execution_count": 204,
   "metadata": {
    "cell_id": "00014-c32fbdee-2ba3-463a-9ea1-ae7cc22b249c",
    "deepnote_cell_type": "code",
    "deepnote_to_be_reexecuted": false,
    "execution_millis": 6,
    "execution_start": 1620224124161,
    "source_hash": "b792e6d9",
    "tags": []
   },
   "outputs": [
    {
     "data": {
      "text/plain": [
       "1    1667\n",
       "0     342\n",
       "Name: binary_note, dtype: int64"
      ]
     },
     "execution_count": 204,
     "metadata": {},
     "output_type": "execute_result"
    }
   ],
   "source": [
    "df[\"Note\"] = df[\"Note\"].apply(lambda n: n.replace(\",\", \".\"))\n",
    "df[\"binary_note\"] = df[\"Note\"].apply(lambda n : 0 if float(n) < 4.5 else 1 )\n",
    "df.head()\n",
    "df[\"binary_note\"].value_counts()"
   ]
  },
  {
   "cell_type": "code",
   "execution_count": 205,
   "metadata": {
    "cell_id": "00015-82657db4-5b13-4e02-9dba-f1413be95457",
    "deepnote_cell_type": "code",
    "deepnote_to_be_reexecuted": false,
    "execution_millis": 146,
    "execution_start": 1620224124163,
    "source_hash": "48a264ac",
    "tags": []
   },
   "outputs": [
    {
     "data": {
      "application/vnd.deepnote.dataframe.v2+json": {
       "column_count": 12,
       "columns": [
        {
         "dtype": "object",
         "name": "Note",
         "stats": {
          "categories": [
           {
            "count": 4,
            "name": "5.0"
           },
           {
            "count": 1,
            "name": "4.5"
           }
          ],
          "nan_count": 0,
          "unique_count": 2
         }
        },
        {
         "dtype": "object",
         "name": "Description",
         "stats": {
          "categories": [
           {
            "count": 1,
            "name": "Forrest Gump de Robert Zemeckis (réalisateur de la trilogie \"Retour vers le futur\") signe ici son meilleur film. Puissant, touchant, émouvant, aucun adjectif ne pourrait décrire ce film qui à marqué de nombreux cinéphiles à travers le monde. Dans ce film, le réalisateur fourmille d'idées pour rendre la vie de cet homme palpitant et unique. On s'imprègne des joies et des peines de ce dernier. Bref on suit ces émotions. Et c'est peut-être la que le film fait la différence. On se reconnaît à travers lui, car chacun au plus profond de nous-mêmes, nous sommes passés par ses étapes qui caractérisent nos vies. L'amour, la mort d'un proche. \n    spoiler: \n    La mort de Jenny m'a bouleversé, je chialais comme une grosse merde\n\n\nTantôt on rit, tantôt on pleure avec Forrest. \n\nDe plus le film se distingue des autres car il fait passer pleins de différents messages. L'idée de voir à travers les yeux d\"un simplet l'histoire de l'Amérique du XX ème siècle était brillante. Le fait de voir qu'il est à l'origine de nombreuses choses comme \n    spoiler: \n    la création de la marque \"Apple\" ou encore qu'il est à l'origine du smiley\n\n,  est en soit un message, car, les préjugés dont il fait l'objet tout au long du film ne l'empêche aucunement de se construire la vie dont il rêvait. C'est un message d'espoir. \n\nLes acteurs (Surtout Tom Hanks) sont géniaux et jouent leurs rôles à la perfection. La réalisation est très belle, à quelque chose de vraiment poétique et s'accorde bien avec les musiques. Zemeckis à vraiment eu bon sur toute la ligne et à mérité qu'on lui décerne l'oscar du meilleur réalisateur (Bravo aussi à Tom Hanks pour son oscar du meilleur acteur ...\n\nCe film est un chef d’œuvre et restera, pour moi, l'un des plus grands films jamais réalisés à ce jour. Un hymne à la vie. Un vraie tour de force pour un réalisateur en panne d'inspiration, et dans lequel plus personne ne croyait. D'ailleurs, je remercie au passage mes parents qui m'ont forcé à regarder ce film quand j'avais quinze ans. Trois ans que je l'ai découvert et je ne m'en lasse pas. A voir ! \n\nLa vie c'est comme une boîte de chocolats, on ne sait jamais sur quoi on va tomber."
           },
           {
            "count": 1,
            "name": "Une immense rèussite du cinèma hollywoodien! Robert Zemeckis implique son hèros imaginaire du nom de Forrest Gump dans tous les grands èvènements sur trente ans d'histoire amèricaine de 1950 à 1980 et l'intègre même dans des documents d'archives dètournès et ètonnants en lui faisant rencontrer des cèlèbritès anciennes! Avec les dèbuts d'Elvis Presley, la guerre du Vietnam et même la contre-culture du Peace And Love! Tom Hanks est à tout jamais Forrest Gump, magnifique et inoubliable prestation qui lui vaudra un second Oscar du meilleur acteur! Hèros de guerre, joueur prodigieux de ping-pong, milliardaire grâce au commerce de la crevette, inspirant le King ou Lennon pour son \"Imagine\", se retrouvant même dans le scandale du Watergate...on peut dire que son personnage en a vu du pays! C'est aussi une ode au bonheur prodigieuse et une fresque historique comme les aime les amèricains marquèe par une bande sonore extraordinaire (\"Sweet Home Alabama\" de Lynrd Skynard, \"Mrs. Robinson\" de Simon & Garfunkel, \"Everybody's talkin\" de Harry Nilsson...) , sans oublier pour autant l'excellente partition d'Alan Silvestri! Paysages à couper le souffle, F/ X novateurs, interprètation remarquable jusqu'aux seconds rôles, \"Forrest Gump\" est un joli moment de cinèma..."
           },
           {
            "count": 3,
            "name": "3 others"
           }
          ],
          "nan_count": 0,
          "unique_count": 5
         }
        },
        {
         "dtype": "float64",
         "name": "Date",
         "stats": {
          "histogram": [
           {
            "bin_end": 1305149760,
            "bin_start": 1276387200,
            "count": 1
           },
           {
            "bin_end": 1333912320,
            "bin_start": 1305149760,
            "count": 0
           },
           {
            "bin_end": 1362674880,
            "bin_start": 1333912320,
            "count": 0
           },
           {
            "bin_end": 1391437440,
            "bin_start": 1362674880,
            "count": 1
           },
           {
            "bin_end": 1420200000,
            "bin_start": 1391437440,
            "count": 2
           },
           {
            "bin_end": 1448962560,
            "bin_start": 1420200000,
            "count": 0
           },
           {
            "bin_end": 1477725120,
            "bin_start": 1448962560,
            "count": 0
           },
           {
            "bin_end": 1506487680,
            "bin_start": 1477725120,
            "count": 0
           },
           {
            "bin_end": 1535250240,
            "bin_start": 1506487680,
            "count": 0
           },
           {
            "bin_end": 1564012800,
            "bin_start": 1535250240,
            "count": 1
           }
          ],
          "max": "1564012800.0",
          "min": "1276387200.0",
          "nan_count": 0,
          "unique_count": 5
         }
        },
        {
         "dtype": "int64",
         "name": "key",
         "stats": {
          "histogram": [
           {
            "bin_end": 0.4,
            "bin_start": 0,
            "count": 1
           },
           {
            "bin_end": 0.8,
            "bin_start": 0.4,
            "count": 0
           },
           {
            "bin_end": 1.2000000000000002,
            "bin_start": 0.8,
            "count": 1
           },
           {
            "bin_end": 1.6,
            "bin_start": 1.2000000000000002,
            "count": 0
           },
           {
            "bin_end": 2,
            "bin_start": 1.6,
            "count": 0
           },
           {
            "bin_end": 2.4000000000000004,
            "bin_start": 2,
            "count": 1
           },
           {
            "bin_end": 2.8000000000000003,
            "bin_start": 2.4000000000000004,
            "count": 0
           },
           {
            "bin_end": 3.2,
            "bin_start": 2.8000000000000003,
            "count": 1
           },
           {
            "bin_end": 3.6,
            "bin_start": 3.2,
            "count": 0
           },
           {
            "bin_end": 4,
            "bin_start": 3.6,
            "count": 1
           }
          ],
          "max": "4",
          "min": "0",
          "nan_count": 0,
          "unique_count": 5
         }
        },
        {
         "dtype": "int64",
         "name": "nombre_good",
         "stats": {
          "histogram": [
           {
            "bin_end": 40.7,
            "bin_start": 28,
            "count": 2
           },
           {
            "bin_end": 53.4,
            "bin_start": 40.7,
            "count": 2
           },
           {
            "bin_end": 66.1,
            "bin_start": 53.4,
            "count": 0
           },
           {
            "bin_end": 78.8,
            "bin_start": 66.1,
            "count": 0
           },
           {
            "bin_end": 91.5,
            "bin_start": 78.8,
            "count": 0
           },
           {
            "bin_end": 104.19999999999999,
            "bin_start": 91.5,
            "count": 0
           },
           {
            "bin_end": 116.89999999999999,
            "bin_start": 104.19999999999999,
            "count": 0
           },
           {
            "bin_end": 129.6,
            "bin_start": 116.89999999999999,
            "count": 0
           },
           {
            "bin_end": 142.3,
            "bin_start": 129.6,
            "count": 0
           },
           {
            "bin_end": 155,
            "bin_start": 142.3,
            "count": 1
           }
          ],
          "max": "155",
          "min": "28",
          "nan_count": 0,
          "unique_count": 5
         }
        },
        {
         "dtype": "int64",
         "name": "nombre_bad",
         "stats": {
          "histogram": [
           {
            "bin_end": 3.7,
            "bin_start": 3,
            "count": 2
           },
           {
            "bin_end": 4.4,
            "bin_start": 3.7,
            "count": 1
           },
           {
            "bin_end": 5.1,
            "bin_start": 4.4,
            "count": 1
           },
           {
            "bin_end": 5.8,
            "bin_start": 5.1,
            "count": 0
           },
           {
            "bin_end": 6.5,
            "bin_start": 5.8,
            "count": 0
           },
           {
            "bin_end": 7.199999999999999,
            "bin_start": 6.5,
            "count": 0
           },
           {
            "bin_end": 7.8999999999999995,
            "bin_start": 7.199999999999999,
            "count": 0
           },
           {
            "bin_end": 8.6,
            "bin_start": 7.8999999999999995,
            "count": 0
           },
           {
            "bin_end": 9.3,
            "bin_start": 8.6,
            "count": 0
           },
           {
            "bin_end": 10,
            "bin_start": 9.3,
            "count": 1
           }
          ],
          "max": "10",
          "min": "3",
          "nan_count": 0,
          "unique_count": 4
         }
        },
        {
         "dtype": "int64",
         "name": "binary_note",
         "stats": {
          "histogram": [
           {
            "bin_end": 0.6,
            "bin_start": 0.5,
            "count": 0
           },
           {
            "bin_end": 0.7,
            "bin_start": 0.6,
            "count": 0
           },
           {
            "bin_end": 0.8,
            "bin_start": 0.7,
            "count": 0
           },
           {
            "bin_end": 0.9,
            "bin_start": 0.8,
            "count": 0
           },
           {
            "bin_end": 1,
            "bin_start": 0.9,
            "count": 0
           },
           {
            "bin_end": 1.1,
            "bin_start": 1,
            "count": 5
           },
           {
            "bin_end": 1.2000000000000002,
            "bin_start": 1.1,
            "count": 0
           },
           {
            "bin_end": 1.3,
            "bin_start": 1.2000000000000002,
            "count": 0
           },
           {
            "bin_end": 1.4,
            "bin_start": 1.3,
            "count": 0
           },
           {
            "bin_end": 1.5,
            "bin_start": 1.4,
            "count": 0
           }
          ],
          "max": "1",
          "min": "1",
          "nan_count": 0,
          "unique_count": 1
         }
        },
        {
         "dtype": "int64",
         "name": "word_count",
         "stats": {
          "histogram": [
           {
            "bin_end": 176.5,
            "bin_start": 82,
            "count": 1
           },
           {
            "bin_end": 271,
            "bin_start": 176.5,
            "count": 1
           },
           {
            "bin_end": 365.5,
            "bin_start": 271,
            "count": 0
           },
           {
            "bin_end": 460,
            "bin_start": 365.5,
            "count": 1
           },
           {
            "bin_end": 554.5,
            "bin_start": 460,
            "count": 0
           },
           {
            "bin_end": 649,
            "bin_start": 554.5,
            "count": 1
           },
           {
            "bin_end": 743.5,
            "bin_start": 649,
            "count": 0
           },
           {
            "bin_end": 838,
            "bin_start": 743.5,
            "count": 0
           },
           {
            "bin_end": 932.5,
            "bin_start": 838,
            "count": 0
           },
           {
            "bin_end": 1027,
            "bin_start": 932.5,
            "count": 1
           }
          ],
          "max": "1027",
          "min": "82",
          "nan_count": 0,
          "unique_count": 5
         }
        },
        {
         "dtype": "int64",
         "name": "char_count",
         "stats": {
          "histogram": [
           {
            "bin_end": 845.1,
            "bin_start": 419,
            "count": 1
           },
           {
            "bin_end": 1271.2,
            "bin_start": 845.1,
            "count": 1
           },
           {
            "bin_end": 1697.3000000000002,
            "bin_start": 1271.2,
            "count": 0
           },
           {
            "bin_end": 2123.4,
            "bin_start": 1697.3000000000002,
            "count": 1
           },
           {
            "bin_end": 2549.5,
            "bin_start": 2123.4,
            "count": 0
           },
           {
            "bin_end": 2975.6000000000004,
            "bin_start": 2549.5,
            "count": 1
           },
           {
            "bin_end": 3401.7000000000003,
            "bin_start": 2975.6000000000004,
            "count": 0
           },
           {
            "bin_end": 3827.8,
            "bin_start": 3401.7000000000003,
            "count": 0
           },
           {
            "bin_end": 4253.9,
            "bin_start": 3827.8,
            "count": 0
           },
           {
            "bin_end": 4680,
            "bin_start": 4253.9,
            "count": 1
           }
          ],
          "max": "4680",
          "min": "419",
          "nan_count": 0,
          "unique_count": 5
         }
        },
        {
         "dtype": "int64",
         "name": "sentence_count",
         "stats": {
          "histogram": [
           {
            "bin_end": 10.8,
            "bin_start": 6,
            "count": 1
           },
           {
            "bin_end": 15.6,
            "bin_start": 10.8,
            "count": 1
           },
           {
            "bin_end": 20.4,
            "bin_start": 15.6,
            "count": 0
           },
           {
            "bin_end": 25.2,
            "bin_start": 20.4,
            "count": 1
           },
           {
            "bin_end": 30,
            "bin_start": 25.2,
            "count": 0
           },
           {
            "bin_end": 34.8,
            "bin_start": 30,
            "count": 1
           },
           {
            "bin_end": 39.6,
            "bin_start": 34.8,
            "count": 0
           },
           {
            "bin_end": 44.4,
            "bin_start": 39.6,
            "count": 0
           },
           {
            "bin_end": 49.199999999999996,
            "bin_start": 44.4,
            "count": 0
           },
           {
            "bin_end": 54,
            "bin_start": 49.199999999999996,
            "count": 1
           }
          ],
          "max": "54",
          "min": "6",
          "nan_count": 0,
          "unique_count": 5
         }
        },
        {
         "dtype": "float64",
         "name": "avg_word_length",
         "stats": {
          "histogram": [
           {
            "bin_end": 4.262518006338231,
            "bin_start": 4.123595505617978,
            "count": 1
           },
           {
            "bin_end": 4.401440507058485,
            "bin_start": 4.262518006338231,
            "count": 0
           },
           {
            "bin_end": 4.540363007778738,
            "bin_start": 4.401440507058485,
            "count": 1
           },
           {
            "bin_end": 4.6792855084989915,
            "bin_start": 4.540363007778738,
            "count": 1
           },
           {
            "bin_end": 4.818208009219245,
            "bin_start": 4.6792855084989915,
            "count": 0
           },
           {
            "bin_end": 4.957130509939499,
            "bin_start": 4.818208009219245,
            "count": 0
           },
           {
            "bin_end": 5.096053010659753,
            "bin_start": 4.957130509939499,
            "count": 0
           },
           {
            "bin_end": 5.234975511380005,
            "bin_start": 5.096053010659753,
            "count": 1
           },
           {
            "bin_end": 5.373898012100259,
            "bin_start": 5.234975511380005,
            "count": 0
           },
           {
            "bin_end": 5.512820512820513,
            "bin_start": 5.373898012100259,
            "count": 1
           }
          ],
          "max": "5.512820512820513",
          "min": "4.123595505617978",
          "nan_count": 0,
          "unique_count": 5
         }
        },
        {
         "dtype": "float64",
         "name": "avg_sentence_lenght",
         "stats": {
          "histogram": [
           {
            "bin_end": 14.246875,
            "bin_start": 13.666666666666666,
            "count": 1
           },
           {
            "bin_end": 14.827083333333333,
            "bin_start": 14.246875,
            "count": 0
           },
           {
            "bin_end": 15.407291666666666,
            "bin_start": 14.827083333333333,
            "count": 0
           },
           {
            "bin_end": 15.9875,
            "bin_start": 15.407291666666666,
            "count": 1
           },
           {
            "bin_end": 16.567708333333332,
            "bin_start": 15.9875,
            "count": 0
           },
           {
            "bin_end": 17.147916666666667,
            "bin_start": 16.567708333333332,
            "count": 0
           },
           {
            "bin_end": 17.728125,
            "bin_start": 17.147916666666667,
            "count": 1
           },
           {
            "bin_end": 18.308333333333334,
            "bin_start": 17.728125,
            "count": 0
           },
           {
            "bin_end": 18.88854166666667,
            "bin_start": 18.308333333333334,
            "count": 0
           },
           {
            "bin_end": 19.46875,
            "bin_start": 18.88854166666667,
            "count": 2
           }
          ],
          "max": "19.46875",
          "min": "13.666666666666666",
          "nan_count": 0,
          "unique_count": 5
         }
        },
        {
         "dtype": "int64",
         "name": "_deepnote_index_column"
        }
       ],
       "row_count": 5,
       "rows_bottom": null,
       "rows_top": [
        {
         "Date": 1365379200,
         "Description": "Forrest Gump de Robert Zemeckis (réalisateur de la trilogie \"Retour vers le futur\") signe ici son meilleur film. Puissant, touchant, émouvant, aucun adjectif ne pourrait décrire ce film qui à marqué de nombreux cinéphiles à travers le monde. Dans ce film, le réalisateur fourmille d'idées pour rendre la vie de cet homme palpitant et unique. On s'imprègne des joies et des peines de ce dernier. Bref on suit ces émotions. Et c'est peut-être la que le film fait la différence. On se reconnaît à travers lui, car chacun au plus profond de nous-mêmes, nous sommes passés par ses étapes qui caractérisent nos vies. L'amour, la mort d'un proche. \n    spoiler: \n    La mort de Jenny m'a bouleversé, je chialais comme une grosse merde\n\n\nTantôt on rit, tantôt on pleure avec Forrest. \n\nDe plus le film se distingue des autres car il fait passer pleins de différents messages. L'idée de voir à travers les yeux d\"un simplet l'histoire de l'Amérique du XX ème siècle était brillante. Le fait de voir qu'il est à l'origine de nombreuses choses comme \n    spoiler: \n    la création de la marque \"Apple\" ou encore qu'il est à l'origine du smiley\n\n,  est en soit un message, car, les préjugés dont il fait l'objet tout au long du film ne l'empêche aucunement de se construire la vie dont il rêvait. C'est un message d'espoir. \n\nLes acteurs (Surtout Tom Hanks) sont géniaux et jouent leurs rôles à la perfection. La réalisation est très belle, à quelque chose de vraiment poétique et s'accorde bien avec les musiques. Zemeckis à vraiment eu bon sur toute la ligne et à mérité qu'on lui décerne l'oscar du meilleur réalisateur (Bravo aussi à Tom Hanks pour son oscar du meilleur acteur ...\n\nCe film est un chef d’œuvre et restera, pour moi, l'un des plus grands films jamais réalisés à ce jour. Un hymne à la vie. Un vraie tour de force pour un réalisateur en panne d'inspiration, et dans lequel plus personne ne croyait. D'ailleurs, je remercie au passage mes parents qui m'ont forcé à regarder ce film quand j'avais quinze ans. Trois ans que je l'ai découvert et je ne m'en lasse pas. A voir ! \n\nLa vie c'est comme une boîte de chocolats, on ne sait jamais sur quoi on va tomber.",
         "Note": "5.0",
         "_deepnote_index_column": 0,
         "avg_sentence_lenght": 15.68,
         "avg_word_length": 4.525510204081633,
         "binary_note": 1,
         "char_count": 1774,
         "key": 0,
         "nombre_bad": 10,
         "nombre_good": 155,
         "sentence_count": 25,
         "word_count": 392
        },
        {
         "Date": 1564012800,
         "Description": "Une immense rèussite du cinèma hollywoodien! Robert Zemeckis implique son hèros imaginaire du nom de Forrest Gump dans tous les grands èvènements sur trente ans d'histoire amèricaine de 1950 à 1980 et l'intègre même dans des documents d'archives dètournès et ètonnants en lui faisant rencontrer des cèlèbritès anciennes! Avec les dèbuts d'Elvis Presley, la guerre du Vietnam et même la contre-culture du Peace And Love! Tom Hanks est à tout jamais Forrest Gump, magnifique et inoubliable prestation qui lui vaudra un second Oscar du meilleur acteur! Hèros de guerre, joueur prodigieux de ping-pong, milliardaire grâce au commerce de la crevette, inspirant le King ou Lennon pour son \"Imagine\", se retrouvant même dans le scandale du Watergate...on peut dire que son personnage en a vu du pays! C'est aussi une ode au bonheur prodigieuse et une fresque historique comme les aime les amèricains marquèe par une bande sonore extraordinaire (\"Sweet Home Alabama\" de Lynrd Skynard, \"Mrs. Robinson\" de Simon & Garfunkel, \"Everybody's talkin\" de Harry Nilsson...) , sans oublier pour autant l'excellente partition d'Alan Silvestri! Paysages à couper le souffle, F/ X novateurs, interprètation remarquable jusqu'aux seconds rôles, \"Forrest Gump\" est un joli moment de cinèma...",
         "Note": "4.5",
         "_deepnote_index_column": 1,
         "avg_sentence_lenght": 17.727272727272727,
         "avg_word_length": 5.512820512820513,
         "binary_note": 1,
         "char_count": 1075,
         "key": 1,
         "nombre_bad": 3,
         "nombre_good": 42,
         "sentence_count": 11,
         "word_count": 195
        },
        {
         "Date": 1405641600,
         "Description": "Le matin, quand il fait bon et beau, normal quoi, j'aime bien me balader à pied. Souvent, je me promène dans le parc de mon quartier. Ça peut paraître con, mais j'aime bien. Et il ne se passe jamais rien, rien de bien excitant ou de passionnant, rien qui ferait de ma vie une odyssée humaine et tragique, unique et inédite, mais bon ça me plait. Et donc, ce matin, peu réveillé, la tête encore dans les draps et le goût du café dans la bouche, j'y suis allé à contre-coeur, chose qui ne m'était plus arrivée depuis déja quelques temps. Tu vois, j'avais pas trop envie de sortir de chez moi. Alors, ce que j'ai fait, c'est que j'ai allumé la radio. Rien de passionnant. Donc, j'ai pris la télécommande, et j'ai mis la télé. Rien non plus, à par une rediffusion ( chose très rare le matin ), celle d'un film que je n'avais encore jamais vu, \"Forrest Gump\" ( oui, je n'avais pas encore eu le plaisir d'assister à ce spectacle de tendresse et d'amour ). Je l'ai regardé quoi, cinq minutes, peut-être dix? J'en avais marre, j'avais mal aux yeux. Et donc, qu'es-ce que j'ai fait, à votre avis? J'ai pris la décision de sortir de chez moi me balader, vous avez vu juste. Vingt minutes après avoir éteints ma télé, parce oui, ça m'arrive de vouloir être précis, je me baladais parmi les arbres et les oiseaux ( qui mangeaient des miettes de pain de manière amusante ), et je me posais sur u banc, parce que j'en avais légèrement marre de marcher. Je ne savais pas ce que j'avais ce matin, mais c'était vraiment pas normal. Les deux écouteurs dans les oreilles, avec du Skrillex à fond, Bangarang en tête, je restais là pour quelques minutes, surement cinq, peut-être plus. Passons au présent, je préfère. Je lève les yeux au ciel, les ferme, crevé ( merci les lendemains de soirée ), et me concentre dans le premier jump de la chanson, le genre d'instants qui vous filent des tics et des tocs par dizaines pour les trois prochaines minutes, paressant aux yeux des passants et autres promeneurs pour un gros mec hyperactif et complètement chtarbé dans sa tête. Une main me touche l'épaule. Je me retourne, enlève un écouteur, celui de droite, ouvre les yeux, passablement énervé par celui qui vient de me perturber dans mon essai de sieste ( oui, je sais, c'est bizarre de sortir pour dormir ), et me ravise. C'est qui ce gars, là?! \"Bonjour, je m'appelle Forrest Gump\". Cette voix... Ce visage... Cette façon de s'exprimer... Sans déconner, c'est une blague? Elle est où la caméra cachée?! Il a un timbre unique, le genre qui vous donne son intelligence en deux secondes top chrono, et vous fait comprendre qui vous avez à vos côtés. Il parle un peu comme un pauvre benêt, un gars qui n'aurait pas eu toutes les chances de son côté à la naissance. \"Et vous, vous vous appelez comment?\" Je fais un blanc, ne lui réponds pas tout de suite, devient vert, un peu comme si l'on me laissait des bleus après un passage à tabac, observe le pigeon gris qui me détaille avec un regard noir, enlève mon deuxième écouteur bleu et lui donne mon nom. \"Vous ne seriez pas...\" Il me coupe, et me répond que oui. Puis, il enchaîne et me dit qu'il est devenu une star depuis que le film est sortit, que maintenant les gens l'écoutent quand il leur parle, qu'ils ne s'en vont plus dès qu'il a commencé à un peu trop s'éterniser dans son histoire, qu'il comprend pleinement ce que sa maman voulait dire quand elle lui répétait \"La vie, c'est comme le chocolat, on ne sait jamais sur quoi on va tomber\", et qu'il regrette sa vie d'avant, avec sa mère et sa copine, Jennifer, avec qui il a eu Forrest Gump, et son meilleur ( unique ) ami, Bubba, pour qui il a fondé une entreprise de pêcheur de crevettes, grâce à laquelle il a fait fortune, aux côtés du sergent Taylor, pauvre gars qui avait perdu ses jambes au vietnam, et que Forrest, en courant, avait sauvé du trépas, lui promettant un avenir meilleur. Mais il regrette surtout son enfance, où personne n'avait encore disparu, où il avait connu de grands hommes, presque tous morts aujourd’hui, Elvis \"le King\" Presley, John Kennedy et je ne sais plus trop qui, qui me laissent unanimement présager que ce pauvre gars est maudit. Presque tous ceux qui le rencontrent meurent, alors que lui connait un destin encore plus radieux et lumineux que n'importe lequel d'entre nous, véritable leçon de vie sur patte. Et là, le mec me bouleverse, m'attriste, me surprend, m'éblouit, me réconforte ( grâce à des moments tous plus beaux les uns que les autres ), innove et me livre une histoire que je n'aurai jamais pu imaginer. Il en a dans la tête, le pauvre gars, victime de la vie et de la guerre, mais tellement heureux après toutes ces épreuves endurées. Et le pauvre gars me redonne le sourire. Son histoire, sa vie, presque l'intrigue de son existence, sont magnifiques et uniques, bouleversantes et tragiques, mais tellement belles et touchantes! C'est le seul gars qui m'a fait pleuré grâce à son histoire! \"Pourquoi vous ne partez pas?\" Me demande-t-il gentiment. Il demandait ça tout le temps au bout d'un moment, quand il arrivait un peu trop loin dans l'histoire, m'a-t-il dit. Et la fin, dramatique et émouvante, gagne en puissance grâce à une dernière image aussi magique que tout le reste. L'histoire de cet homme est fantastique, il y a vu l'évolution de nombre de grands noms de l'histoire de l'homme moderne et de l'Amérique, et je ne peux que me dire que la mienne n'est rien comparée à la sienne. Et si... Le réveil sonne, je me lève, allume la télé, me remet encore du choc d'avoir vu pour la première fois le chef-d'oeuvre \"Forrest Gump\" hier soir, et imagine le reste de ma journée. Pourquoi pas me mater \"Taxi Driver\", ce soir? Il était beau, ce rêve, quand même...",
         "Note": "5.0",
         "_deepnote_index_column": 2,
         "avg_sentence_lenght": 19.01851851851852,
         "avg_word_length": 4.556962025316456,
         "binary_note": 1,
         "char_count": 4680,
         "key": 2,
         "nombre_bad": 4,
         "nombre_good": 39,
         "sentence_count": 54,
         "word_count": 1027
        },
        {
         "Date": 1276387200,
         "Description": "Un film immense, rempli de poésie et de bons sentiments sans tomber dans le mièvre. Ce film est tout simplement un chef d'oeuvre. Le scénario est fantastique,  nous faisant revivre des éléments marquants de l'histoire des Etats-Unis post-seconde guerre mondiale. Même l'histoire d'amour s'avère riche et est très crédible. Enfin il faut s'attarder sur la performance de Tom Hanks, parfaite en tout point, le petit Forrest ne pourra pas s'empêcher de vous faire fondre en le voyant. Du très grand art!",
         "Note": "5.0",
         "_deepnote_index_column": 3,
         "avg_sentence_lenght": 13.666666666666666,
         "avg_word_length": 5.109756097560975,
         "binary_note": 1,
         "char_count": 419,
         "key": 3,
         "nombre_bad": 5,
         "nombre_good": 46,
         "sentence_count": 6,
         "word_count": 82
        },
        {
         "Date": 1408320000,
         "Description": "Un très grand film . Ce film suit la vie sur plusieurs décennie d'un simple d'esprit nommer forrest gumps ( Tom Hanks ) qui va pourtant mener une vie incroyable  \n    spoiler: \n    a la fois héros de la guerre du Vietnam , star de football américain , star de Ping pong , capitaine de crevettier qui fera de lui un milliardaire \n\n. Sans qu'il ne s'en rende compte ses actes vont influencé pas mal d'événements historiques \n    spoiler: \n     ( le watergate) \n\n et de personnages célèbres  (\n    spoiler: \n     Elvis Presley )\n\n ... Tom Hanks est tout simplement époustouflant dans le rôle de forrest gumps ce simple d'esprit qui va mener une vie incroyable . ce rôle  restera sûrement comme son plus grand rôle au cinéma . Il joue a merveille le rôle du simple d'esprit que se soit dans ses gestes , son comportement et dans sa façon de parler . Il est tellement bon qu'on y croit a fond et qu'on a pas l'impression qu'il joue la comédie il est forrest gumps . Il fut récompenser a juste titre de l'oscar du meilleur acteur pour sa performance incroyable . Le reste du casting est également très bon . Un film a la fois drôle et émouvant . L'histoire de ce film est vraiment prenante . On est vraiment captiver de bout en bout devant la vie incroyable et les péripéties de  ce simple d'esprit nommer Forrest gumps . Un personnage pas très malin et pas très intelligent  mais qui va tenter de trouver sa place dans ce monde hostile a son égard et qui le moque sans arrêt . Il  n'ai pas très intelligent mais il va découvrir qu'il a d'autre talent en compensation qui lui permettront de se faire une place dans ce monde et de mener une vie incroyable .forrest gumps voit le monde a sa manière avec une naïveté très touchante .son intelligence limité fait qu'il ne réfléchit pas toujour a ce qu'il dit ni a ce qu'il fait au risque de sortir des énormités ou de faire quelques bourdes en tout genre \n    spoiler: \n    ( montrer ses fesses au président ou sauter de son bateau sans l'arrêter )\n\n et sa va donner des moments assez hilarants . Le personnage de forrest gumps est vraiment attachant . Ses actes pas toujour très réfléchit vont avoir une influence capital sur certains événements historiques et sur certaines personnalités célèbres . Un film qui jongle a merveille entre rire et émotion.  Un film remplit de scènes très drôles ( booba qui cite toute les recettes avec des crevettes ) et de scènes très émouvantes  ( \n    spoiler: \n    la mort de Jenny , forrest qui apprend qu'il a un fils\n\n ) . Le film contient une pléiade de  répliques devenu cultes et passer dans le langage courant ( cour forrest cour , la vie c'est comme une boîte de chocolat on ne sait jamais sur quoi on va tomber ...) . La musique du film est  magnifique et colle parfaitement a l'ambiance du film . La réalisation de Robert zemeckis est incroyable . il revisite  trente ans de l'histoire américaine a travers les yeux de forrest gumps  grâce  une reconstitution minutieuse du a de très bons costumes , décors et de très bons trucages visuels .un film qui connut un succès considérable a travers le monde et qui fut récompenser d'une pluie de récompense dont 6 oscars amplement mériter . Un film cultissime.",
         "Note": "5.0",
         "_deepnote_index_column": 4,
         "avg_sentence_lenght": 19.46875,
         "avg_word_length": 4.123595505617978,
         "binary_note": 1,
         "char_count": 2569,
         "key": 4,
         "nombre_bad": 3,
         "nombre_good": 28,
         "sentence_count": 32,
         "word_count": 623
        }
       ]
      },
      "text/html": [
       "<div>\n",
       "<style scoped>\n",
       "    .dataframe tbody tr th:only-of-type {\n",
       "        vertical-align: middle;\n",
       "    }\n",
       "\n",
       "    .dataframe tbody tr th {\n",
       "        vertical-align: top;\n",
       "    }\n",
       "\n",
       "    .dataframe thead th {\n",
       "        text-align: right;\n",
       "    }\n",
       "</style>\n",
       "<table border=\"1\" class=\"dataframe\">\n",
       "  <thead>\n",
       "    <tr style=\"text-align: right;\">\n",
       "      <th></th>\n",
       "      <th>Note</th>\n",
       "      <th>Description</th>\n",
       "      <th>Date</th>\n",
       "      <th>key</th>\n",
       "      <th>nombre_good</th>\n",
       "      <th>nombre_bad</th>\n",
       "      <th>binary_note</th>\n",
       "      <th>word_count</th>\n",
       "      <th>char_count</th>\n",
       "      <th>sentence_count</th>\n",
       "      <th>avg_word_length</th>\n",
       "      <th>avg_sentence_lenght</th>\n",
       "    </tr>\n",
       "  </thead>\n",
       "  <tbody>\n",
       "    <tr>\n",
       "      <th>0</th>\n",
       "      <td>5.0</td>\n",
       "      <td>Forrest Gump de Robert Zemeckis (réalisateur d...</td>\n",
       "      <td>1.365379e+09</td>\n",
       "      <td>0</td>\n",
       "      <td>155</td>\n",
       "      <td>10</td>\n",
       "      <td>1</td>\n",
       "      <td>392</td>\n",
       "      <td>1774</td>\n",
       "      <td>25</td>\n",
       "      <td>4.525510</td>\n",
       "      <td>15.680000</td>\n",
       "    </tr>\n",
       "    <tr>\n",
       "      <th>1</th>\n",
       "      <td>4.5</td>\n",
       "      <td>Une immense rèussite du cinèma hollywoodien! R...</td>\n",
       "      <td>1.564013e+09</td>\n",
       "      <td>1</td>\n",
       "      <td>42</td>\n",
       "      <td>3</td>\n",
       "      <td>1</td>\n",
       "      <td>195</td>\n",
       "      <td>1075</td>\n",
       "      <td>11</td>\n",
       "      <td>5.512821</td>\n",
       "      <td>17.727273</td>\n",
       "    </tr>\n",
       "    <tr>\n",
       "      <th>2</th>\n",
       "      <td>5.0</td>\n",
       "      <td>Le matin, quand il fait bon et beau, normal qu...</td>\n",
       "      <td>1.405642e+09</td>\n",
       "      <td>2</td>\n",
       "      <td>39</td>\n",
       "      <td>4</td>\n",
       "      <td>1</td>\n",
       "      <td>1027</td>\n",
       "      <td>4680</td>\n",
       "      <td>54</td>\n",
       "      <td>4.556962</td>\n",
       "      <td>19.018519</td>\n",
       "    </tr>\n",
       "    <tr>\n",
       "      <th>3</th>\n",
       "      <td>5.0</td>\n",
       "      <td>Un film immense, rempli de poésie et de bons s...</td>\n",
       "      <td>1.276387e+09</td>\n",
       "      <td>3</td>\n",
       "      <td>46</td>\n",
       "      <td>5</td>\n",
       "      <td>1</td>\n",
       "      <td>82</td>\n",
       "      <td>419</td>\n",
       "      <td>6</td>\n",
       "      <td>5.109756</td>\n",
       "      <td>13.666667</td>\n",
       "    </tr>\n",
       "    <tr>\n",
       "      <th>4</th>\n",
       "      <td>5.0</td>\n",
       "      <td>Un très grand film . Ce film suit la vie sur p...</td>\n",
       "      <td>1.408320e+09</td>\n",
       "      <td>4</td>\n",
       "      <td>28</td>\n",
       "      <td>3</td>\n",
       "      <td>1</td>\n",
       "      <td>623</td>\n",
       "      <td>2569</td>\n",
       "      <td>32</td>\n",
       "      <td>4.123596</td>\n",
       "      <td>19.468750</td>\n",
       "    </tr>\n",
       "  </tbody>\n",
       "</table>\n",
       "</div>"
      ],
      "text/plain": [
       "  Note                                        Description          Date  key  \\\n",
       "0  5.0  Forrest Gump de Robert Zemeckis (réalisateur d...  1.365379e+09    0   \n",
       "1  4.5  Une immense rèussite du cinèma hollywoodien! R...  1.564013e+09    1   \n",
       "2  5.0  Le matin, quand il fait bon et beau, normal qu...  1.405642e+09    2   \n",
       "3  5.0  Un film immense, rempli de poésie et de bons s...  1.276387e+09    3   \n",
       "4  5.0  Un très grand film . Ce film suit la vie sur p...  1.408320e+09    4   \n",
       "\n",
       "   nombre_good  nombre_bad  binary_note  word_count  char_count  \\\n",
       "0          155          10            1         392        1774   \n",
       "1           42           3            1         195        1075   \n",
       "2           39           4            1        1027        4680   \n",
       "3           46           5            1          82         419   \n",
       "4           28           3            1         623        2569   \n",
       "\n",
       "   sentence_count  avg_word_length  avg_sentence_lenght  \n",
       "0              25         4.525510            15.680000  \n",
       "1              11         5.512821            17.727273  \n",
       "2              54         4.556962            19.018519  \n",
       "3               6         5.109756            13.666667  \n",
       "4              32         4.123596            19.468750  "
      ]
     },
     "execution_count": 205,
     "metadata": {},
     "output_type": "execute_result"
    }
   ],
   "source": [
    "df['word_count'] = df[\"Description\"].apply(lambda x: len(str(x).split(\" \")))\n",
    "df['char_count'] = df[\"Description\"].apply(lambda x: sum(len(word) for word in str(x).split(\" \")))\n",
    "df['sentence_count'] = df[\"Description\"].apply(lambda x: len(str(x).split(\".\")))\n",
    "df['avg_word_length'] = df['char_count'] / df['word_count']\n",
    "df['avg_sentence_lenght'] = df['word_count'] / df['sentence_count']\n",
    "df.head()"
   ]
  },
  {
   "cell_type": "code",
   "execution_count": 206,
   "metadata": {
    "cell_id": "00016-0d960ecf-b17b-4f6b-8b2e-6eec24aee1df",
    "deepnote_cell_type": "code",
    "deepnote_to_be_reexecuted": false,
    "execution_millis": 55,
    "execution_start": 1620224124303,
    "source_hash": "121fd08b",
    "tags": []
   },
   "outputs": [
    {
     "name": "stdout",
     "output_type": "stream",
     "text": [
      "Une immense rèussite du cinèma hollywoodien Robert Zemeckis implique son hèros imaginaire du nom de Forrest Gump dans tous les grands èvènements sur trente ans d'histoire amèricaine de  à  et l'intègre même dans des documents d'archives dètournès et ètonnants en lui faisant rencontrer des cèlèbritès anciennes Avec les dèbuts d'Elvis Presley la guerre du Vietnam et même la contre-culture du Peace And Love Tom Hanks est à tout jamais Forrest Gump magnifique et inoubliable prestation qui lui vaudra un second Oscar du meilleur acteur Hèros de guerre joueur prodigieux de ping-pong milliardaire grâce au commerce de la crevette inspirant le King ou Lennon pour son \"Imagine\" se retrouvant même dans le scandale du Watergateon peut dire que son personnage en a vu du pays C'est aussi une ode au bonheur prodigieuse et une fresque historique comme les aime les amèricains marquèe par une bande sonore extraordinaire (\"Sweet Home Alabama\" de Lynrd Skynard \"Mrs Robinson\" de Simon & Garfunkel \"Everybody's talkin\" de Harry Nilsson)  sans oublier pour autant l'excellente partition d'Alan Silvestri Paysages à couper le souffle F/ X novateurs interprètation remarquable jusqu'aux seconds rôles \"Forrest Gump\" est un joli moment de cinèma\n"
     ]
    }
   ],
   "source": [
    "# on supprime la ponctuation et les chiffres\n",
    "df['Description'] = df['Description'].map(lambda x : re.sub('[,\\.!?]', '', x))\\\n",
    ".map(lambda x : re.sub('\\d', '', x))\n",
    "print(df['Description'].iloc[1])"
   ]
  },
  {
   "cell_type": "code",
   "execution_count": 207,
   "metadata": {
    "cell_id": "00017-8db62191-7394-4bf0-b9c2-619b142cd5cf",
    "deepnote_cell_type": "code",
    "deepnote_to_be_reexecuted": false,
    "execution_millis": 1174,
    "execution_start": 1620224124401,
    "source_hash": "f40b5d19",
    "tags": []
   },
   "outputs": [
    {
     "name": "stdout",
     "output_type": "stream",
     "text": [
      "['Une', 'immense', 'rèussite', 'du', 'cinèma', 'hollywoodien', 'Robert', 'Zemeckis', 'implique', 'son', 'hèros', 'imaginaire', 'du', 'nom', 'de', 'Forrest', 'Gump', 'dans', 'tous', 'les', 'grands', 'èvènements', 'sur', 'trente', 'ans', \"d'histoire\", 'amèricaine', 'de', 'à', 'et', \"l'intègre\", 'même', 'dans', 'des', 'documents', \"d'archives\", 'dètournès', 'et', 'ètonnants', 'en', 'lui', 'faisant', 'rencontrer', 'des', 'cèlèbritès', 'anciennes', 'Avec', 'les', 'dèbuts', \"d'Elvis\", 'Presley', 'la', 'guerre', 'du', 'Vietnam', 'et', 'même', 'la', 'contre-culture', 'du', 'Peace', 'And', 'Love', 'Tom', 'Hanks', 'est', 'à', 'tout', 'jamais', 'Forrest', 'Gump', 'magnifique', 'et', 'inoubliable', 'prestation', 'qui', 'lui', 'vaudra', 'un', 'second', 'Oscar', 'du', 'meilleur', 'acteur', 'Hèros', 'de', 'guerre', 'joueur', 'prodigieux', 'de', 'ping-pong', 'milliardaire', 'grâce', 'au', 'commerce', 'de', 'la', 'crevette', 'inspirant', 'le', 'King', 'ou', 'Lennon', 'pour', 'son', '``', 'Imagine', \"''\", 'se', 'retrouvant', 'même', 'dans', 'le', 'scandale', 'du', 'Watergateon', 'peut', 'dire', 'que', 'son', 'personnage', 'en', 'a', 'vu', 'du', 'pays', \"C'est\", 'aussi', 'une', 'ode', 'au', 'bonheur', 'prodigieuse', 'et', 'une', 'fresque', 'historique', 'comme', 'les', 'aime', 'les', 'amèricains', 'marquèe', 'par', 'une', 'bande', 'sonore', 'extraordinaire', '(', '``', 'Sweet', 'Home', 'Alabama', \"''\", 'de', 'Lynrd', 'Skynard', '``', 'Mrs', 'Robinson', \"''\", 'de', 'Simon', '&', 'Garfunkel', '``', 'Everybody', \"'s\", 'talkin', \"''\", 'de', 'Harry', 'Nilsson', ')', 'sans', 'oublier', 'pour', 'autant', \"l'excellente\", 'partition', \"d'Alan\", 'Silvestri', 'Paysages', 'à', 'couper', 'le', 'souffle', 'F/', 'X', 'novateurs', 'interprètation', 'remarquable', \"jusqu'aux\", 'seconds', 'rôles', '``', 'Forrest', 'Gump', \"''\", 'est', 'un', 'joli', 'moment', 'de', 'cinèma']\n"
     ]
    }
   ],
   "source": [
    "#2) Tokenization\n",
    "df['Description'] = df.apply(lambda row: word_tokenize(row['Description']), axis=1)\n",
    "print(df['Description'].iloc[1])"
   ]
  },
  {
   "cell_type": "code",
   "execution_count": 208,
   "metadata": {
    "cell_id": "00018-fc0ff6ca-b4cf-4241-87bd-3d3fb1975c9a",
    "deepnote_cell_type": "code",
    "deepnote_to_be_reexecuted": false,
    "execution_millis": 369,
    "execution_start": 1620224125547,
    "source_hash": "3238b2fc",
    "tags": []
   },
   "outputs": [
    {
     "name": "stdout",
     "output_type": "stream",
     "text": [
      "['Une', 'immense', 'rèussite', 'cinèma', 'hollywoodien', 'Robert', 'Zemeckis', 'implique', 'hèros', 'imaginaire', 'nom', 'Forrest', 'Gump', 'tous', 'grands', 'èvènements', 'trente', 'ans', \"d'histoire\", 'amèricaine', \"l'intègre\", 'documents', \"d'archives\", 'dètournès', 'ètonnants', 'faisant', 'rencontrer', 'cèlèbritès', 'anciennes', 'Avec', 'dèbuts', \"d'Elvis\", 'Presley', 'guerre', 'Vietnam', 'contre-culture', 'Peace', 'And', 'Love', 'Tom', 'Hanks', 'tout', 'jamais', 'Forrest', 'Gump', 'magnifique', 'inoubliable', 'prestation', 'vaudra', 'second', 'Oscar', 'meilleur', 'acteur', 'Hèros', 'guerre', 'joueur', 'prodigieux', 'ping-pong', 'milliardaire', 'grâce', 'commerce', 'crevette', 'inspirant', 'King', 'Lennon', '``', 'Imagine', \"''\", 'retrouvant', 'scandale', 'Watergateon', 'peut', 'dire', 'personnage', 'a', 'vu', 'pays', \"C'est\", 'aussi', 'ode', 'bonheur', 'prodigieuse', 'fresque', 'historique', 'comme', 'aime', 'amèricains', 'marquèe', 'bande', 'sonore', 'extraordinaire', '(', '``', 'Sweet', 'Home', 'Alabama', \"''\", 'Lynrd', 'Skynard', '``', 'Mrs', 'Robinson', \"''\", 'Simon', '&', 'Garfunkel', '``', 'Everybody', \"'s\", 'talkin', \"''\", 'Harry', 'Nilsson', ')', 'sans', 'oublier', 'autant', \"l'excellente\", 'partition', \"d'Alan\", 'Silvestri', 'Paysages', 'couper', 'souffle', 'F/', 'X', 'novateurs', 'interprètation', 'remarquable', \"jusqu'aux\", 'seconds', 'rôles', '``', 'Forrest', 'Gump', \"''\", 'joli', 'moment', 'cinèma']\n"
     ]
    }
   ],
   "source": [
    "#3)  on supprime les stop-words\n",
    "french_stopwords = stopwords.words('french')\n",
    "df['Description'] = df.Description.apply(lambda x: [item for item in x if item not in french_stopwords])\n",
    "print(df['Description'].iloc[1])"
   ]
  },
  {
   "cell_type": "code",
   "execution_count": 209,
   "metadata": {
    "cell_id": "00019-779ecfc3-ef61-40cb-8c94-563abb2c2de6",
    "deepnote_cell_type": "code",
    "deepnote_to_be_reexecuted": false,
    "execution_millis": 2950,
    "execution_start": 1620224125988,
    "source_hash": "c7b4ef72",
    "tags": []
   },
   "outputs": [
    {
     "name": "stdout",
     "output_type": "stream",
     "text": [
      "Note                                                                 4.5\n",
      "Description            [une, immens, rèussit, cinem, hollywoodien, ro...\n",
      "Date                                                        1564012800.0\n",
      "key                                                                    1\n",
      "nombre_good                                                           42\n",
      "nombre_bad                                                             3\n",
      "binary_note                                                            1\n",
      "word_count                                                           195\n",
      "char_count                                                          1075\n",
      "sentence_count                                                        11\n",
      "avg_word_length                                                 5.512821\n",
      "avg_sentence_lenght                                            17.727273\n",
      "Name: 1, dtype: object\n"
     ]
    }
   ],
   "source": [
    "#4) Stemming\n",
    "stemmer = SnowballStemmer('french')\n",
    "df['Description'] = df.Description.apply(lambda x: [stemmer.stem(item) for item in x])\n",
    "print(df.iloc[1])"
   ]
  },
  {
   "cell_type": "code",
   "execution_count": 210,
   "metadata": {
    "cell_id": "00020-07e9fe7e-67f1-4c69-b80e-11f5145e9a34",
    "deepnote_cell_type": "code",
    "deepnote_to_be_reexecuted": false,
    "execution_millis": 446,
    "execution_start": 1620224128920,
    "source_hash": "ef46e6d",
    "tags": []
   },
   "outputs": [
    {
     "data": {
      "image/png": "[encoded data removed]",
      "text/plain": [
       "<Figure size 864x864 with 1 Axes>"
      ]
     },
     "metadata": {
      "image/png": {
       "height": 349,
       "width": 683
      },
      "needs_background": "light"
     },
     "output_type": "display_data"
    }
   ],
   "source": [
    "#5) On génère un worcloud pour les 100 mots les plus fréquents\n",
    "cloud = df\n",
    "\n",
    "from wordcloud import WordCloud\n",
    "import matplotlib.pyplot as plt\n",
    "\n",
    "\n",
    "def show_wordcloud(data, title = None):\n",
    "    wordcloud = WordCloud(\n",
    "        collocations = False,\n",
    "        background_color='white',\n",
    "        stopwords=french_stopwords,\n",
    "        max_words=100,\n",
    "        max_font_size=40, \n",
    "        scale=3,\n",
    "        random_state=1 # chosen at random by flipping a coin; it was heads\n",
    "    ).generate(str(data))\n",
    "\n",
    "    fig = plt.figure(1, figsize=(12, 12))\n",
    "    plt.axis('off')\n",
    "    if title: \n",
    "        fig.suptitle(title, fontsize=20)\n",
    "        fig.subplots_adjust(top=2.3)\n",
    "\n",
    "    plt.imshow(wordcloud)\n",
    "    plt.show()\n",
    "\n",
    "show_wordcloud(df['Description'])"
   ]
  },
  {
   "cell_type": "code",
   "execution_count": 211,
   "metadata": {
    "cell_id": "00021-e803cadc-77a2-4783-94d6-cd5f748b0fce",
    "deepnote_cell_type": "code",
    "deepnote_to_be_reexecuted": false,
    "execution_millis": 0,
    "execution_start": 1620224129355,
    "source_hash": "c106e59c",
    "tags": []
   },
   "outputs": [],
   "source": [
    "df_word_count = df.copy()\n",
    "notes = df.pop(\"binary_note\")\n"
   ]
  },
  {
   "cell_type": "code",
   "execution_count": 212,
   "metadata": {
    "cell_id": "00022-b989c930-7ca2-40ec-8281-3bb3203da147",
    "deepnote_cell_type": "code",
    "deepnote_to_be_reexecuted": false,
    "execution_millis": 13,
    "execution_start": 1620224129362,
    "source_hash": "50bdd93e",
    "tags": []
   },
   "outputs": [
    {
     "data": {
      "text/plain": [
       "0       5.0\n",
       "1       4.5\n",
       "2       5.0\n",
       "3       5.0\n",
       "4       5.0\n",
       "       ... \n",
       "2004    5.0\n",
       "2005    5.0\n",
       "2006    5.0\n",
       "2007    4.0\n",
       "2008    5.0\n",
       "Name: Note, Length: 2009, dtype: object"
      ]
     },
     "execution_count": 212,
     "metadata": {},
     "output_type": "execute_result"
    }
   ],
   "source": [
    "df.pop(\"Description\")\n",
    "df.pop(\"Note\")"
   ]
  },
  {
   "cell_type": "code",
   "execution_count": 213,
   "metadata": {
    "cell_id": "00023-d4ea2e07-a3e9-411d-be3c-6a90b50a7f42",
    "deepnote_cell_type": "code",
    "deepnote_to_be_reexecuted": false,
    "execution_millis": 18,
    "execution_start": 1620224129413,
    "source_hash": "f804c160",
    "tags": []
   },
   "outputs": [
    {
     "data": {
      "application/vnd.deepnote.dataframe.v2+json": {
       "column_count": 9,
       "columns": [
        {
         "dtype": "float64",
         "name": "Date",
         "stats": {
          "histogram": [
           {
            "bin_end": 1205478720,
            "bin_start": 1159488000,
            "count": 272
           },
           {
            "bin_end": 1251469440,
            "bin_start": 1205478720,
            "count": 187
           },
           {
            "bin_end": 1297460160,
            "bin_start": 1251469440,
            "count": 313
           },
           {
            "bin_end": 1343450880,
            "bin_start": 1297460160,
            "count": 252
           },
           {
            "bin_end": 1389441600,
            "bin_start": 1343450880,
            "count": 312
           },
           {
            "bin_end": 1435432320,
            "bin_start": 1389441600,
            "count": 166
           },
           {
            "bin_end": 1481423040,
            "bin_start": 1435432320,
            "count": 139
           },
           {
            "bin_end": 1527413760,
            "bin_start": 1481423040,
            "count": 97
           },
           {
            "bin_end": 1573404480,
            "bin_start": 1527413760,
            "count": 86
           },
           {
            "bin_end": 1619395200,
            "bin_start": 1573404480,
            "count": 185
           }
          ],
          "max": "1619395200.0",
          "min": "1159488000.0",
          "nan_count": 0,
          "unique_count": 1484
         }
        },
        {
         "dtype": "int64",
         "name": "key",
         "stats": {
          "histogram": [
           {
            "bin_end": 1.4,
            "bin_start": 0,
            "count": 280
           },
           {
            "bin_end": 2.8,
            "bin_start": 1.4,
            "count": 140
           },
           {
            "bin_end": 4.199999999999999,
            "bin_start": 2.8,
            "count": 280
           },
           {
            "bin_end": 5.6,
            "bin_start": 4.199999999999999,
            "count": 140
           },
           {
            "bin_end": 7,
            "bin_start": 5.6,
            "count": 140
           },
           {
            "bin_end": 8.399999999999999,
            "bin_start": 7,
            "count": 280
           },
           {
            "bin_end": 9.799999999999999,
            "bin_start": 8.399999999999999,
            "count": 140
           },
           {
            "bin_end": 11.2,
            "bin_start": 9.799999999999999,
            "count": 279
           },
           {
            "bin_end": 12.6,
            "bin_start": 11.2,
            "count": 136
           },
           {
            "bin_end": 14,
            "bin_start": 12.6,
            "count": 194
           }
          ],
          "max": "14",
          "min": "0",
          "nan_count": 0,
          "unique_count": 15
         }
        },
        {
         "dtype": "int64",
         "name": "nombre_good",
         "stats": {
          "histogram": [
           {
            "bin_end": 15.5,
            "bin_start": 0,
            "count": 1998
           },
           {
            "bin_end": 31,
            "bin_start": 15.5,
            "count": 6
           },
           {
            "bin_end": 46.5,
            "bin_start": 31,
            "count": 3
           },
           {
            "bin_end": 62,
            "bin_start": 46.5,
            "count": 1
           },
           {
            "bin_end": 77.5,
            "bin_start": 62,
            "count": 0
           },
           {
            "bin_end": 93,
            "bin_start": 77.5,
            "count": 0
           },
           {
            "bin_end": 108.5,
            "bin_start": 93,
            "count": 0
           },
           {
            "bin_end": 124,
            "bin_start": 108.5,
            "count": 0
           },
           {
            "bin_end": 139.5,
            "bin_start": 124,
            "count": 0
           },
           {
            "bin_end": 155,
            "bin_start": 139.5,
            "count": 1
           }
          ],
          "max": "155",
          "min": "0",
          "nan_count": 0,
          "unique_count": 25
         }
        },
        {
         "dtype": "int64",
         "name": "nombre_bad",
         "stats": {
          "histogram": [
           {
            "bin_end": 13.5,
            "bin_start": 0,
            "count": 1990
           },
           {
            "bin_end": 27,
            "bin_start": 13.5,
            "count": 6
           },
           {
            "bin_end": 40.5,
            "bin_start": 27,
            "count": 2
           },
           {
            "bin_end": 54,
            "bin_start": 40.5,
            "count": 2
           },
           {
            "bin_end": 67.5,
            "bin_start": 54,
            "count": 3
           },
           {
            "bin_end": 81,
            "bin_start": 67.5,
            "count": 2
           },
           {
            "bin_end": 94.5,
            "bin_start": 81,
            "count": 2
           },
           {
            "bin_end": 108,
            "bin_start": 94.5,
            "count": 0
           },
           {
            "bin_end": 121.5,
            "bin_start": 108,
            "count": 0
           },
           {
            "bin_end": 135,
            "bin_start": 121.5,
            "count": 2
           }
          ],
          "max": "135",
          "min": "0",
          "nan_count": 0,
          "unique_count": 31
         }
        },
        {
         "dtype": "int64",
         "name": "word_count",
         "stats": {
          "histogram": [
           {
            "bin_end": 105.9,
            "bin_start": 1,
            "count": 1711
           },
           {
            "bin_end": 210.8,
            "bin_start": 105.9,
            "count": 202
           },
           {
            "bin_end": 315.70000000000005,
            "bin_start": 210.8,
            "count": 55
           },
           {
            "bin_end": 420.6,
            "bin_start": 315.70000000000005,
            "count": 19
           },
           {
            "bin_end": 525.5,
            "bin_start": 420.6,
            "count": 4
           },
           {
            "bin_end": 630.4000000000001,
            "bin_start": 525.5,
            "count": 7
           },
           {
            "bin_end": 735.3000000000001,
            "bin_start": 630.4000000000001,
            "count": 3
           },
           {
            "bin_end": 840.2,
            "bin_start": 735.3000000000001,
            "count": 1
           },
           {
            "bin_end": 945.1,
            "bin_start": 840.2,
            "count": 4
           },
           {
            "bin_end": 1050,
            "bin_start": 945.1,
            "count": 3
           }
          ],
          "max": "1050",
          "min": "1",
          "nan_count": 0,
          "unique_count": 272
         }
        },
        {
         "dtype": "int64",
         "name": "char_count",
         "stats": {
          "histogram": [
           {
            "bin_end": 506.4,
            "bin_start": 3,
            "count": 1707
           },
           {
            "bin_end": 1009.8,
            "bin_start": 506.4,
            "count": 202
           },
           {
            "bin_end": 1513.1999999999998,
            "bin_start": 1009.8,
            "count": 53
           },
           {
            "bin_end": 2016.6,
            "bin_start": 1513.1999999999998,
            "count": 24
           },
           {
            "bin_end": 2520,
            "bin_start": 2016.6,
            "count": 4
           },
           {
            "bin_end": 3023.3999999999996,
            "bin_start": 2520,
            "count": 7
           },
           {
            "bin_end": 3526.7999999999997,
            "bin_start": 3023.3999999999996,
            "count": 5
           },
           {
            "bin_end": 4030.2,
            "bin_start": 3526.7999999999997,
            "count": 0
           },
           {
            "bin_end": 4533.599999999999,
            "bin_start": 4030.2,
            "count": 3
           },
           {
            "bin_end": 5037,
            "bin_start": 4533.599999999999,
            "count": 4
           }
          ],
          "max": "5037",
          "min": "3",
          "nan_count": 0,
          "unique_count": 688
         }
        },
        {
         "dtype": "int64",
         "name": "sentence_count",
         "stats": {
          "histogram": [
           {
            "bin_end": 6.3,
            "bin_start": 1,
            "count": 1581
           },
           {
            "bin_end": 11.6,
            "bin_start": 6.3,
            "count": 297
           },
           {
            "bin_end": 16.9,
            "bin_start": 11.6,
            "count": 73
           },
           {
            "bin_end": 22.2,
            "bin_start": 16.9,
            "count": 30
           },
           {
            "bin_end": 27.5,
            "bin_start": 22.2,
            "count": 9
           },
           {
            "bin_end": 32.8,
            "bin_start": 27.5,
            "count": 7
           },
           {
            "bin_end": 38.1,
            "bin_start": 32.8,
            "count": 5
           },
           {
            "bin_end": 43.4,
            "bin_start": 38.1,
            "count": 3
           },
           {
            "bin_end": 48.699999999999996,
            "bin_start": 43.4,
            "count": 2
           },
           {
            "bin_end": 54,
            "bin_start": 48.699999999999996,
            "count": 2
           }
          ],
          "max": "54",
          "min": "1",
          "nan_count": 0,
          "unique_count": 41
         }
        },
        {
         "dtype": "float64",
         "name": "avg_word_length",
         "stats": {
          "histogram": [
           {
            "bin_end": 3.5785714285714287,
            "bin_start": 1.1428571428571428,
            "count": 24
           },
           {
            "bin_end": 6.014285714285714,
            "bin_start": 3.5785714285714287,
            "count": 1905
           },
           {
            "bin_end": 8.450000000000001,
            "bin_start": 6.014285714285714,
            "count": 70
           },
           {
            "bin_end": 10.885714285714286,
            "bin_start": 8.450000000000001,
            "count": 3
           },
           {
            "bin_end": 13.321428571428573,
            "bin_start": 10.885714285714286,
            "count": 6
           },
           {
            "bin_end": 15.757142857142858,
            "bin_start": 13.321428571428573,
            "count": 0
           },
           {
            "bin_end": 18.192857142857143,
            "bin_start": 15.757142857142858,
            "count": 0
           },
           {
            "bin_end": 20.62857142857143,
            "bin_start": 18.192857142857143,
            "count": 0
           },
           {
            "bin_end": 23.064285714285717,
            "bin_start": 20.62857142857143,
            "count": 0
           },
           {
            "bin_end": 25.5,
            "bin_start": 23.064285714285717,
            "count": 1
           }
          ],
          "max": "25.5",
          "min": "1.1428571428571428",
          "nan_count": 0,
          "unique_count": 1301
         }
        },
        {
         "dtype": "float64",
         "name": "avg_sentence_lenght",
         "stats": {
          "histogram": [
           {
            "bin_end": 20.64186046511628,
            "bin_start": 0.046511627906976744,
            "count": 1654
           },
           {
            "bin_end": 41.23720930232558,
            "bin_start": 20.64186046511628,
            "count": 292
           },
           {
            "bin_end": 61.83255813953489,
            "bin_start": 41.23720930232558,
            "count": 48
           },
           {
            "bin_end": 82.4279069767442,
            "bin_start": 61.83255813953489,
            "count": 6
           },
           {
            "bin_end": 103.0232558139535,
            "bin_start": 82.4279069767442,
            "count": 3
           },
           {
            "bin_end": 123.61860465116281,
            "bin_start": 103.0232558139535,
            "count": 5
           },
           {
            "bin_end": 144.21395348837208,
            "bin_start": 123.61860465116281,
            "count": 0
           },
           {
            "bin_end": 164.8093023255814,
            "bin_start": 144.21395348837208,
            "count": 0
           },
           {
            "bin_end": 185.4046511627907,
            "bin_start": 164.8093023255814,
            "count": 0
           },
           {
            "bin_end": 206,
            "bin_start": 185.4046511627907,
            "count": 1
           }
          ],
          "max": "206.0",
          "min": "0.046511627906976744",
          "nan_count": 0,
          "unique_count": 581
         }
        },
        {
         "dtype": "int64",
         "name": "_deepnote_index_column"
        }
       ],
       "row_count": 2009,
       "rows_bottom": [
        {
         "Date": 1266537600,
         "_deepnote_index_column": 1953,
         "avg_sentence_lenght": 4,
         "avg_word_length": 5.5,
         "char_count": 44,
         "key": 3,
         "nombre_bad": 0,
         "nombre_good": 0,
         "sentence_count": 2,
         "word_count": 8
        },
        {
         "Date": 1601251200,
         "_deepnote_index_column": 1954,
         "avg_sentence_lenght": 12.333333333333334,
         "avg_word_length": 4.121621621621622,
         "char_count": 305,
         "key": 4,
         "nombre_bad": 0,
         "nombre_good": 0,
         "sentence_count": 6,
         "word_count": 74
        },
        {
         "Date": 1596758400,
         "_deepnote_index_column": 1955,
         "avg_sentence_lenght": 6.25,
         "avg_word_length": 5.36,
         "char_count": 134,
         "key": 5,
         "nombre_bad": 0,
         "nombre_good": 0,
         "sentence_count": 4,
         "word_count": 25
        },
        {
         "Date": 1519603200,
         "_deepnote_index_column": 1956,
         "avg_sentence_lenght": 7.25,
         "avg_word_length": 4.689655172413793,
         "char_count": 136,
         "key": 6,
         "nombre_bad": 0,
         "nombre_good": 0,
         "sentence_count": 4,
         "word_count": 29
        },
        {
         "Date": 1266883200,
         "_deepnote_index_column": 1957,
         "avg_sentence_lenght": 1.08,
         "avg_word_length": 6.148148148148148,
         "char_count": 166,
         "key": 7,
         "nombre_bad": 0,
         "nombre_good": 0,
         "sentence_count": 25,
         "word_count": 27
        },
        {
         "Date": 1242864000,
         "_deepnote_index_column": 1958,
         "avg_sentence_lenght": 23,
         "avg_word_length": 4.173913043478261,
         "char_count": 96,
         "key": 8,
         "nombre_bad": 0,
         "nombre_good": 0,
         "sentence_count": 1,
         "word_count": 23
        },
        {
         "Date": 1389139200,
         "_deepnote_index_column": 1959,
         "avg_sentence_lenght": 10.75,
         "avg_word_length": 4.558139534883721,
         "char_count": 196,
         "key": 9,
         "nombre_bad": 0,
         "nombre_good": 0,
         "sentence_count": 4,
         "word_count": 43
        },
        {
         "Date": 1375142400,
         "_deepnote_index_column": 1960,
         "avg_sentence_lenght": 18.875,
         "avg_word_length": 4.602649006622516,
         "char_count": 695,
         "key": 10,
         "nombre_bad": 0,
         "nombre_good": 0,
         "sentence_count": 8,
         "word_count": 151
        },
        {
         "Date": 1479081600,
         "_deepnote_index_column": 1961,
         "avg_sentence_lenght": 9.333333333333334,
         "avg_word_length": 4.571428571428571,
         "char_count": 128,
         "key": 11,
         "nombre_bad": 0,
         "nombre_good": 0,
         "sentence_count": 3,
         "word_count": 28
        },
        {
         "Date": 1545350400,
         "_deepnote_index_column": 1962,
         "avg_sentence_lenght": 8.5,
         "avg_word_length": 5.411764705882353,
         "char_count": 184,
         "key": 12,
         "nombre_bad": 0,
         "nombre_good": 0,
         "sentence_count": 4,
         "word_count": 34
        },
        {
         "Date": 1603584000,
         "_deepnote_index_column": 1963,
         "avg_sentence_lenght": 4.333333333333333,
         "avg_word_length": 4.3076923076923075,
         "char_count": 112,
         "key": 13,
         "nombre_bad": 0,
         "nombre_good": 0,
         "sentence_count": 6,
         "word_count": 26
        },
        {
         "Date": 1609632000,
         "_deepnote_index_column": 1964,
         "avg_sentence_lenght": 15,
         "avg_word_length": 5.933333333333334,
         "char_count": 89,
         "key": 14,
         "nombre_bad": 0,
         "nombre_good": 0,
         "sentence_count": 1,
         "word_count": 15
        },
        {
         "Date": 1265932800,
         "_deepnote_index_column": 1965,
         "avg_sentence_lenght": 39,
         "avg_word_length": 3.948717948717949,
         "char_count": 154,
         "key": 0,
         "nombre_bad": 0,
         "nombre_good": 0,
         "sentence_count": 1,
         "word_count": 39
        },
        {
         "Date": 1287964800,
         "_deepnote_index_column": 1966,
         "avg_sentence_lenght": 12.333333333333334,
         "avg_word_length": 5.54054054054054,
         "char_count": 205,
         "key": 1,
         "nombre_bad": 0,
         "nombre_good": 0,
         "sentence_count": 3,
         "word_count": 37
        },
        {
         "Date": 1317081600,
         "_deepnote_index_column": 1967,
         "avg_sentence_lenght": 14.2,
         "avg_word_length": 4.309859154929577,
         "char_count": 306,
         "key": 2,
         "nombre_bad": 0,
         "nombre_good": 0,
         "sentence_count": 5,
         "word_count": 71
        },
        {
         "Date": 1329264000,
         "_deepnote_index_column": 1968,
         "avg_sentence_lenght": 29,
         "avg_word_length": 5.413793103448276,
         "char_count": 157,
         "key": 3,
         "nombre_bad": 0,
         "nombre_good": 0,
         "sentence_count": 1,
         "word_count": 29
        },
        {
         "Date": 1360195200,
         "_deepnote_index_column": 1969,
         "avg_sentence_lenght": 4.6,
         "avg_word_length": 3.5652173913043477,
         "char_count": 82,
         "key": 4,
         "nombre_bad": 0,
         "nombre_good": 0,
         "sentence_count": 5,
         "word_count": 23
        },
        {
         "Date": 1417392000,
         "_deepnote_index_column": 1970,
         "avg_sentence_lenght": 9,
         "avg_word_length": 6.222222222222222,
         "char_count": 56,
         "key": 5,
         "nombre_bad": 0,
         "nombre_good": 0,
         "sentence_count": 1,
         "word_count": 9
        },
        {
         "Date": 1487980800,
         "_deepnote_index_column": 1971,
         "avg_sentence_lenght": 5.5,
         "avg_word_length": 5.090909090909091,
         "char_count": 112,
         "key": 6,
         "nombre_bad": 0,
         "nombre_good": 0,
         "sentence_count": 4,
         "word_count": 22
        },
        {
         "Date": 1562112000,
         "_deepnote_index_column": 1972,
         "avg_sentence_lenght": 4.625,
         "avg_word_length": 4.108108108108108,
         "char_count": 152,
         "key": 7,
         "nombre_bad": 0,
         "nombre_good": 0,
         "sentence_count": 8,
         "word_count": 37
        },
        {
         "Date": 1609632000,
         "_deepnote_index_column": 1973,
         "avg_sentence_lenght": 15,
         "avg_word_length": 5.933333333333334,
         "char_count": 89,
         "key": 8,
         "nombre_bad": 0,
         "nombre_good": 0,
         "sentence_count": 1,
         "word_count": 15
        },
        {
         "Date": 1406332800,
         "_deepnote_index_column": 1974,
         "avg_sentence_lenght": 5.75,
         "avg_word_length": 5.086956521739131,
         "char_count": 117,
         "key": 9,
         "nombre_bad": 0,
         "nombre_good": 0,
         "sentence_count": 4,
         "word_count": 23
        },
        {
         "Date": 1476403200,
         "_deepnote_index_column": 1975,
         "avg_sentence_lenght": 24,
         "avg_word_length": 4.416666666666667,
         "char_count": 106,
         "key": 10,
         "nombre_bad": 0,
         "nombre_good": 0,
         "sentence_count": 1,
         "word_count": 24
        },
        {
         "Date": 1571270400,
         "_deepnote_index_column": 1976,
         "avg_sentence_lenght": 27.5,
         "avg_word_length": 4.579220779220779,
         "char_count": 1763,
         "key": 11,
         "nombre_bad": 0,
         "nombre_good": 0,
         "sentence_count": 14,
         "word_count": 385
        },
        {
         "Date": 1585008000,
         "_deepnote_index_column": 1977,
         "avg_sentence_lenght": 10.5,
         "avg_word_length": 4.904761904761905,
         "char_count": 206,
         "key": 12,
         "nombre_bad": 0,
         "nombre_good": 0,
         "sentence_count": 4,
         "word_count": 42
        },
        {
         "Date": 1298851200,
         "_deepnote_index_column": 1978,
         "avg_sentence_lenght": 6.9,
         "avg_word_length": 4.739130434782608,
         "char_count": 327,
         "key": 13,
         "nombre_bad": 0,
         "nombre_good": 0,
         "sentence_count": 10,
         "word_count": 69
        },
        {
         "Date": 1341446400,
         "_deepnote_index_column": 1979,
         "avg_sentence_lenght": 8,
         "avg_word_length": 4.875,
         "char_count": 117,
         "key": 14,
         "nombre_bad": 0,
         "nombre_good": 0,
         "sentence_count": 3,
         "word_count": 24
        },
        {
         "Date": 1164153600,
         "_deepnote_index_column": 1980,
         "avg_sentence_lenght": 7.133333333333334,
         "avg_word_length": 4.775700934579439,
         "char_count": 511,
         "key": 0,
         "nombre_bad": 0,
         "nombre_good": 0,
         "sentence_count": 15,
         "word_count": 107
        },
        {
         "Date": 1187740800,
         "_deepnote_index_column": 1981,
         "avg_sentence_lenght": 9,
         "avg_word_length": 4.888888888888889,
         "char_count": 44,
         "key": 1,
         "nombre_bad": 0,
         "nombre_good": 0,
         "sentence_count": 1,
         "word_count": 9
        },
        {
         "Date": 1617408000,
         "_deepnote_index_column": 1982,
         "avg_sentence_lenght": 5.25,
         "avg_word_length": 4.428571428571429,
         "char_count": 93,
         "key": 2,
         "nombre_bad": 0,
         "nombre_good": 0,
         "sentence_count": 4,
         "word_count": 21
        },
        {
         "Date": 1178064000,
         "_deepnote_index_column": 1983,
         "avg_sentence_lenght": 10.285714285714286,
         "avg_word_length": 5.375,
         "char_count": 387,
         "key": 3,
         "nombre_bad": 0,
         "nombre_good": 0,
         "sentence_count": 7,
         "word_count": 72
        },
        {
         "Date": 1479686400,
         "_deepnote_index_column": 1984,
         "avg_sentence_lenght": 10,
         "avg_word_length": 5.133333333333334,
         "char_count": 154,
         "key": 4,
         "nombre_bad": 0,
         "nombre_good": 0,
         "sentence_count": 3,
         "word_count": 30
        },
        {
         "Date": 1551744000,
         "_deepnote_index_column": 1985,
         "avg_sentence_lenght": 5.666666666666667,
         "avg_word_length": 5.470588235294118,
         "char_count": 93,
         "key": 5,
         "nombre_bad": 0,
         "nombre_good": 0,
         "sentence_count": 3,
         "word_count": 17
        },
        {
         "Date": 1603152000,
         "_deepnote_index_column": 1986,
         "avg_sentence_lenght": 14,
         "avg_word_length": 4.285714285714286,
         "char_count": 180,
         "key": 6,
         "nombre_bad": 0,
         "nombre_good": 0,
         "sentence_count": 3,
         "word_count": 42
        },
        {
         "Date": 1575676800,
         "_deepnote_index_column": 1987,
         "avg_sentence_lenght": 44.5,
         "avg_word_length": 4.550561797752809,
         "char_count": 405,
         "key": 7,
         "nombre_bad": 0,
         "nombre_good": 0,
         "sentence_count": 2,
         "word_count": 89
        },
        {
         "Date": 1182643200,
         "_deepnote_index_column": 1988,
         "avg_sentence_lenght": 3.25,
         "avg_word_length": 4,
         "char_count": 52,
         "key": 8,
         "nombre_bad": 0,
         "nombre_good": 0,
         "sentence_count": 4,
         "word_count": 13
        },
        {
         "Date": 1232668800,
         "_deepnote_index_column": 1989,
         "avg_sentence_lenght": 13.285714285714286,
         "avg_word_length": 4.591397849462366,
         "char_count": 427,
         "key": 9,
         "nombre_bad": 0,
         "nombre_good": 0,
         "sentence_count": 7,
         "word_count": 93
        },
        {
         "Date": 1585872000,
         "_deepnote_index_column": 1990,
         "avg_sentence_lenght": 13.4,
         "avg_word_length": 4.880597014925373,
         "char_count": 327,
         "key": 10,
         "nombre_bad": 0,
         "nombre_good": 0,
         "sentence_count": 5,
         "word_count": 67
        },
        {
         "Date": 1516752000,
         "_deepnote_index_column": 1991,
         "avg_sentence_lenght": 18,
         "avg_word_length": 4.722222222222222,
         "char_count": 85,
         "key": 11,
         "nombre_bad": 0,
         "nombre_good": 0,
         "sentence_count": 1,
         "word_count": 18
        },
        {
         "Date": 1159488000,
         "_deepnote_index_column": 1992,
         "avg_sentence_lenght": 9.11111111111111,
         "avg_word_length": 4.951219512195122,
         "char_count": 406,
         "key": 12,
         "nombre_bad": 0,
         "nombre_good": 0,
         "sentence_count": 9,
         "word_count": 82
        },
        {
         "Date": 1484092800,
         "_deepnote_index_column": 1993,
         "avg_sentence_lenght": 9.75,
         "avg_word_length": 4.153846153846154,
         "char_count": 162,
         "key": 13,
         "nombre_bad": 0,
         "nombre_good": 0,
         "sentence_count": 4,
         "word_count": 39
        },
        {
         "Date": 1178150400,
         "_deepnote_index_column": 1994,
         "avg_sentence_lenght": 11.333333333333334,
         "avg_word_length": 4.852941176470588,
         "char_count": 165,
         "key": 14,
         "nombre_bad": 0,
         "nombre_good": 0,
         "sentence_count": 3,
         "word_count": 34
        },
        {
         "Date": 1486252800,
         "_deepnote_index_column": 1995,
         "avg_sentence_lenght": 9.5,
         "avg_word_length": 4.894736842105263,
         "char_count": 93,
         "key": 0,
         "nombre_bad": 0,
         "nombre_good": 0,
         "sentence_count": 2,
         "word_count": 19
        },
        {
         "Date": 1159488000,
         "_deepnote_index_column": 1996,
         "avg_sentence_lenght": 20,
         "avg_word_length": 5.185714285714286,
         "char_count": 726,
         "key": 1,
         "nombre_bad": 0,
         "nombre_good": 0,
         "sentence_count": 7,
         "word_count": 140
        },
        {
         "Date": 1441670400,
         "_deepnote_index_column": 1997,
         "avg_sentence_lenght": 11.5,
         "avg_word_length": 4.826086956521739,
         "char_count": 111,
         "key": 2,
         "nombre_bad": 0,
         "nombre_good": 0,
         "sentence_count": 2,
         "word_count": 23
        },
        {
         "Date": 1514160000,
         "_deepnote_index_column": 1998,
         "avg_sentence_lenght": 5.428571428571429,
         "avg_word_length": 4.552631578947368,
         "char_count": 173,
         "key": 3,
         "nombre_bad": 0,
         "nombre_good": 0,
         "sentence_count": 7,
         "word_count": 38
        },
        {
         "Date": 1266710400,
         "_deepnote_index_column": 1999,
         "avg_sentence_lenght": 2,
         "avg_word_length": 4.5,
         "char_count": 9,
         "key": 4,
         "nombre_bad": 0,
         "nombre_good": 0,
         "sentence_count": 1,
         "word_count": 2
        },
        {
         "Date": 1188604800,
         "_deepnote_index_column": 2000,
         "avg_sentence_lenght": 12,
         "avg_word_length": 4.770833333333333,
         "char_count": 229,
         "key": 5,
         "nombre_bad": 0,
         "nombre_good": 0,
         "sentence_count": 4,
         "word_count": 48
        },
        {
         "Date": 1347321600,
         "_deepnote_index_column": 2001,
         "avg_sentence_lenght": 3.6666666666666665,
         "avg_word_length": 5.454545454545454,
         "char_count": 60,
         "key": 6,
         "nombre_bad": 0,
         "nombre_good": 0,
         "sentence_count": 3,
         "word_count": 11
        },
        {
         "Date": 1347840000,
         "_deepnote_index_column": 2002,
         "avg_sentence_lenght": 13.75,
         "avg_word_length": 5.2,
         "char_count": 286,
         "key": 7,
         "nombre_bad": 0,
         "nombre_good": 0,
         "sentence_count": 4,
         "word_count": 55
        },
        {
         "Date": 1386633600,
         "_deepnote_index_column": 2003,
         "avg_sentence_lenght": 46,
         "avg_word_length": 4.608695652173913,
         "char_count": 212,
         "key": 8,
         "nombre_bad": 0,
         "nombre_good": 0,
         "sentence_count": 1,
         "word_count": 46
        },
        {
         "Date": 1396742400,
         "_deepnote_index_column": 2004,
         "avg_sentence_lenght": 29,
         "avg_word_length": 4.862068965517241,
         "char_count": 141,
         "key": 9,
         "nombre_bad": 0,
         "nombre_good": 0,
         "sentence_count": 1,
         "word_count": 29
        },
        {
         "Date": 1407196800,
         "_deepnote_index_column": 2005,
         "avg_sentence_lenght": 16,
         "avg_word_length": 4.625,
         "char_count": 148,
         "key": 10,
         "nombre_bad": 0,
         "nombre_good": 0,
         "sentence_count": 2,
         "word_count": 32
        },
        {
         "Date": 1410825600,
         "_deepnote_index_column": 2006,
         "avg_sentence_lenght": 8.5,
         "avg_word_length": 5.235294117647059,
         "char_count": 89,
         "key": 11,
         "nombre_bad": 0,
         "nombre_good": 0,
         "sentence_count": 2,
         "word_count": 17
        },
        {
         "Date": 1422230400,
         "_deepnote_index_column": 2007,
         "avg_sentence_lenght": 5.5,
         "avg_word_length": 4.636363636363637,
         "char_count": 51,
         "key": 12,
         "nombre_bad": 0,
         "nombre_good": 0,
         "sentence_count": 2,
         "word_count": 11
        },
        {
         "Date": 1431302400,
         "_deepnote_index_column": 2008,
         "avg_sentence_lenght": 10.333333333333334,
         "avg_word_length": 5.559139784946237,
         "char_count": 517,
         "key": 13,
         "nombre_bad": 0,
         "nombre_good": 0,
         "sentence_count": 9,
         "word_count": 93
        }
       ],
       "rows_top": [
        {
         "Date": 1365379200,
         "_deepnote_index_column": 0,
         "avg_sentence_lenght": 15.68,
         "avg_word_length": 4.525510204081633,
         "char_count": 1774,
         "key": 0,
         "nombre_bad": 10,
         "nombre_good": 155,
         "sentence_count": 25,
         "word_count": 392
        },
        {
         "Date": 1564012800,
         "_deepnote_index_column": 1,
         "avg_sentence_lenght": 17.727272727272727,
         "avg_word_length": 5.512820512820513,
         "char_count": 1075,
         "key": 1,
         "nombre_bad": 3,
         "nombre_good": 42,
         "sentence_count": 11,
         "word_count": 195
        },
        {
         "Date": 1405641600,
         "_deepnote_index_column": 2,
         "avg_sentence_lenght": 19.01851851851852,
         "avg_word_length": 4.556962025316456,
         "char_count": 4680,
         "key": 2,
         "nombre_bad": 4,
         "nombre_good": 39,
         "sentence_count": 54,
         "word_count": 1027
        },
        {
         "Date": 1276387200,
         "_deepnote_index_column": 3,
         "avg_sentence_lenght": 13.666666666666666,
         "avg_word_length": 5.109756097560975,
         "char_count": 419,
         "key": 3,
         "nombre_bad": 5,
         "nombre_good": 46,
         "sentence_count": 6,
         "word_count": 82
        },
        {
         "Date": 1408320000,
         "_deepnote_index_column": 4,
         "avg_sentence_lenght": 19.46875,
         "avg_word_length": 4.123595505617978,
         "char_count": 2569,
         "key": 4,
         "nombre_bad": 3,
         "nombre_good": 28,
         "sentence_count": 32,
         "word_count": 623
        },
        {
         "Date": 1355356800,
         "_deepnote_index_column": 5,
         "avg_sentence_lenght": 18.5,
         "avg_word_length": 4.925675675675675,
         "char_count": 729,
         "key": 5,
         "nombre_bad": 2,
         "nombre_good": 23,
         "sentence_count": 8,
         "word_count": 148
        },
        {
         "Date": 1402704000,
         "_deepnote_index_column": 6,
         "avg_sentence_lenght": 20.23076923076923,
         "avg_word_length": 5.110266159695818,
         "char_count": 1344,
         "key": 6,
         "nombre_bad": 0,
         "nombre_good": 17,
         "sentence_count": 13,
         "word_count": 263
        },
        {
         "Date": 1352419200,
         "_deepnote_index_column": 7,
         "avg_sentence_lenght": 46.38461538461539,
         "avg_word_length": 4.7164179104477615,
         "char_count": 2844,
         "key": 7,
         "nombre_bad": 6,
         "nombre_good": 27,
         "sentence_count": 13,
         "word_count": 603
        },
        {
         "Date": 1410739200,
         "_deepnote_index_column": 8,
         "avg_sentence_lenght": 8.5,
         "avg_word_length": 3.8823529411764706,
         "char_count": 66,
         "key": 8,
         "nombre_bad": 3,
         "nombre_good": 19,
         "sentence_count": 2,
         "word_count": 17
        },
        {
         "Date": 1316390400,
         "_deepnote_index_column": 9,
         "avg_sentence_lenght": 9.285714285714286,
         "avg_word_length": 6.138461538461539,
         "char_count": 1197,
         "key": 9,
         "nombre_bad": 3,
         "nombre_good": 12,
         "sentence_count": 21,
         "word_count": 195
        },
        {
         "Date": 1410480000,
         "_deepnote_index_column": 10,
         "avg_sentence_lenght": 8.764705882352942,
         "avg_word_length": 5.140939597315437,
         "char_count": 766,
         "key": 10,
         "nombre_bad": 26,
         "nombre_good": 51,
         "sentence_count": 17,
         "word_count": 149
        },
        {
         "Date": 1378425600,
         "_deepnote_index_column": 11,
         "avg_sentence_lenght": 22.4,
         "avg_word_length": 5.553571428571429,
         "char_count": 622,
         "key": 11,
         "nombre_bad": 5,
         "nombre_good": 16,
         "sentence_count": 5,
         "word_count": 112
        },
        {
         "Date": 1333929600,
         "_deepnote_index_column": 12,
         "avg_sentence_lenght": 19.333333333333332,
         "avg_word_length": 5.827586206896552,
         "char_count": 338,
         "key": 12,
         "nombre_bad": 1,
         "nombre_good": 8,
         "sentence_count": 3,
         "word_count": 58
        },
        {
         "Date": 1441843200,
         "_deepnote_index_column": 13,
         "avg_sentence_lenght": 17.666666666666668,
         "avg_word_length": 4.679245283018868,
         "char_count": 248,
         "key": 0,
         "nombre_bad": 0,
         "nombre_good": 8,
         "sentence_count": 3,
         "word_count": 53
        },
        {
         "Date": 1374796800,
         "_deepnote_index_column": 14,
         "avg_sentence_lenght": 23,
         "avg_word_length": 4.6521739130434785,
         "char_count": 107,
         "key": 1,
         "nombre_bad": 2,
         "nombre_good": 9,
         "sentence_count": 1,
         "word_count": 23
        },
        {
         "Date": 1376006400,
         "_deepnote_index_column": 15,
         "avg_sentence_lenght": 16.5,
         "avg_word_length": 4.787878787878788,
         "char_count": 158,
         "key": 2,
         "nombre_bad": 2,
         "nombre_good": 10,
         "sentence_count": 2,
         "word_count": 33
        },
        {
         "Date": 1443744000,
         "_deepnote_index_column": 16,
         "avg_sentence_lenght": 44.333333333333336,
         "avg_word_length": 5.353383458646617,
         "char_count": 1424,
         "key": 3,
         "nombre_bad": 0,
         "nombre_good": 7,
         "sentence_count": 6,
         "word_count": 266
        },
        {
         "Date": 1418428800,
         "_deepnote_index_column": 17,
         "avg_sentence_lenght": 11.333333333333334,
         "avg_word_length": 5.588235294117647,
         "char_count": 380,
         "key": 4,
         "nombre_bad": 2,
         "nombre_good": 7,
         "sentence_count": 6,
         "word_count": 68
        },
        {
         "Date": 1344643200,
         "_deepnote_index_column": 18,
         "avg_sentence_lenght": 9.666666666666666,
         "avg_word_length": 5.896551724137931,
         "char_count": 171,
         "key": 5,
         "nombre_bad": 2,
         "nombre_good": 7,
         "sentence_count": 3,
         "word_count": 29
        },
        {
         "Date": 1461974400,
         "_deepnote_index_column": 19,
         "avg_sentence_lenght": 10.5,
         "avg_word_length": 4.746031746031746,
         "char_count": 299,
         "key": 6,
         "nombre_bad": 0,
         "nombre_good": 6,
         "sentence_count": 6,
         "word_count": 63
        },
        {
         "Date": 1461542400,
         "_deepnote_index_column": 20,
         "avg_sentence_lenght": 25.609756097560975,
         "avg_word_length": 4.58,
         "char_count": 4809,
         "key": 7,
         "nombre_bad": 0,
         "nombre_good": 6,
         "sentence_count": 41,
         "word_count": 1050
        },
        {
         "Date": 1374796800,
         "_deepnote_index_column": 21,
         "avg_sentence_lenght": 28.1,
         "avg_word_length": 5.245551601423488,
         "char_count": 1474,
         "key": 8,
         "nombre_bad": 3,
         "nombre_good": 7,
         "sentence_count": 10,
         "word_count": 281
        },
        {
         "Date": 1396742400,
         "_deepnote_index_column": 22,
         "avg_sentence_lenght": 9.333333333333334,
         "avg_word_length": 4.904761904761905,
         "char_count": 412,
         "key": 9,
         "nombre_bad": 2,
         "nombre_good": 5,
         "sentence_count": 9,
         "word_count": 84
        },
        {
         "Date": 1414627200,
         "_deepnote_index_column": 23,
         "avg_sentence_lenght": 9.055555555555555,
         "avg_word_length": 5.0920245398773005,
         "char_count": 830,
         "key": 10,
         "nombre_bad": 1,
         "nombre_good": 4,
         "sentence_count": 18,
         "word_count": 163
        },
        {
         "Date": 1429315200,
         "_deepnote_index_column": 24,
         "avg_sentence_lenght": 24.181818181818183,
         "avg_word_length": 5.026315789473684,
         "char_count": 1337,
         "key": 11,
         "nombre_bad": 2,
         "nombre_good": 5,
         "sentence_count": 11,
         "word_count": 266
        },
        {
         "Date": 1406160000,
         "_deepnote_index_column": 25,
         "avg_sentence_lenght": 53.5,
         "avg_word_length": 5.242990654205608,
         "char_count": 561,
         "key": 12,
         "nombre_bad": 0,
         "nombre_good": 5,
         "sentence_count": 2,
         "word_count": 107
        },
        {
         "Date": 1367971200,
         "_deepnote_index_column": 26,
         "avg_sentence_lenght": 23.214285714285715,
         "avg_word_length": 5.390769230769231,
         "char_count": 1752,
         "key": 0,
         "nombre_bad": 5,
         "nombre_good": 7,
         "sentence_count": 14,
         "word_count": 325
        },
        {
         "Date": 1343606400,
         "_deepnote_index_column": 27,
         "avg_sentence_lenght": 12.875,
         "avg_word_length": 4.378640776699029,
         "char_count": 902,
         "key": 1,
         "nombre_bad": 3,
         "nombre_good": 9,
         "sentence_count": 16,
         "word_count": 206
        },
        {
         "Date": 1389657600,
         "_deepnote_index_column": 28,
         "avg_sentence_lenght": 18.416666666666668,
         "avg_word_length": 4.699095022624435,
         "char_count": 2077,
         "key": 2,
         "nombre_bad": 11,
         "nombre_good": 11,
         "sentence_count": 24,
         "word_count": 442
        },
        {
         "Date": 1352332800,
         "_deepnote_index_column": 29,
         "avg_sentence_lenght": 10,
         "avg_word_length": 5.3,
         "char_count": 212,
         "key": 3,
         "nombre_bad": 1,
         "nombre_good": 5,
         "sentence_count": 4,
         "word_count": 40
        },
        {
         "Date": 1381104000,
         "_deepnote_index_column": 30,
         "avg_sentence_lenght": 9.75,
         "avg_word_length": 5.538461538461538,
         "char_count": 432,
         "key": 4,
         "nombre_bad": 0,
         "nombre_good": 7,
         "sentence_count": 8,
         "word_count": 78
        },
        {
         "Date": 1385596800,
         "_deepnote_index_column": 31,
         "avg_sentence_lenght": 6,
         "avg_word_length": 5.388888888888889,
         "char_count": 97,
         "key": 5,
         "nombre_bad": 2,
         "nombre_good": 4,
         "sentence_count": 3,
         "word_count": 18
        },
        {
         "Date": 1368057600,
         "_deepnote_index_column": 32,
         "avg_sentence_lenght": 11.833333333333334,
         "avg_word_length": 4.436619718309859,
         "char_count": 315,
         "key": 6,
         "nombre_bad": 1,
         "nombre_good": 3,
         "sentence_count": 6,
         "word_count": 71
        },
        {
         "Date": 1422662400,
         "_deepnote_index_column": 33,
         "avg_sentence_lenght": 21.115384615384617,
         "avg_word_length": 5.284153005464481,
         "char_count": 2901,
         "key": 7,
         "nombre_bad": 0,
         "nombre_good": 4,
         "sentence_count": 26,
         "word_count": 549
        },
        {
         "Date": 1357689600,
         "_deepnote_index_column": 34,
         "avg_sentence_lenght": 12,
         "avg_word_length": 4.666666666666667,
         "char_count": 56,
         "key": 8,
         "nombre_bad": 1,
         "nombre_good": 3,
         "sentence_count": 1,
         "word_count": 12
        },
        {
         "Date": 1378512000,
         "_deepnote_index_column": 35,
         "avg_sentence_lenght": 11.833333333333334,
         "avg_word_length": 5.028169014084507,
         "char_count": 357,
         "key": 9,
         "nombre_bad": 0,
         "nombre_good": 4,
         "sentence_count": 6,
         "word_count": 71
        },
        {
         "Date": 1590883200,
         "_deepnote_index_column": 36,
         "avg_sentence_lenght": 30.5,
         "avg_word_length": 4.942622950819672,
         "char_count": 603,
         "key": 10,
         "nombre_bad": 1,
         "nombre_good": 3,
         "sentence_count": 4,
         "word_count": 122
        },
        {
         "Date": 1496966400,
         "_deepnote_index_column": 37,
         "avg_sentence_lenght": 10.75,
         "avg_word_length": 5.232558139534884,
         "char_count": 225,
         "key": 11,
         "nombre_bad": 0,
         "nombre_good": 4,
         "sentence_count": 4,
         "word_count": 43
        },
        {
         "Date": 1396051200,
         "_deepnote_index_column": 38,
         "avg_sentence_lenght": 8.666666666666666,
         "avg_word_length": 5.846153846153846,
         "char_count": 152,
         "key": 12,
         "nombre_bad": 1,
         "nombre_good": 3,
         "sentence_count": 3,
         "word_count": 26
        },
        {
         "Date": 1221782400,
         "_deepnote_index_column": 39,
         "avg_sentence_lenght": 15.75,
         "avg_word_length": 4.645502645502646,
         "char_count": 878,
         "key": 13,
         "nombre_bad": 0,
         "nombre_good": 4,
         "sentence_count": 12,
         "word_count": 189
        },
        {
         "Date": 1371168000,
         "_deepnote_index_column": 40,
         "avg_sentence_lenght": 25.428571428571427,
         "avg_word_length": 4.685393258426966,
         "char_count": 834,
         "key": 14,
         "nombre_bad": 20,
         "nombre_good": 14,
         "sentence_count": 7,
         "word_count": 178
        },
        {
         "Date": 1308960000,
         "_deepnote_index_column": 41,
         "avg_sentence_lenght": 12.6,
         "avg_word_length": 5.2936507936507935,
         "char_count": 667,
         "key": 0,
         "nombre_bad": 1,
         "nombre_good": 3,
         "sentence_count": 10,
         "word_count": 126
        },
        {
         "Date": 1388707200,
         "_deepnote_index_column": 42,
         "avg_sentence_lenght": 46.333333333333336,
         "avg_word_length": 4.676258992805756,
         "char_count": 650,
         "key": 1,
         "nombre_bad": 2,
         "nombre_good": 3,
         "sentence_count": 3,
         "word_count": 139
        },
        {
         "Date": 1352332800,
         "_deepnote_index_column": 43,
         "avg_sentence_lenght": 21.8,
         "avg_word_length": 4.944954128440367,
         "char_count": 1617,
         "key": 2,
         "nombre_bad": 4,
         "nombre_good": 4,
         "sentence_count": 15,
         "word_count": 327
        },
        {
         "Date": 1317081600,
         "_deepnote_index_column": 44,
         "avg_sentence_lenght": 23.666666666666668,
         "avg_word_length": 4.985915492957746,
         "char_count": 354,
         "key": 3,
         "nombre_bad": 2,
         "nombre_good": 3,
         "sentence_count": 3,
         "word_count": 71
        },
        {
         "Date": 1442188800,
         "_deepnote_index_column": 45,
         "avg_sentence_lenght": 14.5,
         "avg_word_length": 3.793103448275862,
         "char_count": 330,
         "key": 4,
         "nombre_bad": 2,
         "nombre_good": 3,
         "sentence_count": 6,
         "word_count": 87
        },
        {
         "Date": 1371686400,
         "_deepnote_index_column": 46,
         "avg_sentence_lenght": 44.333333333333336,
         "avg_word_length": 4.887218045112782,
         "char_count": 650,
         "key": 5,
         "nombre_bad": 1,
         "nombre_good": 3,
         "sentence_count": 3,
         "word_count": 133
        },
        {
         "Date": 1342656000,
         "_deepnote_index_column": 47,
         "avg_sentence_lenght": 4.666666666666667,
         "avg_word_length": 5.142857142857143,
         "char_count": 72,
         "key": 6,
         "nombre_bad": 1,
         "nombre_good": 2,
         "sentence_count": 3,
         "word_count": 14
        },
        {
         "Date": 1410307200,
         "_deepnote_index_column": 48,
         "avg_sentence_lenght": 11.25,
         "avg_word_length": 4.955555555555556,
         "char_count": 669,
         "key": 7,
         "nombre_bad": 0,
         "nombre_good": 3,
         "sentence_count": 12,
         "word_count": 135
        },
        {
         "Date": 1161475200,
         "_deepnote_index_column": 49,
         "avg_sentence_lenght": 6.4,
         "avg_word_length": 6.03125,
         "char_count": 193,
         "key": 8,
         "nombre_bad": 1,
         "nombre_good": 2,
         "sentence_count": 5,
         "word_count": 32
        },
        {
         "Date": 1463184000,
         "_deepnote_index_column": 50,
         "avg_sentence_lenght": 23.25,
         "avg_word_length": 4.795698924731183,
         "char_count": 892,
         "key": 9,
         "nombre_bad": 0,
         "nombre_good": 3,
         "sentence_count": 8,
         "word_count": 186
        },
        {
         "Date": 1551225600,
         "_deepnote_index_column": 51,
         "avg_sentence_lenght": 9.11111111111111,
         "avg_word_length": 5.024390243902439,
         "char_count": 412,
         "key": 10,
         "nombre_bad": 0,
         "nombre_good": 3,
         "sentence_count": 9,
         "word_count": 82
        },
        {
         "Date": 1194998400,
         "_deepnote_index_column": 52,
         "avg_sentence_lenght": 9.125,
         "avg_word_length": 4.904109589041096,
         "char_count": 358,
         "key": 11,
         "nombre_bad": 0,
         "nombre_good": 3,
         "sentence_count": 8,
         "word_count": 73
        },
        {
         "Date": 1369094400,
         "_deepnote_index_column": 53,
         "avg_sentence_lenght": 31.142857142857142,
         "avg_word_length": 4.247706422018348,
         "char_count": 926,
         "key": 12,
         "nombre_bad": 1,
         "nombre_good": 2,
         "sentence_count": 7,
         "word_count": 218
        },
        {
         "Date": 1272585600,
         "_deepnote_index_column": 54,
         "avg_sentence_lenght": 6.714285714285714,
         "avg_word_length": 5.361702127659575,
         "char_count": 252,
         "key": 13,
         "nombre_bad": 0,
         "nombre_good": 3,
         "sentence_count": 7,
         "word_count": 47
        }
       ]
      },
      "text/html": [
       "<div>\n",
       "<style scoped>\n",
       "    .dataframe tbody tr th:only-of-type {\n",
       "        vertical-align: middle;\n",
       "    }\n",
       "\n",
       "    .dataframe tbody tr th {\n",
       "        vertical-align: top;\n",
       "    }\n",
       "\n",
       "    .dataframe thead th {\n",
       "        text-align: right;\n",
       "    }\n",
       "</style>\n",
       "<table border=\"1\" class=\"dataframe\">\n",
       "  <thead>\n",
       "    <tr style=\"text-align: right;\">\n",
       "      <th></th>\n",
       "      <th>Date</th>\n",
       "      <th>key</th>\n",
       "      <th>nombre_good</th>\n",
       "      <th>nombre_bad</th>\n",
       "      <th>word_count</th>\n",
       "      <th>char_count</th>\n",
       "      <th>sentence_count</th>\n",
       "      <th>avg_word_length</th>\n",
       "      <th>avg_sentence_lenght</th>\n",
       "    </tr>\n",
       "  </thead>\n",
       "  <tbody>\n",
       "    <tr>\n",
       "      <th>0</th>\n",
       "      <td>1.365379e+09</td>\n",
       "      <td>0</td>\n",
       "      <td>155</td>\n",
       "      <td>10</td>\n",
       "      <td>392</td>\n",
       "      <td>1774</td>\n",
       "      <td>25</td>\n",
       "      <td>4.525510</td>\n",
       "      <td>15.680000</td>\n",
       "    </tr>\n",
       "    <tr>\n",
       "      <th>1</th>\n",
       "      <td>1.564013e+09</td>\n",
       "      <td>1</td>\n",
       "      <td>42</td>\n",
       "      <td>3</td>\n",
       "      <td>195</td>\n",
       "      <td>1075</td>\n",
       "      <td>11</td>\n",
       "      <td>5.512821</td>\n",
       "      <td>17.727273</td>\n",
       "    </tr>\n",
       "    <tr>\n",
       "      <th>2</th>\n",
       "      <td>1.405642e+09</td>\n",
       "      <td>2</td>\n",
       "      <td>39</td>\n",
       "      <td>4</td>\n",
       "      <td>1027</td>\n",
       "      <td>4680</td>\n",
       "      <td>54</td>\n",
       "      <td>4.556962</td>\n",
       "      <td>19.018519</td>\n",
       "    </tr>\n",
       "    <tr>\n",
       "      <th>3</th>\n",
       "      <td>1.276387e+09</td>\n",
       "      <td>3</td>\n",
       "      <td>46</td>\n",
       "      <td>5</td>\n",
       "      <td>82</td>\n",
       "      <td>419</td>\n",
       "      <td>6</td>\n",
       "      <td>5.109756</td>\n",
       "      <td>13.666667</td>\n",
       "    </tr>\n",
       "    <tr>\n",
       "      <th>4</th>\n",
       "      <td>1.408320e+09</td>\n",
       "      <td>4</td>\n",
       "      <td>28</td>\n",
       "      <td>3</td>\n",
       "      <td>623</td>\n",
       "      <td>2569</td>\n",
       "      <td>32</td>\n",
       "      <td>4.123596</td>\n",
       "      <td>19.468750</td>\n",
       "    </tr>\n",
       "    <tr>\n",
       "      <th>...</th>\n",
       "      <td>...</td>\n",
       "      <td>...</td>\n",
       "      <td>...</td>\n",
       "      <td>...</td>\n",
       "      <td>...</td>\n",
       "      <td>...</td>\n",
       "      <td>...</td>\n",
       "      <td>...</td>\n",
       "      <td>...</td>\n",
       "    </tr>\n",
       "    <tr>\n",
       "      <th>2004</th>\n",
       "      <td>1.396742e+09</td>\n",
       "      <td>9</td>\n",
       "      <td>0</td>\n",
       "      <td>0</td>\n",
       "      <td>29</td>\n",
       "      <td>141</td>\n",
       "      <td>1</td>\n",
       "      <td>4.862069</td>\n",
       "      <td>29.000000</td>\n",
       "    </tr>\n",
       "    <tr>\n",
       "      <th>2005</th>\n",
       "      <td>1.407197e+09</td>\n",
       "      <td>10</td>\n",
       "      <td>0</td>\n",
       "      <td>0</td>\n",
       "      <td>32</td>\n",
       "      <td>148</td>\n",
       "      <td>2</td>\n",
       "      <td>4.625000</td>\n",
       "      <td>16.000000</td>\n",
       "    </tr>\n",
       "    <tr>\n",
       "      <th>2006</th>\n",
       "      <td>1.410826e+09</td>\n",
       "      <td>11</td>\n",
       "      <td>0</td>\n",
       "      <td>0</td>\n",
       "      <td>17</td>\n",
       "      <td>89</td>\n",
       "      <td>2</td>\n",
       "      <td>5.235294</td>\n",
       "      <td>8.500000</td>\n",
       "    </tr>\n",
       "    <tr>\n",
       "      <th>2007</th>\n",
       "      <td>1.422230e+09</td>\n",
       "      <td>12</td>\n",
       "      <td>0</td>\n",
       "      <td>0</td>\n",
       "      <td>11</td>\n",
       "      <td>51</td>\n",
       "      <td>2</td>\n",
       "      <td>4.636364</td>\n",
       "      <td>5.500000</td>\n",
       "    </tr>\n",
       "    <tr>\n",
       "      <th>2008</th>\n",
       "      <td>1.431302e+09</td>\n",
       "      <td>13</td>\n",
       "      <td>0</td>\n",
       "      <td>0</td>\n",
       "      <td>93</td>\n",
       "      <td>517</td>\n",
       "      <td>9</td>\n",
       "      <td>5.559140</td>\n",
       "      <td>10.333333</td>\n",
       "    </tr>\n",
       "  </tbody>\n",
       "</table>\n",
       "<p>2009 rows × 9 columns</p>\n",
       "</div>"
      ],
      "text/plain": [
       "              Date  key  nombre_good  nombre_bad  word_count  char_count  \\\n",
       "0     1.365379e+09    0          155          10         392        1774   \n",
       "1     1.564013e+09    1           42           3         195        1075   \n",
       "2     1.405642e+09    2           39           4        1027        4680   \n",
       "3     1.276387e+09    3           46           5          82         419   \n",
       "4     1.408320e+09    4           28           3         623        2569   \n",
       "...            ...  ...          ...         ...         ...         ...   \n",
       "2004  1.396742e+09    9            0           0          29         141   \n",
       "2005  1.407197e+09   10            0           0          32         148   \n",
       "2006  1.410826e+09   11            0           0          17          89   \n",
       "2007  1.422230e+09   12            0           0          11          51   \n",
       "2008  1.431302e+09   13            0           0          93         517   \n",
       "\n",
       "      sentence_count  avg_word_length  avg_sentence_lenght  \n",
       "0                 25         4.525510            15.680000  \n",
       "1                 11         5.512821            17.727273  \n",
       "2                 54         4.556962            19.018519  \n",
       "3                  6         5.109756            13.666667  \n",
       "4                 32         4.123596            19.468750  \n",
       "...              ...              ...                  ...  \n",
       "2004               1         4.862069            29.000000  \n",
       "2005               2         4.625000            16.000000  \n",
       "2006               2         5.235294             8.500000  \n",
       "2007               2         4.636364             5.500000  \n",
       "2008               9         5.559140            10.333333  \n",
       "\n",
       "[2009 rows x 9 columns]"
      ]
     },
     "execution_count": 213,
     "metadata": {},
     "output_type": "execute_result"
    }
   ],
   "source": [
    "df"
   ]
  },
  {
   "cell_type": "code",
   "execution_count": 214,
   "metadata": {
    "cell_id": "00024-5fe16353-ab92-485b-8c3d-b59f3d8c16cc",
    "deepnote_cell_type": "code",
    "deepnote_to_be_reexecuted": false,
    "execution_millis": 5514,
    "execution_start": 1620224129443,
    "source_hash": "ccc23641",
    "tags": []
   },
   "outputs": [
    {
     "name": "stdout",
     "output_type": "stream",
     "text": [
      "\n",
      "Epoch: 0, accuracy:0.7868,  loss:0.5065,  \n",
      "..................................................\n",
      "Epoch: 50, accuracy:0.8522,  loss:0.3966,  \n",
      "..................................................\n",
      "Epoch: 100, accuracy:0.8618,  loss:0.3888,  \n",
      "..................................................\n",
      "Epoch: 150, accuracy:0.8626,  loss:0.3878,  \n",
      "21/21 [==============================] - 0s 914us/step - loss: 0.4435 - accuracy: 0.8431\n",
      "\n",
      "['loss', 'accuracy']\n",
      "[0.4435400366783142, 0.843137264251709]\n",
      "\n",
      "accuracy: 84.31%\n",
      "\n",
      "Confusion Matrix:\n",
      " [[0.19444444 0.80555556]\n",
      " [0.03063063 0.96936937]]\n",
      "Model: \"sequential_2\"\n",
      "_________________________________________________________________\n",
      "Layer (type)                 Output Shape              Param #   \n",
      "=================================================================\n",
      "dense_8 (Dense)              (None, 32)                320       \n",
      "_________________________________________________________________\n",
      "dropout_6 (Dropout)          (None, 32)                0         \n",
      "_________________________________________________________________\n",
      "dense_9 (Dense)              (None, 64)                2112      \n",
      "_________________________________________________________________\n",
      "dropout_7 (Dropout)          (None, 64)                0         \n",
      "_________________________________________________________________\n",
      "dense_10 (Dense)             (None, 16)                1040      \n",
      "_________________________________________________________________\n",
      "dropout_8 (Dropout)          (None, 16)                0         \n",
      "_________________________________________________________________\n",
      "dense_11 (Dense)             (None, 1)                 17        \n",
      "=================================================================\n",
      "Total params: 3,489\n",
      "Trainable params: 3,489\n",
      "Non-trainable params: 0\n",
      "_________________________________________________________________\n",
      "None\n"
     ]
    }
   ],
   "source": [
    "EPOCHS = 200\n",
    "REPORTSTEP = 50\n",
    "DOTS = 1\n",
    "\n",
    "# Split Train and Test Datasets\n",
    "X_train, X_test, y_train, y_test = train_test_split(df, notes, test_size=0.33)  \n",
    "\n",
    "# normalize \n",
    "scaler = MinMaxScaler(feature_range=(0, 1))\n",
    "X_train = scaler.fit_transform(X_train)    \n",
    "X_test = scaler.fit_transform(X_test)    \n",
    "\n",
    "model = Sequential([layers.Dense(32, activation='tanh', input_shape=[len(df.keys())]),\n",
    "                        layers.Dropout(rate=.1),\n",
    "                        layers.Dense(64, activation='tanh'),\n",
    "                        layers.Dropout(rate=.1),\n",
    "                        layers.Dense(16, activation='tanh'),\n",
    "                        layers.Dropout(rate=.1),\n",
    "                        layers.Dense(1, activation='sigmoid')\n",
    "                        ])\n",
    "optimizer = tf.keras.optimizers.Adam(0.01)\n",
    "\n",
    "# Compile the Model\n",
    "model.compile(loss='binary_crossentropy', optimizer=optimizer, metrics=['accuracy'])\n",
    "# Train the Model\n",
    "model.fit(X_train, y_train, epochs=EPOCHS, batch_size=100, shuffle=True, verbose = 0,callbacks=[tfdocs.modeling. EpochDots (report_every=REPORTSTEP)])\n",
    "\n",
    "# Evaluate the model\n",
    "scores = model.evaluate(X_test, y_test)\n",
    "print(); print(model.metrics_names); print(scores)\n",
    "print(\"\\n%s: %.2f%%\" % (model.metrics_names[1], scores[1]*100))\n",
    "\n",
    "# Confusion Matrix\n",
    "y_pred = model.predict(X_test); y_pred = (y_pred > 0.5)\n",
    "cm = confusion_matrix(y_test, y_pred); print(\"\\nMatrice de confusion:\\n\", cm.astype('float')/cm.sum(axis=1)[:, np.newaxis])\n",
    "\n",
    "# More on the Model\n",
    "print(model.summary())"
   ]
  },
  {
   "cell_type": "code",
   "execution_count": 217,
   "metadata": {
    "cell_id": "00025-97ada43f-3ccc-4910-9332-ed931927b3da",
    "deepnote_cell_type": "code",
    "deepnote_to_be_reexecuted": false,
    "execution_millis": 113,
    "execution_start": 1620224159438,
    "source_hash": "69d2204d",
    "tags": []
   },
   "outputs": [
    {
     "ename": "KeyError",
     "evalue": "'word_count'",
     "output_type": "error",
     "traceback": [
      "\u001b[0;31m---------------------------------------------------------------------------\u001b[0m",
      "\u001b[0;31mKeyError\u001b[0m                                  Traceback (most recent call last)",
      "\u001b[0;32m/shared-libs/python3.7/py/lib/python3.7/site-packages/pandas/core/indexes/base.py\u001b[0m in \u001b[0;36mget_loc\u001b[0;34m(self, key, method, tolerance)\u001b[0m\n\u001b[1;32m   3079\u001b[0m             \u001b[0;32mtry\u001b[0m\u001b[0;34m:\u001b[0m\u001b[0;34m\u001b[0m\u001b[0;34m\u001b[0m\u001b[0m\n\u001b[0;32m-> 3080\u001b[0;31m                 \u001b[0;32mreturn\u001b[0m \u001b[0mself\u001b[0m\u001b[0;34m.\u001b[0m\u001b[0m_engine\u001b[0m\u001b[0;34m.\u001b[0m\u001b[0mget_loc\u001b[0m\u001b[0;34m(\u001b[0m\u001b[0mcasted_key\u001b[0m\u001b[0;34m)\u001b[0m\u001b[0;34m\u001b[0m\u001b[0;34m\u001b[0m\u001b[0m\n\u001b[0m\u001b[1;32m   3081\u001b[0m             \u001b[0;32mexcept\u001b[0m \u001b[0mKeyError\u001b[0m \u001b[0;32mas\u001b[0m \u001b[0merr\u001b[0m\u001b[0;34m:\u001b[0m\u001b[0;34m\u001b[0m\u001b[0;34m\u001b[0m\u001b[0m\n",
      "\u001b[0;32mpandas/_libs/index.pyx\u001b[0m in \u001b[0;36mpandas._libs.index.IndexEngine.get_loc\u001b[0;34m()\u001b[0m\n",
      "\u001b[0;32mpandas/_libs/index.pyx\u001b[0m in \u001b[0;36mpandas._libs.index.IndexEngine.get_loc\u001b[0;34m()\u001b[0m\n",
      "\u001b[0;32mpandas/_libs/hashtable_class_helper.pxi\u001b[0m in \u001b[0;36mpandas._libs.hashtable.PyObjectHashTable.get_item\u001b[0;34m()\u001b[0m\n",
      "\u001b[0;32mpandas/_libs/hashtable_class_helper.pxi\u001b[0m in \u001b[0;36mpandas._libs.hashtable.PyObjectHashTable.get_item\u001b[0;34m()\u001b[0m\n",
      "\u001b[0;31mKeyError\u001b[0m: 'word_count'",
      "\nThe above exception was the direct cause of the following exception:\n",
      "\u001b[0;31mKeyError\u001b[0m                                  Traceback (most recent call last)",
      "\u001b[0;32m<ipython-input-217-9e4d206536c0>\u001b[0m in \u001b[0;36m<module>\u001b[0;34m\u001b[0m\n\u001b[0;32m----> 1\u001b[0;31m \u001b[0mword_count\u001b[0m \u001b[0;34m=\u001b[0m \u001b[0mdf_word_count\u001b[0m\u001b[0;34m.\u001b[0m\u001b[0mpop\u001b[0m\u001b[0;34m(\u001b[0m\u001b[0;34m\"word_count\"\u001b[0m\u001b[0;34m)\u001b[0m\u001b[0;34m\u001b[0m\u001b[0;34m\u001b[0m\u001b[0m\n\u001b[0m\u001b[1;32m      2\u001b[0m \u001b[0mdf_word_count\u001b[0m\u001b[0;34m(\u001b[0m\u001b[0;34m\"Description\"\u001b[0m\u001b[0;34m)\u001b[0m\u001b[0;34m\u001b[0m\u001b[0;34m\u001b[0m\u001b[0m\n",
      "\u001b[0;32m/shared-libs/python3.7/py/lib/python3.7/site-packages/pandas/core/frame.py\u001b[0m in \u001b[0;36mpop\u001b[0;34m(self, item)\u001b[0m\n\u001b[1;32m   4510\u001b[0m         \u001b[0;36m3\u001b[0m  \u001b[0mmonkey\u001b[0m        \u001b[0mNaN\u001b[0m\u001b[0;34m\u001b[0m\u001b[0;34m\u001b[0m\u001b[0m\n\u001b[1;32m   4511\u001b[0m         \"\"\"\n\u001b[0;32m-> 4512\u001b[0;31m         \u001b[0;32mreturn\u001b[0m \u001b[0msuper\u001b[0m\u001b[0;34m(\u001b[0m\u001b[0;34m)\u001b[0m\u001b[0;34m.\u001b[0m\u001b[0mpop\u001b[0m\u001b[0;34m(\u001b[0m\u001b[0mitem\u001b[0m\u001b[0;34m=\u001b[0m\u001b[0mitem\u001b[0m\u001b[0;34m)\u001b[0m\u001b[0;34m\u001b[0m\u001b[0;34m\u001b[0m\u001b[0m\n\u001b[0m\u001b[1;32m   4513\u001b[0m \u001b[0;34m\u001b[0m\u001b[0m\n\u001b[1;32m   4514\u001b[0m     \u001b[0;34m@\u001b[0m\u001b[0mdoc\u001b[0m\u001b[0;34m(\u001b[0m\u001b[0mNDFrame\u001b[0m\u001b[0;34m.\u001b[0m\u001b[0mreplace\u001b[0m\u001b[0;34m,\u001b[0m \u001b[0;34m**\u001b[0m\u001b[0m_shared_doc_kwargs\u001b[0m\u001b[0;34m)\u001b[0m\u001b[0;34m\u001b[0m\u001b[0;34m\u001b[0m\u001b[0m\n",
      "\u001b[0;32m/shared-libs/python3.7/py/lib/python3.7/site-packages/pandas/core/generic.py\u001b[0m in \u001b[0;36mpop\u001b[0;34m(self, item)\u001b[0m\n\u001b[1;32m    767\u001b[0m \u001b[0;34m\u001b[0m\u001b[0m\n\u001b[1;32m    768\u001b[0m     \u001b[0;32mdef\u001b[0m \u001b[0mpop\u001b[0m\u001b[0;34m(\u001b[0m\u001b[0mself\u001b[0m\u001b[0;34m,\u001b[0m \u001b[0mitem\u001b[0m\u001b[0;34m:\u001b[0m \u001b[0mLabel\u001b[0m\u001b[0;34m)\u001b[0m \u001b[0;34m->\u001b[0m \u001b[0mUnion\u001b[0m\u001b[0;34m[\u001b[0m\u001b[0mSeries\u001b[0m\u001b[0;34m,\u001b[0m \u001b[0mAny\u001b[0m\u001b[0;34m]\u001b[0m\u001b[0;34m:\u001b[0m\u001b[0;34m\u001b[0m\u001b[0;34m\u001b[0m\u001b[0m\n\u001b[0;32m--> 769\u001b[0;31m         \u001b[0mresult\u001b[0m \u001b[0;34m=\u001b[0m \u001b[0mself\u001b[0m\u001b[0;34m[\u001b[0m\u001b[0mitem\u001b[0m\u001b[0;34m]\u001b[0m\u001b[0;34m\u001b[0m\u001b[0;34m\u001b[0m\u001b[0m\n\u001b[0m\u001b[1;32m    770\u001b[0m         \u001b[0;32mdel\u001b[0m \u001b[0mself\u001b[0m\u001b[0;34m[\u001b[0m\u001b[0mitem\u001b[0m\u001b[0;34m]\u001b[0m\u001b[0;34m\u001b[0m\u001b[0;34m\u001b[0m\u001b[0m\n\u001b[1;32m    771\u001b[0m         \u001b[0;32mif\u001b[0m \u001b[0mself\u001b[0m\u001b[0;34m.\u001b[0m\u001b[0mndim\u001b[0m \u001b[0;34m==\u001b[0m \u001b[0;36m2\u001b[0m\u001b[0;34m:\u001b[0m\u001b[0;34m\u001b[0m\u001b[0;34m\u001b[0m\u001b[0m\n",
      "\u001b[0;32m/shared-libs/python3.7/py/lib/python3.7/site-packages/pandas/core/frame.py\u001b[0m in \u001b[0;36m__getitem__\u001b[0;34m(self, key)\u001b[0m\n\u001b[1;32m   3022\u001b[0m             \u001b[0;32mif\u001b[0m \u001b[0mself\u001b[0m\u001b[0;34m.\u001b[0m\u001b[0mcolumns\u001b[0m\u001b[0;34m.\u001b[0m\u001b[0mnlevels\u001b[0m \u001b[0;34m>\u001b[0m \u001b[0;36m1\u001b[0m\u001b[0;34m:\u001b[0m\u001b[0;34m\u001b[0m\u001b[0;34m\u001b[0m\u001b[0m\n\u001b[1;32m   3023\u001b[0m                 \u001b[0;32mreturn\u001b[0m \u001b[0mself\u001b[0m\u001b[0;34m.\u001b[0m\u001b[0m_getitem_multilevel\u001b[0m\u001b[0;34m(\u001b[0m\u001b[0mkey\u001b[0m\u001b[0;34m)\u001b[0m\u001b[0;34m\u001b[0m\u001b[0;34m\u001b[0m\u001b[0m\n\u001b[0;32m-> 3024\u001b[0;31m             \u001b[0mindexer\u001b[0m \u001b[0;34m=\u001b[0m \u001b[0mself\u001b[0m\u001b[0;34m.\u001b[0m\u001b[0mcolumns\u001b[0m\u001b[0;34m.\u001b[0m\u001b[0mget_loc\u001b[0m\u001b[0;34m(\u001b[0m\u001b[0mkey\u001b[0m\u001b[0;34m)\u001b[0m\u001b[0;34m\u001b[0m\u001b[0;34m\u001b[0m\u001b[0m\n\u001b[0m\u001b[1;32m   3025\u001b[0m             \u001b[0;32mif\u001b[0m \u001b[0mis_integer\u001b[0m\u001b[0;34m(\u001b[0m\u001b[0mindexer\u001b[0m\u001b[0;34m)\u001b[0m\u001b[0;34m:\u001b[0m\u001b[0;34m\u001b[0m\u001b[0;34m\u001b[0m\u001b[0m\n\u001b[1;32m   3026\u001b[0m                 \u001b[0mindexer\u001b[0m \u001b[0;34m=\u001b[0m \u001b[0;34m[\u001b[0m\u001b[0mindexer\u001b[0m\u001b[0;34m]\u001b[0m\u001b[0;34m\u001b[0m\u001b[0;34m\u001b[0m\u001b[0m\n",
      "\u001b[0;32m/shared-libs/python3.7/py/lib/python3.7/site-packages/pandas/core/indexes/base.py\u001b[0m in \u001b[0;36mget_loc\u001b[0;34m(self, key, method, tolerance)\u001b[0m\n\u001b[1;32m   3080\u001b[0m                 \u001b[0;32mreturn\u001b[0m \u001b[0mself\u001b[0m\u001b[0;34m.\u001b[0m\u001b[0m_engine\u001b[0m\u001b[0;34m.\u001b[0m\u001b[0mget_loc\u001b[0m\u001b[0;34m(\u001b[0m\u001b[0mcasted_key\u001b[0m\u001b[0;34m)\u001b[0m\u001b[0;34m\u001b[0m\u001b[0;34m\u001b[0m\u001b[0m\n\u001b[1;32m   3081\u001b[0m             \u001b[0;32mexcept\u001b[0m \u001b[0mKeyError\u001b[0m \u001b[0;32mas\u001b[0m \u001b[0merr\u001b[0m\u001b[0;34m:\u001b[0m\u001b[0;34m\u001b[0m\u001b[0;34m\u001b[0m\u001b[0m\n\u001b[0;32m-> 3082\u001b[0;31m                 \u001b[0;32mraise\u001b[0m \u001b[0mKeyError\u001b[0m\u001b[0;34m(\u001b[0m\u001b[0mkey\u001b[0m\u001b[0;34m)\u001b[0m \u001b[0;32mfrom\u001b[0m \u001b[0merr\u001b[0m\u001b[0;34m\u001b[0m\u001b[0;34m\u001b[0m\u001b[0m\n\u001b[0m\u001b[1;32m   3083\u001b[0m \u001b[0;34m\u001b[0m\u001b[0m\n\u001b[1;32m   3084\u001b[0m         \u001b[0;32mif\u001b[0m \u001b[0mtolerance\u001b[0m \u001b[0;32mis\u001b[0m \u001b[0;32mnot\u001b[0m \u001b[0;32mNone\u001b[0m\u001b[0;34m:\u001b[0m\u001b[0;34m\u001b[0m\u001b[0;34m\u001b[0m\u001b[0m\n",
      "\u001b[0;31mKeyError\u001b[0m: 'word_count'"
     ]
    }
   ],
   "source": [
    "word_count = df_word_count.pop(\"word_count\")"
   ]
  },
  {
   "cell_type": "code",
   "execution_count": 219,
   "metadata": {
    "cell_id": "00026-aa247c13-bada-4190-8031-85054a3ba792",
    "deepnote_cell_type": "code",
    "deepnote_to_be_reexecuted": false,
    "execution_millis": 11,
    "execution_start": 1620224187284,
    "source_hash": "ff437690",
    "tags": []
   },
   "outputs": [
    {
     "data": {
      "text/plain": [
       "0       [forrest, gump, robert, zemeck, (, réalis, tri...\n",
       "1       [une, immens, rèussit, cinem, hollywoodien, ro...\n",
       "2       [le, matin, quand, fait, bon, beau, normal, qu...\n",
       "3       [un, film, immens, rempl, poes, bon, sent, san...\n",
       "4       [un, tres, grand, film, ce, film, suit, vi, pl...\n",
       "                              ...                        \n",
       "2004    [ce, film, chef, d'œuvr, j'ai, ador, vrai, tou...\n",
       "2005    [meilleur, film, tous, temp, acteur, génial, c...\n",
       "2006    [ce, film, boulevers, mêm, apres, l'avoir, vu,...\n",
       "2007     [ce, film, classiqu, tres, touch, fait, réflech]\n",
       "2008    [il, s'ag, là, d'un, incontourn, forrest, gump...\n",
       "Name: Description, Length: 2009, dtype: object"
      ]
     },
     "execution_count": 219,
     "metadata": {},
     "output_type": "execute_result"
    }
   ],
   "source": [
    "df_word_count.pop(\"Description\")"
   ]
  },
  {
   "cell_type": "code",
   "execution_count": 224,
   "metadata": {
    "cell_id": "00027-b7491991-e64c-40bb-9aea-6502b1cfb111",
    "deepnote_cell_type": "code",
    "deepnote_to_be_reexecuted": false,
    "execution_millis": 71,
    "execution_start": 1620224403537,
    "source_hash": "ada69b63",
    "tags": []
   },
   "outputs": [
    {
     "data": {
      "application/vnd.deepnote.dataframe.v2+json": {
       "column_count": 10,
       "columns": [
        {
         "dtype": "object",
         "name": "Note",
         "stats": {
          "categories": [
           {
            "count": 1440,
            "name": "5.0"
           },
           {
            "count": 227,
            "name": "4.5"
           },
           {
            "count": 342,
            "name": "8 others"
           }
          ],
          "nan_count": 0,
          "unique_count": 10
         }
        },
        {
         "dtype": "float64",
         "name": "Date",
         "stats": {
          "histogram": [
           {
            "bin_end": 1205478720,
            "bin_start": 1159488000,
            "count": 272
           },
           {
            "bin_end": 1251469440,
            "bin_start": 1205478720,
            "count": 187
           },
           {
            "bin_end": 1297460160,
            "bin_start": 1251469440,
            "count": 313
           },
           {
            "bin_end": 1343450880,
            "bin_start": 1297460160,
            "count": 252
           },
           {
            "bin_end": 1389441600,
            "bin_start": 1343450880,
            "count": 312
           },
           {
            "bin_end": 1435432320,
            "bin_start": 1389441600,
            "count": 166
           },
           {
            "bin_end": 1481423040,
            "bin_start": 1435432320,
            "count": 139
           },
           {
            "bin_end": 1527413760,
            "bin_start": 1481423040,
            "count": 97
           },
           {
            "bin_end": 1573404480,
            "bin_start": 1527413760,
            "count": 86
           },
           {
            "bin_end": 1619395200,
            "bin_start": 1573404480,
            "count": 185
           }
          ],
          "max": "1619395200.0",
          "min": "1159488000.0",
          "nan_count": 0,
          "unique_count": 1484
         }
        },
        {
         "dtype": "int64",
         "name": "key",
         "stats": {
          "histogram": [
           {
            "bin_end": 1.4,
            "bin_start": 0,
            "count": 280
           },
           {
            "bin_end": 2.8,
            "bin_start": 1.4,
            "count": 140
           },
           {
            "bin_end": 4.199999999999999,
            "bin_start": 2.8,
            "count": 280
           },
           {
            "bin_end": 5.6,
            "bin_start": 4.199999999999999,
            "count": 140
           },
           {
            "bin_end": 7,
            "bin_start": 5.6,
            "count": 140
           },
           {
            "bin_end": 8.399999999999999,
            "bin_start": 7,
            "count": 280
           },
           {
            "bin_end": 9.799999999999999,
            "bin_start": 8.399999999999999,
            "count": 140
           },
           {
            "bin_end": 11.2,
            "bin_start": 9.799999999999999,
            "count": 279
           },
           {
            "bin_end": 12.6,
            "bin_start": 11.2,
            "count": 136
           },
           {
            "bin_end": 14,
            "bin_start": 12.6,
            "count": 194
           }
          ],
          "max": "14",
          "min": "0",
          "nan_count": 0,
          "unique_count": 15
         }
        },
        {
         "dtype": "int64",
         "name": "nombre_good",
         "stats": {
          "histogram": [
           {
            "bin_end": 15.5,
            "bin_start": 0,
            "count": 1998
           },
           {
            "bin_end": 31,
            "bin_start": 15.5,
            "count": 6
           },
           {
            "bin_end": 46.5,
            "bin_start": 31,
            "count": 3
           },
           {
            "bin_end": 62,
            "bin_start": 46.5,
            "count": 1
           },
           {
            "bin_end": 77.5,
            "bin_start": 62,
            "count": 0
           },
           {
            "bin_end": 93,
            "bin_start": 77.5,
            "count": 0
           },
           {
            "bin_end": 108.5,
            "bin_start": 93,
            "count": 0
           },
           {
            "bin_end": 124,
            "bin_start": 108.5,
            "count": 0
           },
           {
            "bin_end": 139.5,
            "bin_start": 124,
            "count": 0
           },
           {
            "bin_end": 155,
            "bin_start": 139.5,
            "count": 1
           }
          ],
          "max": "155",
          "min": "0",
          "nan_count": 0,
          "unique_count": 25
         }
        },
        {
         "dtype": "int64",
         "name": "nombre_bad",
         "stats": {
          "histogram": [
           {
            "bin_end": 13.5,
            "bin_start": 0,
            "count": 1990
           },
           {
            "bin_end": 27,
            "bin_start": 13.5,
            "count": 6
           },
           {
            "bin_end": 40.5,
            "bin_start": 27,
            "count": 2
           },
           {
            "bin_end": 54,
            "bin_start": 40.5,
            "count": 2
           },
           {
            "bin_end": 67.5,
            "bin_start": 54,
            "count": 3
           },
           {
            "bin_end": 81,
            "bin_start": 67.5,
            "count": 2
           },
           {
            "bin_end": 94.5,
            "bin_start": 81,
            "count": 2
           },
           {
            "bin_end": 108,
            "bin_start": 94.5,
            "count": 0
           },
           {
            "bin_end": 121.5,
            "bin_start": 108,
            "count": 0
           },
           {
            "bin_end": 135,
            "bin_start": 121.5,
            "count": 2
           }
          ],
          "max": "135",
          "min": "0",
          "nan_count": 0,
          "unique_count": 31
         }
        },
        {
         "dtype": "int64",
         "name": "binary_note",
         "stats": {
          "histogram": [
           {
            "bin_end": 0.1,
            "bin_start": 0,
            "count": 342
           },
           {
            "bin_end": 0.2,
            "bin_start": 0.1,
            "count": 0
           },
           {
            "bin_end": 0.30000000000000004,
            "bin_start": 0.2,
            "count": 0
           },
           {
            "bin_end": 0.4,
            "bin_start": 0.30000000000000004,
            "count": 0
           },
           {
            "bin_end": 0.5,
            "bin_start": 0.4,
            "count": 0
           },
           {
            "bin_end": 0.6000000000000001,
            "bin_start": 0.5,
            "count": 0
           },
           {
            "bin_end": 0.7000000000000001,
            "bin_start": 0.6000000000000001,
            "count": 0
           },
           {
            "bin_end": 0.8,
            "bin_start": 0.7000000000000001,
            "count": 0
           },
           {
            "bin_end": 0.9,
            "bin_start": 0.8,
            "count": 0
           },
           {
            "bin_end": 1,
            "bin_start": 0.9,
            "count": 1667
           }
          ],
          "max": "1",
          "min": "0",
          "nan_count": 0,
          "unique_count": 2
         }
        },
        {
         "dtype": "int64",
         "name": "char_count",
         "stats": {
          "histogram": [
           {
            "bin_end": 506.4,
            "bin_start": 3,
            "count": 1707
           },
           {
            "bin_end": 1009.8,
            "bin_start": 506.4,
            "count": 202
           },
           {
            "bin_end": 1513.1999999999998,
            "bin_start": 1009.8,
            "count": 53
           },
           {
            "bin_end": 2016.6,
            "bin_start": 1513.1999999999998,
            "count": 24
           },
           {
            "bin_end": 2520,
            "bin_start": 2016.6,
            "count": 4
           },
           {
            "bin_end": 3023.3999999999996,
            "bin_start": 2520,
            "count": 7
           },
           {
            "bin_end": 3526.7999999999997,
            "bin_start": 3023.3999999999996,
            "count": 5
           },
           {
            "bin_end": 4030.2,
            "bin_start": 3526.7999999999997,
            "count": 0
           },
           {
            "bin_end": 4533.599999999999,
            "bin_start": 4030.2,
            "count": 3
           },
           {
            "bin_end": 5037,
            "bin_start": 4533.599999999999,
            "count": 4
           }
          ],
          "max": "5037",
          "min": "3",
          "nan_count": 0,
          "unique_count": 688
         }
        },
        {
         "dtype": "int64",
         "name": "sentence_count",
         "stats": {
          "histogram": [
           {
            "bin_end": 6.3,
            "bin_start": 1,
            "count": 1581
           },
           {
            "bin_end": 11.6,
            "bin_start": 6.3,
            "count": 297
           },
           {
            "bin_end": 16.9,
            "bin_start": 11.6,
            "count": 73
           },
           {
            "bin_end": 22.2,
            "bin_start": 16.9,
            "count": 30
           },
           {
            "bin_end": 27.5,
            "bin_start": 22.2,
            "count": 9
           },
           {
            "bin_end": 32.8,
            "bin_start": 27.5,
            "count": 7
           },
           {
            "bin_end": 38.1,
            "bin_start": 32.8,
            "count": 5
           },
           {
            "bin_end": 43.4,
            "bin_start": 38.1,
            "count": 3
           },
           {
            "bin_end": 48.699999999999996,
            "bin_start": 43.4,
            "count": 2
           },
           {
            "bin_end": 54,
            "bin_start": 48.699999999999996,
            "count": 2
           }
          ],
          "max": "54",
          "min": "1",
          "nan_count": 0,
          "unique_count": 41
         }
        },
        {
         "dtype": "float64",
         "name": "avg_word_length",
         "stats": {
          "histogram": [
           {
            "bin_end": 3.5785714285714287,
            "bin_start": 1.1428571428571428,
            "count": 24
           },
           {
            "bin_end": 6.014285714285714,
            "bin_start": 3.5785714285714287,
            "count": 1905
           },
           {
            "bin_end": 8.450000000000001,
            "bin_start": 6.014285714285714,
            "count": 70
           },
           {
            "bin_end": 10.885714285714286,
            "bin_start": 8.450000000000001,
            "count": 3
           },
           {
            "bin_end": 13.321428571428573,
            "bin_start": 10.885714285714286,
            "count": 6
           },
           {
            "bin_end": 15.757142857142858,
            "bin_start": 13.321428571428573,
            "count": 0
           },
           {
            "bin_end": 18.192857142857143,
            "bin_start": 15.757142857142858,
            "count": 0
           },
           {
            "bin_end": 20.62857142857143,
            "bin_start": 18.192857142857143,
            "count": 0
           },
           {
            "bin_end": 23.064285714285717,
            "bin_start": 20.62857142857143,
            "count": 0
           },
           {
            "bin_end": 25.5,
            "bin_start": 23.064285714285717,
            "count": 1
           }
          ],
          "max": "25.5",
          "min": "1.1428571428571428",
          "nan_count": 0,
          "unique_count": 1301
         }
        },
        {
         "dtype": "float64",
         "name": "avg_sentence_lenght",
         "stats": {
          "histogram": [
           {
            "bin_end": 20.64186046511628,
            "bin_start": 0.046511627906976744,
            "count": 1654
           },
           {
            "bin_end": 41.23720930232558,
            "bin_start": 20.64186046511628,
            "count": 292
           },
           {
            "bin_end": 61.83255813953489,
            "bin_start": 41.23720930232558,
            "count": 48
           },
           {
            "bin_end": 82.4279069767442,
            "bin_start": 61.83255813953489,
            "count": 6
           },
           {
            "bin_end": 103.0232558139535,
            "bin_start": 82.4279069767442,
            "count": 3
           },
           {
            "bin_end": 123.61860465116281,
            "bin_start": 103.0232558139535,
            "count": 5
           },
           {
            "bin_end": 144.21395348837208,
            "bin_start": 123.61860465116281,
            "count": 0
           },
           {
            "bin_end": 164.8093023255814,
            "bin_start": 144.21395348837208,
            "count": 0
           },
           {
            "bin_end": 185.4046511627907,
            "bin_start": 164.8093023255814,
            "count": 0
           },
           {
            "bin_end": 206,
            "bin_start": 185.4046511627907,
            "count": 1
           }
          ],
          "max": "206.0",
          "min": "0.046511627906976744",
          "nan_count": 0,
          "unique_count": 581
         }
        },
        {
         "dtype": "int64",
         "name": "_deepnote_index_column"
        }
       ],
       "row_count": 2009,
       "rows_bottom": [
        {
         "Date": 1389139200,
         "Note": "5.0",
         "_deepnote_index_column": 1959,
         "avg_sentence_lenght": 10.75,
         "avg_word_length": 4.558139534883721,
         "binary_note": 1,
         "char_count": 196,
         "key": 9,
         "nombre_bad": 0,
         "nombre_good": 0,
         "sentence_count": 4
        },
        {
         "Date": 1375142400,
         "Note": "5.0",
         "_deepnote_index_column": 1960,
         "avg_sentence_lenght": 18.875,
         "avg_word_length": 4.602649006622516,
         "binary_note": 1,
         "char_count": 695,
         "key": 10,
         "nombre_bad": 0,
         "nombre_good": 0,
         "sentence_count": 8
        },
        {
         "Date": 1479081600,
         "Note": "5.0",
         "_deepnote_index_column": 1961,
         "avg_sentence_lenght": 9.333333333333334,
         "avg_word_length": 4.571428571428571,
         "binary_note": 1,
         "char_count": 128,
         "key": 11,
         "nombre_bad": 0,
         "nombre_good": 0,
         "sentence_count": 3
        },
        {
         "Date": 1545350400,
         "Note": "5.0",
         "_deepnote_index_column": 1962,
         "avg_sentence_lenght": 8.5,
         "avg_word_length": 5.411764705882353,
         "binary_note": 1,
         "char_count": 184,
         "key": 12,
         "nombre_bad": 0,
         "nombre_good": 0,
         "sentence_count": 4
        },
        {
         "Date": 1603584000,
         "Note": "5.0",
         "_deepnote_index_column": 1963,
         "avg_sentence_lenght": 4.333333333333333,
         "avg_word_length": 4.3076923076923075,
         "binary_note": 1,
         "char_count": 112,
         "key": 13,
         "nombre_bad": 0,
         "nombre_good": 0,
         "sentence_count": 6
        },
        {
         "Date": 1609632000,
         "Note": "5.0",
         "_deepnote_index_column": 1964,
         "avg_sentence_lenght": 15,
         "avg_word_length": 5.933333333333334,
         "binary_note": 1,
         "char_count": 89,
         "key": 14,
         "nombre_bad": 0,
         "nombre_good": 0,
         "sentence_count": 1
        },
        {
         "Date": 1265932800,
         "Note": "5.0",
         "_deepnote_index_column": 1965,
         "avg_sentence_lenght": 39,
         "avg_word_length": 3.948717948717949,
         "binary_note": 1,
         "char_count": 154,
         "key": 0,
         "nombre_bad": 0,
         "nombre_good": 0,
         "sentence_count": 1
        },
        {
         "Date": 1287964800,
         "Note": "5.0",
         "_deepnote_index_column": 1966,
         "avg_sentence_lenght": 12.333333333333334,
         "avg_word_length": 5.54054054054054,
         "binary_note": 1,
         "char_count": 205,
         "key": 1,
         "nombre_bad": 0,
         "nombre_good": 0,
         "sentence_count": 3
        },
        {
         "Date": 1317081600,
         "Note": "4.5",
         "_deepnote_index_column": 1967,
         "avg_sentence_lenght": 14.2,
         "avg_word_length": 4.309859154929577,
         "binary_note": 1,
         "char_count": 306,
         "key": 2,
         "nombre_bad": 0,
         "nombre_good": 0,
         "sentence_count": 5
        },
        {
         "Date": 1329264000,
         "Note": "5.0",
         "_deepnote_index_column": 1968,
         "avg_sentence_lenght": 29,
         "avg_word_length": 5.413793103448276,
         "binary_note": 1,
         "char_count": 157,
         "key": 3,
         "nombre_bad": 0,
         "nombre_good": 0,
         "sentence_count": 1
        },
        {
         "Date": 1360195200,
         "Note": "5.0",
         "_deepnote_index_column": 1969,
         "avg_sentence_lenght": 4.6,
         "avg_word_length": 3.5652173913043477,
         "binary_note": 1,
         "char_count": 82,
         "key": 4,
         "nombre_bad": 0,
         "nombre_good": 0,
         "sentence_count": 5
        },
        {
         "Date": 1417392000,
         "Note": "4.5",
         "_deepnote_index_column": 1970,
         "avg_sentence_lenght": 9,
         "avg_word_length": 6.222222222222222,
         "binary_note": 1,
         "char_count": 56,
         "key": 5,
         "nombre_bad": 0,
         "nombre_good": 0,
         "sentence_count": 1
        },
        {
         "Date": 1487980800,
         "Note": "5.0",
         "_deepnote_index_column": 1971,
         "avg_sentence_lenght": 5.5,
         "avg_word_length": 5.090909090909091,
         "binary_note": 1,
         "char_count": 112,
         "key": 6,
         "nombre_bad": 0,
         "nombre_good": 0,
         "sentence_count": 4
        },
        {
         "Date": 1562112000,
         "Note": "5.0",
         "_deepnote_index_column": 1972,
         "avg_sentence_lenght": 4.625,
         "avg_word_length": 4.108108108108108,
         "binary_note": 1,
         "char_count": 152,
         "key": 7,
         "nombre_bad": 0,
         "nombre_good": 0,
         "sentence_count": 8
        },
        {
         "Date": 1609632000,
         "Note": "5.0",
         "_deepnote_index_column": 1973,
         "avg_sentence_lenght": 15,
         "avg_word_length": 5.933333333333334,
         "binary_note": 1,
         "char_count": 89,
         "key": 8,
         "nombre_bad": 0,
         "nombre_good": 0,
         "sentence_count": 1
        },
        {
         "Date": 1406332800,
         "Note": "5.0",
         "_deepnote_index_column": 1974,
         "avg_sentence_lenght": 5.75,
         "avg_word_length": 5.086956521739131,
         "binary_note": 1,
         "char_count": 117,
         "key": 9,
         "nombre_bad": 0,
         "nombre_good": 0,
         "sentence_count": 4
        },
        {
         "Date": 1476403200,
         "Note": "5.0",
         "_deepnote_index_column": 1975,
         "avg_sentence_lenght": 24,
         "avg_word_length": 4.416666666666667,
         "binary_note": 1,
         "char_count": 106,
         "key": 10,
         "nombre_bad": 0,
         "nombre_good": 0,
         "sentence_count": 1
        },
        {
         "Date": 1571270400,
         "Note": "4.5",
         "_deepnote_index_column": 1976,
         "avg_sentence_lenght": 27.5,
         "avg_word_length": 4.579220779220779,
         "binary_note": 1,
         "char_count": 1763,
         "key": 11,
         "nombre_bad": 0,
         "nombre_good": 0,
         "sentence_count": 14
        },
        {
         "Date": 1585008000,
         "Note": "5.0",
         "_deepnote_index_column": 1977,
         "avg_sentence_lenght": 10.5,
         "avg_word_length": 4.904761904761905,
         "binary_note": 1,
         "char_count": 206,
         "key": 12,
         "nombre_bad": 0,
         "nombre_good": 0,
         "sentence_count": 4
        },
        {
         "Date": 1298851200,
         "Note": "5.0",
         "_deepnote_index_column": 1978,
         "avg_sentence_lenght": 6.9,
         "avg_word_length": 4.739130434782608,
         "binary_note": 1,
         "char_count": 327,
         "key": 13,
         "nombre_bad": 0,
         "nombre_good": 0,
         "sentence_count": 10
        },
        {
         "Date": 1341446400,
         "Note": "4.5",
         "_deepnote_index_column": 1979,
         "avg_sentence_lenght": 8,
         "avg_word_length": 4.875,
         "binary_note": 1,
         "char_count": 117,
         "key": 14,
         "nombre_bad": 0,
         "nombre_good": 0,
         "sentence_count": 3
        },
        {
         "Date": 1164153600,
         "Note": "5.0",
         "_deepnote_index_column": 1980,
         "avg_sentence_lenght": 7.133333333333334,
         "avg_word_length": 4.775700934579439,
         "binary_note": 1,
         "char_count": 511,
         "key": 0,
         "nombre_bad": 0,
         "nombre_good": 0,
         "sentence_count": 15
        },
        {
         "Date": 1187740800,
         "Note": "5.0",
         "_deepnote_index_column": 1981,
         "avg_sentence_lenght": 9,
         "avg_word_length": 4.888888888888889,
         "binary_note": 1,
         "char_count": 44,
         "key": 1,
         "nombre_bad": 0,
         "nombre_good": 0,
         "sentence_count": 1
        },
        {
         "Date": 1617408000,
         "Note": "5.0",
         "_deepnote_index_column": 1982,
         "avg_sentence_lenght": 5.25,
         "avg_word_length": 4.428571428571429,
         "binary_note": 1,
         "char_count": 93,
         "key": 2,
         "nombre_bad": 0,
         "nombre_good": 0,
         "sentence_count": 4
        },
        {
         "Date": 1178064000,
         "Note": "5.0",
         "_deepnote_index_column": 1983,
         "avg_sentence_lenght": 10.285714285714286,
         "avg_word_length": 5.375,
         "binary_note": 1,
         "char_count": 387,
         "key": 3,
         "nombre_bad": 0,
         "nombre_good": 0,
         "sentence_count": 7
        },
        {
         "Date": 1479686400,
         "Note": "3.0",
         "_deepnote_index_column": 1984,
         "avg_sentence_lenght": 10,
         "avg_word_length": 5.133333333333334,
         "binary_note": 0,
         "char_count": 154,
         "key": 4,
         "nombre_bad": 0,
         "nombre_good": 0,
         "sentence_count": 3
        },
        {
         "Date": 1551744000,
         "Note": "5.0",
         "_deepnote_index_column": 1985,
         "avg_sentence_lenght": 5.666666666666667,
         "avg_word_length": 5.470588235294118,
         "binary_note": 1,
         "char_count": 93,
         "key": 5,
         "nombre_bad": 0,
         "nombre_good": 0,
         "sentence_count": 3
        },
        {
         "Date": 1603152000,
         "Note": "5.0",
         "_deepnote_index_column": 1986,
         "avg_sentence_lenght": 14,
         "avg_word_length": 4.285714285714286,
         "binary_note": 1,
         "char_count": 180,
         "key": 6,
         "nombre_bad": 0,
         "nombre_good": 0,
         "sentence_count": 3
        },
        {
         "Date": 1575676800,
         "Note": "5.0",
         "_deepnote_index_column": 1987,
         "avg_sentence_lenght": 44.5,
         "avg_word_length": 4.550561797752809,
         "binary_note": 1,
         "char_count": 405,
         "key": 7,
         "nombre_bad": 0,
         "nombre_good": 0,
         "sentence_count": 2
        },
        {
         "Date": 1182643200,
         "Note": "5.0",
         "_deepnote_index_column": 1988,
         "avg_sentence_lenght": 3.25,
         "avg_word_length": 4,
         "binary_note": 1,
         "char_count": 52,
         "key": 8,
         "nombre_bad": 0,
         "nombre_good": 0,
         "sentence_count": 4
        },
        {
         "Date": 1232668800,
         "Note": "5.0",
         "_deepnote_index_column": 1989,
         "avg_sentence_lenght": 13.285714285714286,
         "avg_word_length": 4.591397849462366,
         "binary_note": 1,
         "char_count": 427,
         "key": 9,
         "nombre_bad": 0,
         "nombre_good": 0,
         "sentence_count": 7
        },
        {
         "Date": 1585872000,
         "Note": "5.0",
         "_deepnote_index_column": 1990,
         "avg_sentence_lenght": 13.4,
         "avg_word_length": 4.880597014925373,
         "binary_note": 1,
         "char_count": 327,
         "key": 10,
         "nombre_bad": 0,
         "nombre_good": 0,
         "sentence_count": 5
        },
        {
         "Date": 1516752000,
         "Note": "4.0",
         "_deepnote_index_column": 1991,
         "avg_sentence_lenght": 18,
         "avg_word_length": 4.722222222222222,
         "binary_note": 0,
         "char_count": 85,
         "key": 11,
         "nombre_bad": 0,
         "nombre_good": 0,
         "sentence_count": 1
        },
        {
         "Date": 1159488000,
         "Note": "5.0",
         "_deepnote_index_column": 1992,
         "avg_sentence_lenght": 9.11111111111111,
         "avg_word_length": 4.951219512195122,
         "binary_note": 1,
         "char_count": 406,
         "key": 12,
         "nombre_bad": 0,
         "nombre_good": 0,
         "sentence_count": 9
        },
        {
         "Date": 1484092800,
         "Note": "5.0",
         "_deepnote_index_column": 1993,
         "avg_sentence_lenght": 9.75,
         "avg_word_length": 4.153846153846154,
         "binary_note": 1,
         "char_count": 162,
         "key": 13,
         "nombre_bad": 0,
         "nombre_good": 0,
         "sentence_count": 4
        },
        {
         "Date": 1178150400,
         "Note": "5.0",
         "_deepnote_index_column": 1994,
         "avg_sentence_lenght": 11.333333333333334,
         "avg_word_length": 4.852941176470588,
         "binary_note": 1,
         "char_count": 165,
         "key": 14,
         "nombre_bad": 0,
         "nombre_good": 0,
         "sentence_count": 3
        },
        {
         "Date": 1486252800,
         "Note": "3.0",
         "_deepnote_index_column": 1995,
         "avg_sentence_lenght": 9.5,
         "avg_word_length": 4.894736842105263,
         "binary_note": 0,
         "char_count": 93,
         "key": 0,
         "nombre_bad": 0,
         "nombre_good": 0,
         "sentence_count": 2
        },
        {
         "Date": 1159488000,
         "Note": "5.0",
         "_deepnote_index_column": 1996,
         "avg_sentence_lenght": 20,
         "avg_word_length": 5.185714285714286,
         "binary_note": 1,
         "char_count": 726,
         "key": 1,
         "nombre_bad": 0,
         "nombre_good": 0,
         "sentence_count": 7
        },
        {
         "Date": 1441670400,
         "Note": "5.0",
         "_deepnote_index_column": 1997,
         "avg_sentence_lenght": 11.5,
         "avg_word_length": 4.826086956521739,
         "binary_note": 1,
         "char_count": 111,
         "key": 2,
         "nombre_bad": 0,
         "nombre_good": 0,
         "sentence_count": 2
        },
        {
         "Date": 1514160000,
         "Note": "5.0",
         "_deepnote_index_column": 1998,
         "avg_sentence_lenght": 5.428571428571429,
         "avg_word_length": 4.552631578947368,
         "binary_note": 1,
         "char_count": 173,
         "key": 3,
         "nombre_bad": 0,
         "nombre_good": 0,
         "sentence_count": 7
        },
        {
         "Date": 1266710400,
         "Note": "5.0",
         "_deepnote_index_column": 1999,
         "avg_sentence_lenght": 2,
         "avg_word_length": 4.5,
         "binary_note": 1,
         "char_count": 9,
         "key": 4,
         "nombre_bad": 0,
         "nombre_good": 0,
         "sentence_count": 1
        },
        {
         "Date": 1188604800,
         "Note": "5.0",
         "_deepnote_index_column": 2000,
         "avg_sentence_lenght": 12,
         "avg_word_length": 4.770833333333333,
         "binary_note": 1,
         "char_count": 229,
         "key": 5,
         "nombre_bad": 0,
         "nombre_good": 0,
         "sentence_count": 4
        },
        {
         "Date": 1347321600,
         "Note": "5.0",
         "_deepnote_index_column": 2001,
         "avg_sentence_lenght": 3.6666666666666665,
         "avg_word_length": 5.454545454545454,
         "binary_note": 1,
         "char_count": 60,
         "key": 6,
         "nombre_bad": 0,
         "nombre_good": 0,
         "sentence_count": 3
        },
        {
         "Date": 1347840000,
         "Note": "5.0",
         "_deepnote_index_column": 2002,
         "avg_sentence_lenght": 13.75,
         "avg_word_length": 5.2,
         "binary_note": 1,
         "char_count": 286,
         "key": 7,
         "nombre_bad": 0,
         "nombre_good": 0,
         "sentence_count": 4
        },
        {
         "Date": 1386633600,
         "Note": "5.0",
         "_deepnote_index_column": 2003,
         "avg_sentence_lenght": 46,
         "avg_word_length": 4.608695652173913,
         "binary_note": 1,
         "char_count": 212,
         "key": 8,
         "nombre_bad": 0,
         "nombre_good": 0,
         "sentence_count": 1
        },
        {
         "Date": 1396742400,
         "Note": "5.0",
         "_deepnote_index_column": 2004,
         "avg_sentence_lenght": 29,
         "avg_word_length": 4.862068965517241,
         "binary_note": 1,
         "char_count": 141,
         "key": 9,
         "nombre_bad": 0,
         "nombre_good": 0,
         "sentence_count": 1
        },
        {
         "Date": 1407196800,
         "Note": "5.0",
         "_deepnote_index_column": 2005,
         "avg_sentence_lenght": 16,
         "avg_word_length": 4.625,
         "binary_note": 1,
         "char_count": 148,
         "key": 10,
         "nombre_bad": 0,
         "nombre_good": 0,
         "sentence_count": 2
        },
        {
         "Date": 1410825600,
         "Note": "5.0",
         "_deepnote_index_column": 2006,
         "avg_sentence_lenght": 8.5,
         "avg_word_length": 5.235294117647059,
         "binary_note": 1,
         "char_count": 89,
         "key": 11,
         "nombre_bad": 0,
         "nombre_good": 0,
         "sentence_count": 2
        },
        {
         "Date": 1422230400,
         "Note": "4.0",
         "_deepnote_index_column": 2007,
         "avg_sentence_lenght": 5.5,
         "avg_word_length": 4.636363636363637,
         "binary_note": 0,
         "char_count": 51,
         "key": 12,
         "nombre_bad": 0,
         "nombre_good": 0,
         "sentence_count": 2
        },
        {
         "Date": 1431302400,
         "Note": "5.0",
         "_deepnote_index_column": 2008,
         "avg_sentence_lenght": 10.333333333333334,
         "avg_word_length": 5.559139784946237,
         "binary_note": 1,
         "char_count": 517,
         "key": 13,
         "nombre_bad": 0,
         "nombre_good": 0,
         "sentence_count": 9
        }
       ],
       "rows_top": [
        {
         "Date": 1365379200,
         "Note": "5.0",
         "_deepnote_index_column": 0,
         "avg_sentence_lenght": 15.68,
         "avg_word_length": 4.525510204081633,
         "binary_note": 1,
         "char_count": 1774,
         "key": 0,
         "nombre_bad": 10,
         "nombre_good": 155,
         "sentence_count": 25
        },
        {
         "Date": 1564012800,
         "Note": "4.5",
         "_deepnote_index_column": 1,
         "avg_sentence_lenght": 17.727272727272727,
         "avg_word_length": 5.512820512820513,
         "binary_note": 1,
         "char_count": 1075,
         "key": 1,
         "nombre_bad": 3,
         "nombre_good": 42,
         "sentence_count": 11
        },
        {
         "Date": 1405641600,
         "Note": "5.0",
         "_deepnote_index_column": 2,
         "avg_sentence_lenght": 19.01851851851852,
         "avg_word_length": 4.556962025316456,
         "binary_note": 1,
         "char_count": 4680,
         "key": 2,
         "nombre_bad": 4,
         "nombre_good": 39,
         "sentence_count": 54
        },
        {
         "Date": 1276387200,
         "Note": "5.0",
         "_deepnote_index_column": 3,
         "avg_sentence_lenght": 13.666666666666666,
         "avg_word_length": 5.109756097560975,
         "binary_note": 1,
         "char_count": 419,
         "key": 3,
         "nombre_bad": 5,
         "nombre_good": 46,
         "sentence_count": 6
        },
        {
         "Date": 1408320000,
         "Note": "5.0",
         "_deepnote_index_column": 4,
         "avg_sentence_lenght": 19.46875,
         "avg_word_length": 4.123595505617978,
         "binary_note": 1,
         "char_count": 2569,
         "key": 4,
         "nombre_bad": 3,
         "nombre_good": 28,
         "sentence_count": 32
        },
        {
         "Date": 1355356800,
         "Note": "5.0",
         "_deepnote_index_column": 5,
         "avg_sentence_lenght": 18.5,
         "avg_word_length": 4.925675675675675,
         "binary_note": 1,
         "char_count": 729,
         "key": 5,
         "nombre_bad": 2,
         "nombre_good": 23,
         "sentence_count": 8
        },
        {
         "Date": 1402704000,
         "Note": "4.5",
         "_deepnote_index_column": 6,
         "avg_sentence_lenght": 20.23076923076923,
         "avg_word_length": 5.110266159695818,
         "binary_note": 1,
         "char_count": 1344,
         "key": 6,
         "nombre_bad": 0,
         "nombre_good": 17,
         "sentence_count": 13
        },
        {
         "Date": 1352419200,
         "Note": "5.0",
         "_deepnote_index_column": 7,
         "avg_sentence_lenght": 46.38461538461539,
         "avg_word_length": 4.7164179104477615,
         "binary_note": 1,
         "char_count": 2844,
         "key": 7,
         "nombre_bad": 6,
         "nombre_good": 27,
         "sentence_count": 13
        },
        {
         "Date": 1410739200,
         "Note": "5.0",
         "_deepnote_index_column": 8,
         "avg_sentence_lenght": 8.5,
         "avg_word_length": 3.8823529411764706,
         "binary_note": 1,
         "char_count": 66,
         "key": 8,
         "nombre_bad": 3,
         "nombre_good": 19,
         "sentence_count": 2
        },
        {
         "Date": 1316390400,
         "Note": "5.0",
         "_deepnote_index_column": 9,
         "avg_sentence_lenght": 9.285714285714286,
         "avg_word_length": 6.138461538461539,
         "binary_note": 1,
         "char_count": 1197,
         "key": 9,
         "nombre_bad": 3,
         "nombre_good": 12,
         "sentence_count": 21
        },
        {
         "Date": 1410480000,
         "Note": "5.0",
         "_deepnote_index_column": 10,
         "avg_sentence_lenght": 8.764705882352942,
         "avg_word_length": 5.140939597315437,
         "binary_note": 1,
         "char_count": 766,
         "key": 10,
         "nombre_bad": 26,
         "nombre_good": 51,
         "sentence_count": 17
        },
        {
         "Date": 1378425600,
         "Note": "5.0",
         "_deepnote_index_column": 11,
         "avg_sentence_lenght": 22.4,
         "avg_word_length": 5.553571428571429,
         "binary_note": 1,
         "char_count": 622,
         "key": 11,
         "nombre_bad": 5,
         "nombre_good": 16,
         "sentence_count": 5
        },
        {
         "Date": 1333929600,
         "Note": "5.0",
         "_deepnote_index_column": 12,
         "avg_sentence_lenght": 19.333333333333332,
         "avg_word_length": 5.827586206896552,
         "binary_note": 1,
         "char_count": 338,
         "key": 12,
         "nombre_bad": 1,
         "nombre_good": 8,
         "sentence_count": 3
        },
        {
         "Date": 1441843200,
         "Note": "5.0",
         "_deepnote_index_column": 13,
         "avg_sentence_lenght": 17.666666666666668,
         "avg_word_length": 4.679245283018868,
         "binary_note": 1,
         "char_count": 248,
         "key": 0,
         "nombre_bad": 0,
         "nombre_good": 8,
         "sentence_count": 3
        },
        {
         "Date": 1374796800,
         "Note": "5.0",
         "_deepnote_index_column": 14,
         "avg_sentence_lenght": 23,
         "avg_word_length": 4.6521739130434785,
         "binary_note": 1,
         "char_count": 107,
         "key": 1,
         "nombre_bad": 2,
         "nombre_good": 9,
         "sentence_count": 1
        },
        {
         "Date": 1376006400,
         "Note": "4.5",
         "_deepnote_index_column": 15,
         "avg_sentence_lenght": 16.5,
         "avg_word_length": 4.787878787878788,
         "binary_note": 1,
         "char_count": 158,
         "key": 2,
         "nombre_bad": 2,
         "nombre_good": 10,
         "sentence_count": 2
        },
        {
         "Date": 1443744000,
         "Note": "5.0",
         "_deepnote_index_column": 16,
         "avg_sentence_lenght": 44.333333333333336,
         "avg_word_length": 5.353383458646617,
         "binary_note": 1,
         "char_count": 1424,
         "key": 3,
         "nombre_bad": 0,
         "nombre_good": 7,
         "sentence_count": 6
        },
        {
         "Date": 1418428800,
         "Note": "4.0",
         "_deepnote_index_column": 17,
         "avg_sentence_lenght": 11.333333333333334,
         "avg_word_length": 5.588235294117647,
         "binary_note": 0,
         "char_count": 380,
         "key": 4,
         "nombre_bad": 2,
         "nombre_good": 7,
         "sentence_count": 6
        },
        {
         "Date": 1344643200,
         "Note": "4.0",
         "_deepnote_index_column": 18,
         "avg_sentence_lenght": 9.666666666666666,
         "avg_word_length": 5.896551724137931,
         "binary_note": 0,
         "char_count": 171,
         "key": 5,
         "nombre_bad": 2,
         "nombre_good": 7,
         "sentence_count": 3
        },
        {
         "Date": 1461974400,
         "Note": "4.5",
         "_deepnote_index_column": 19,
         "avg_sentence_lenght": 10.5,
         "avg_word_length": 4.746031746031746,
         "binary_note": 1,
         "char_count": 299,
         "key": 6,
         "nombre_bad": 0,
         "nombre_good": 6,
         "sentence_count": 6
        },
        {
         "Date": 1461542400,
         "Note": "4.0",
         "_deepnote_index_column": 20,
         "avg_sentence_lenght": 25.609756097560975,
         "avg_word_length": 4.58,
         "binary_note": 0,
         "char_count": 4809,
         "key": 7,
         "nombre_bad": 0,
         "nombre_good": 6,
         "sentence_count": 41
        },
        {
         "Date": 1374796800,
         "Note": "4.0",
         "_deepnote_index_column": 21,
         "avg_sentence_lenght": 28.1,
         "avg_word_length": 5.245551601423488,
         "binary_note": 0,
         "char_count": 1474,
         "key": 8,
         "nombre_bad": 3,
         "nombre_good": 7,
         "sentence_count": 10
        },
        {
         "Date": 1396742400,
         "Note": "5.0",
         "_deepnote_index_column": 22,
         "avg_sentence_lenght": 9.333333333333334,
         "avg_word_length": 4.904761904761905,
         "binary_note": 1,
         "char_count": 412,
         "key": 9,
         "nombre_bad": 2,
         "nombre_good": 5,
         "sentence_count": 9
        },
        {
         "Date": 1414627200,
         "Note": "3.5",
         "_deepnote_index_column": 23,
         "avg_sentence_lenght": 9.055555555555555,
         "avg_word_length": 5.0920245398773005,
         "binary_note": 0,
         "char_count": 830,
         "key": 10,
         "nombre_bad": 1,
         "nombre_good": 4,
         "sentence_count": 18
        },
        {
         "Date": 1429315200,
         "Note": "2.5",
         "_deepnote_index_column": 24,
         "avg_sentence_lenght": 24.181818181818183,
         "avg_word_length": 5.026315789473684,
         "binary_note": 0,
         "char_count": 1337,
         "key": 11,
         "nombre_bad": 2,
         "nombre_good": 5,
         "sentence_count": 11
        },
        {
         "Date": 1406160000,
         "Note": "4.5",
         "_deepnote_index_column": 25,
         "avg_sentence_lenght": 53.5,
         "avg_word_length": 5.242990654205608,
         "binary_note": 1,
         "char_count": 561,
         "key": 12,
         "nombre_bad": 0,
         "nombre_good": 5,
         "sentence_count": 2
        },
        {
         "Date": 1367971200,
         "Note": "5.0",
         "_deepnote_index_column": 26,
         "avg_sentence_lenght": 23.214285714285715,
         "avg_word_length": 5.390769230769231,
         "binary_note": 1,
         "char_count": 1752,
         "key": 0,
         "nombre_bad": 5,
         "nombre_good": 7,
         "sentence_count": 14
        },
        {
         "Date": 1343606400,
         "Note": "3.0",
         "_deepnote_index_column": 27,
         "avg_sentence_lenght": 12.875,
         "avg_word_length": 4.378640776699029,
         "binary_note": 0,
         "char_count": 902,
         "key": 1,
         "nombre_bad": 3,
         "nombre_good": 9,
         "sentence_count": 16
        },
        {
         "Date": 1389657600,
         "Note": "5.0",
         "_deepnote_index_column": 28,
         "avg_sentence_lenght": 18.416666666666668,
         "avg_word_length": 4.699095022624435,
         "binary_note": 1,
         "char_count": 2077,
         "key": 2,
         "nombre_bad": 11,
         "nombre_good": 11,
         "sentence_count": 24
        },
        {
         "Date": 1352332800,
         "Note": "3.0",
         "_deepnote_index_column": 29,
         "avg_sentence_lenght": 10,
         "avg_word_length": 5.3,
         "binary_note": 0,
         "char_count": 212,
         "key": 3,
         "nombre_bad": 1,
         "nombre_good": 5,
         "sentence_count": 4
        },
        {
         "Date": 1381104000,
         "Note": "3.5",
         "_deepnote_index_column": 30,
         "avg_sentence_lenght": 9.75,
         "avg_word_length": 5.538461538461538,
         "binary_note": 0,
         "char_count": 432,
         "key": 4,
         "nombre_bad": 0,
         "nombre_good": 7,
         "sentence_count": 8
        },
        {
         "Date": 1385596800,
         "Note": "3.5",
         "_deepnote_index_column": 31,
         "avg_sentence_lenght": 6,
         "avg_word_length": 5.388888888888889,
         "binary_note": 0,
         "char_count": 97,
         "key": 5,
         "nombre_bad": 2,
         "nombre_good": 4,
         "sentence_count": 3
        },
        {
         "Date": 1368057600,
         "Note": "4.5",
         "_deepnote_index_column": 32,
         "avg_sentence_lenght": 11.833333333333334,
         "avg_word_length": 4.436619718309859,
         "binary_note": 1,
         "char_count": 315,
         "key": 6,
         "nombre_bad": 1,
         "nombre_good": 3,
         "sentence_count": 6
        },
        {
         "Date": 1422662400,
         "Note": "3.5",
         "_deepnote_index_column": 33,
         "avg_sentence_lenght": 21.115384615384617,
         "avg_word_length": 5.284153005464481,
         "binary_note": 0,
         "char_count": 2901,
         "key": 7,
         "nombre_bad": 0,
         "nombre_good": 4,
         "sentence_count": 26
        },
        {
         "Date": 1357689600,
         "Note": "5.0",
         "_deepnote_index_column": 34,
         "avg_sentence_lenght": 12,
         "avg_word_length": 4.666666666666667,
         "binary_note": 1,
         "char_count": 56,
         "key": 8,
         "nombre_bad": 1,
         "nombre_good": 3,
         "sentence_count": 1
        },
        {
         "Date": 1378512000,
         "Note": "4.0",
         "_deepnote_index_column": 35,
         "avg_sentence_lenght": 11.833333333333334,
         "avg_word_length": 5.028169014084507,
         "binary_note": 0,
         "char_count": 357,
         "key": 9,
         "nombre_bad": 0,
         "nombre_good": 4,
         "sentence_count": 6
        },
        {
         "Date": 1590883200,
         "Note": "5.0",
         "_deepnote_index_column": 36,
         "avg_sentence_lenght": 30.5,
         "avg_word_length": 4.942622950819672,
         "binary_note": 1,
         "char_count": 603,
         "key": 10,
         "nombre_bad": 1,
         "nombre_good": 3,
         "sentence_count": 4
        },
        {
         "Date": 1496966400,
         "Note": "5.0",
         "_deepnote_index_column": 37,
         "avg_sentence_lenght": 10.75,
         "avg_word_length": 5.232558139534884,
         "binary_note": 1,
         "char_count": 225,
         "key": 11,
         "nombre_bad": 0,
         "nombre_good": 4,
         "sentence_count": 4
        },
        {
         "Date": 1396051200,
         "Note": "5.0",
         "_deepnote_index_column": 38,
         "avg_sentence_lenght": 8.666666666666666,
         "avg_word_length": 5.846153846153846,
         "binary_note": 1,
         "char_count": 152,
         "key": 12,
         "nombre_bad": 1,
         "nombre_good": 3,
         "sentence_count": 3
        },
        {
         "Date": 1221782400,
         "Note": "5.0",
         "_deepnote_index_column": 39,
         "avg_sentence_lenght": 15.75,
         "avg_word_length": 4.645502645502646,
         "binary_note": 1,
         "char_count": 878,
         "key": 13,
         "nombre_bad": 0,
         "nombre_good": 4,
         "sentence_count": 12
        },
        {
         "Date": 1371168000,
         "Note": "2.0",
         "_deepnote_index_column": 40,
         "avg_sentence_lenght": 25.428571428571427,
         "avg_word_length": 4.685393258426966,
         "binary_note": 0,
         "char_count": 834,
         "key": 14,
         "nombre_bad": 20,
         "nombre_good": 14,
         "sentence_count": 7
        },
        {
         "Date": 1308960000,
         "Note": "5.0",
         "_deepnote_index_column": 41,
         "avg_sentence_lenght": 12.6,
         "avg_word_length": 5.2936507936507935,
         "binary_note": 1,
         "char_count": 667,
         "key": 0,
         "nombre_bad": 1,
         "nombre_good": 3,
         "sentence_count": 10
        },
        {
         "Date": 1388707200,
         "Note": "4.0",
         "_deepnote_index_column": 42,
         "avg_sentence_lenght": 46.333333333333336,
         "avg_word_length": 4.676258992805756,
         "binary_note": 0,
         "char_count": 650,
         "key": 1,
         "nombre_bad": 2,
         "nombre_good": 3,
         "sentence_count": 3
        },
        {
         "Date": 1352332800,
         "Note": "3.0",
         "_deepnote_index_column": 43,
         "avg_sentence_lenght": 21.8,
         "avg_word_length": 4.944954128440367,
         "binary_note": 0,
         "char_count": 1617,
         "key": 2,
         "nombre_bad": 4,
         "nombre_good": 4,
         "sentence_count": 15
        },
        {
         "Date": 1317081600,
         "Note": "5.0",
         "_deepnote_index_column": 44,
         "avg_sentence_lenght": 23.666666666666668,
         "avg_word_length": 4.985915492957746,
         "binary_note": 1,
         "char_count": 354,
         "key": 3,
         "nombre_bad": 2,
         "nombre_good": 3,
         "sentence_count": 3
        },
        {
         "Date": 1442188800,
         "Note": "5.0",
         "_deepnote_index_column": 45,
         "avg_sentence_lenght": 14.5,
         "avg_word_length": 3.793103448275862,
         "binary_note": 1,
         "char_count": 330,
         "key": 4,
         "nombre_bad": 2,
         "nombre_good": 3,
         "sentence_count": 6
        },
        {
         "Date": 1371686400,
         "Note": "5.0",
         "_deepnote_index_column": 46,
         "avg_sentence_lenght": 44.333333333333336,
         "avg_word_length": 4.887218045112782,
         "binary_note": 1,
         "char_count": 650,
         "key": 5,
         "nombre_bad": 1,
         "nombre_good": 3,
         "sentence_count": 3
        },
        {
         "Date": 1342656000,
         "Note": "4.5",
         "_deepnote_index_column": 47,
         "avg_sentence_lenght": 4.666666666666667,
         "avg_word_length": 5.142857142857143,
         "binary_note": 1,
         "char_count": 72,
         "key": 6,
         "nombre_bad": 1,
         "nombre_good": 2,
         "sentence_count": 3
        },
        {
         "Date": 1410307200,
         "Note": "5.0",
         "_deepnote_index_column": 48,
         "avg_sentence_lenght": 11.25,
         "avg_word_length": 4.955555555555556,
         "binary_note": 1,
         "char_count": 669,
         "key": 7,
         "nombre_bad": 0,
         "nombre_good": 3,
         "sentence_count": 12
        },
        {
         "Date": 1161475200,
         "Note": "5.0",
         "_deepnote_index_column": 49,
         "avg_sentence_lenght": 6.4,
         "avg_word_length": 6.03125,
         "binary_note": 1,
         "char_count": 193,
         "key": 8,
         "nombre_bad": 1,
         "nombre_good": 2,
         "sentence_count": 5
        }
       ]
      },
      "text/html": [
       "<div>\n",
       "<style scoped>\n",
       "    .dataframe tbody tr th:only-of-type {\n",
       "        vertical-align: middle;\n",
       "    }\n",
       "\n",
       "    .dataframe tbody tr th {\n",
       "        vertical-align: top;\n",
       "    }\n",
       "\n",
       "    .dataframe thead th {\n",
       "        text-align: right;\n",
       "    }\n",
       "</style>\n",
       "<table border=\"1\" class=\"dataframe\">\n",
       "  <thead>\n",
       "    <tr style=\"text-align: right;\">\n",
       "      <th></th>\n",
       "      <th>Note</th>\n",
       "      <th>Date</th>\n",
       "      <th>key</th>\n",
       "      <th>nombre_good</th>\n",
       "      <th>nombre_bad</th>\n",
       "      <th>binary_note</th>\n",
       "      <th>char_count</th>\n",
       "      <th>sentence_count</th>\n",
       "      <th>avg_word_length</th>\n",
       "      <th>avg_sentence_lenght</th>\n",
       "    </tr>\n",
       "  </thead>\n",
       "  <tbody>\n",
       "    <tr>\n",
       "      <th>0</th>\n",
       "      <td>5.0</td>\n",
       "      <td>1.365379e+09</td>\n",
       "      <td>0</td>\n",
       "      <td>155</td>\n",
       "      <td>10</td>\n",
       "      <td>1</td>\n",
       "      <td>1774</td>\n",
       "      <td>25</td>\n",
       "      <td>4.525510</td>\n",
       "      <td>15.680000</td>\n",
       "    </tr>\n",
       "    <tr>\n",
       "      <th>1</th>\n",
       "      <td>4.5</td>\n",
       "      <td>1.564013e+09</td>\n",
       "      <td>1</td>\n",
       "      <td>42</td>\n",
       "      <td>3</td>\n",
       "      <td>1</td>\n",
       "      <td>1075</td>\n",
       "      <td>11</td>\n",
       "      <td>5.512821</td>\n",
       "      <td>17.727273</td>\n",
       "    </tr>\n",
       "    <tr>\n",
       "      <th>2</th>\n",
       "      <td>5.0</td>\n",
       "      <td>1.405642e+09</td>\n",
       "      <td>2</td>\n",
       "      <td>39</td>\n",
       "      <td>4</td>\n",
       "      <td>1</td>\n",
       "      <td>4680</td>\n",
       "      <td>54</td>\n",
       "      <td>4.556962</td>\n",
       "      <td>19.018519</td>\n",
       "    </tr>\n",
       "    <tr>\n",
       "      <th>3</th>\n",
       "      <td>5.0</td>\n",
       "      <td>1.276387e+09</td>\n",
       "      <td>3</td>\n",
       "      <td>46</td>\n",
       "      <td>5</td>\n",
       "      <td>1</td>\n",
       "      <td>419</td>\n",
       "      <td>6</td>\n",
       "      <td>5.109756</td>\n",
       "      <td>13.666667</td>\n",
       "    </tr>\n",
       "    <tr>\n",
       "      <th>4</th>\n",
       "      <td>5.0</td>\n",
       "      <td>1.408320e+09</td>\n",
       "      <td>4</td>\n",
       "      <td>28</td>\n",
       "      <td>3</td>\n",
       "      <td>1</td>\n",
       "      <td>2569</td>\n",
       "      <td>32</td>\n",
       "      <td>4.123596</td>\n",
       "      <td>19.468750</td>\n",
       "    </tr>\n",
       "    <tr>\n",
       "      <th>...</th>\n",
       "      <td>...</td>\n",
       "      <td>...</td>\n",
       "      <td>...</td>\n",
       "      <td>...</td>\n",
       "      <td>...</td>\n",
       "      <td>...</td>\n",
       "      <td>...</td>\n",
       "      <td>...</td>\n",
       "      <td>...</td>\n",
       "      <td>...</td>\n",
       "    </tr>\n",
       "    <tr>\n",
       "      <th>2004</th>\n",
       "      <td>5.0</td>\n",
       "      <td>1.396742e+09</td>\n",
       "      <td>9</td>\n",
       "      <td>0</td>\n",
       "      <td>0</td>\n",
       "      <td>1</td>\n",
       "      <td>141</td>\n",
       "      <td>1</td>\n",
       "      <td>4.862069</td>\n",
       "      <td>29.000000</td>\n",
       "    </tr>\n",
       "    <tr>\n",
       "      <th>2005</th>\n",
       "      <td>5.0</td>\n",
       "      <td>1.407197e+09</td>\n",
       "      <td>10</td>\n",
       "      <td>0</td>\n",
       "      <td>0</td>\n",
       "      <td>1</td>\n",
       "      <td>148</td>\n",
       "      <td>2</td>\n",
       "      <td>4.625000</td>\n",
       "      <td>16.000000</td>\n",
       "    </tr>\n",
       "    <tr>\n",
       "      <th>2006</th>\n",
       "      <td>5.0</td>\n",
       "      <td>1.410826e+09</td>\n",
       "      <td>11</td>\n",
       "      <td>0</td>\n",
       "      <td>0</td>\n",
       "      <td>1</td>\n",
       "      <td>89</td>\n",
       "      <td>2</td>\n",
       "      <td>5.235294</td>\n",
       "      <td>8.500000</td>\n",
       "    </tr>\n",
       "    <tr>\n",
       "      <th>2007</th>\n",
       "      <td>4.0</td>\n",
       "      <td>1.422230e+09</td>\n",
       "      <td>12</td>\n",
       "      <td>0</td>\n",
       "      <td>0</td>\n",
       "      <td>0</td>\n",
       "      <td>51</td>\n",
       "      <td>2</td>\n",
       "      <td>4.636364</td>\n",
       "      <td>5.500000</td>\n",
       "    </tr>\n",
       "    <tr>\n",
       "      <th>2008</th>\n",
       "      <td>5.0</td>\n",
       "      <td>1.431302e+09</td>\n",
       "      <td>13</td>\n",
       "      <td>0</td>\n",
       "      <td>0</td>\n",
       "      <td>1</td>\n",
       "      <td>517</td>\n",
       "      <td>9</td>\n",
       "      <td>5.559140</td>\n",
       "      <td>10.333333</td>\n",
       "    </tr>\n",
       "  </tbody>\n",
       "</table>\n",
       "<p>2009 rows × 10 columns</p>\n",
       "</div>"
      ],
      "text/plain": [
       "     Note          Date  key  nombre_good  nombre_bad  binary_note  \\\n",
       "0     5.0  1.365379e+09    0          155          10            1   \n",
       "1     4.5  1.564013e+09    1           42           3            1   \n",
       "2     5.0  1.405642e+09    2           39           4            1   \n",
       "3     5.0  1.276387e+09    3           46           5            1   \n",
       "4     5.0  1.408320e+09    4           28           3            1   \n",
       "...   ...           ...  ...          ...         ...          ...   \n",
       "2004  5.0  1.396742e+09    9            0           0            1   \n",
       "2005  5.0  1.407197e+09   10            0           0            1   \n",
       "2006  5.0  1.410826e+09   11            0           0            1   \n",
       "2007  4.0  1.422230e+09   12            0           0            0   \n",
       "2008  5.0  1.431302e+09   13            0           0            1   \n",
       "\n",
       "      char_count  sentence_count  avg_word_length  avg_sentence_lenght  \n",
       "0           1774              25         4.525510            15.680000  \n",
       "1           1075              11         5.512821            17.727273  \n",
       "2           4680              54         4.556962            19.018519  \n",
       "3            419               6         5.109756            13.666667  \n",
       "4           2569              32         4.123596            19.468750  \n",
       "...          ...             ...              ...                  ...  \n",
       "2004         141               1         4.862069            29.000000  \n",
       "2005         148               2         4.625000            16.000000  \n",
       "2006          89               2         5.235294             8.500000  \n",
       "2007          51               2         4.636364             5.500000  \n",
       "2008         517               9         5.559140            10.333333  \n",
       "\n",
       "[2009 rows x 10 columns]"
      ]
     },
     "execution_count": 224,
     "metadata": {},
     "output_type": "execute_result"
    }
   ],
   "source": [
    "df_word_count"
   ]
  },
  {
   "cell_type": "code",
   "execution_count": 234,
   "metadata": {
    "cell_id": "00028-b3e90d2b-2187-47b4-a02e-8a82a8bbd854",
    "deepnote_cell_type": "code",
    "deepnote_to_be_reexecuted": false,
    "execution_millis": 85,
    "execution_start": 1620224748095,
    "source_hash": "9f533c6c",
    "tags": []
   },
   "outputs": [
    {
     "data": {
      "text/plain": [
       "0.9945986891679065"
      ]
     },
     "execution_count": 234,
     "metadata": {},
     "output_type": "execute_result"
    }
   ],
   "source": [
    "linear_regressor_1 = LinearRegression()\n",
    "linear_regressor_1.fit(df_word_count, word_count)\n",
    "y1_pred = linear_regressor_1.predict(df_word_count)\n",
    "beta1_0 = linear_regressor_1.intercept_\n",
    "beta1_1 = linear_regressor_1.coef_\n",
    "linear_regressor_1.score(df_word_count, word_count)"
   ]
  }
 ],
 "metadata": {
  "deepnote": {
   "is_reactive": false
  },
  "deepnote_execution_queue": [],
  "deepnote_notebook_id": "74f52675-ea71-466a-94f8-38b46743a66f",
  "kernelspec": {
   "display_name": "Python 3",
   "language": "python",
   "name": "python3"
  },
  "language_info": {
   "codemirror_mode": {
    "name": "ipython",
    "version": 3
   },
   "file_extension": ".py",
   "mimetype": "text/x-python",
   "name": "python",
   "nbconvert_exporter": "python",
   "pygments_lexer": "ipython3",
   "version": "3.7.8"
  }
 },
 "nbformat": 4,
 "nbformat_minor": 4
}
